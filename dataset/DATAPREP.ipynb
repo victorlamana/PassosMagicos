{
 "cells": [
  {
   "metadata": {},
   "cell_type": "markdown",
   "source": "# Preparação dos Dados",
   "id": "ea68928fd9317ade"
  },
  {
   "metadata": {},
   "cell_type": "markdown",
   "source": "## Imports e Inicialização",
   "id": "d3cdca494f8d193d"
  },
  {
   "metadata": {
    "ExecuteTime": {
     "end_time": "2024-08-13T23:01:40.901497Z",
     "start_time": "2024-08-13T23:01:40.896493Z"
    }
   },
   "cell_type": "code",
   "source": "#pip install pandas numpy matplotlib plotly nbformat",
   "id": "b514b0e67911d832",
   "execution_count": 488,
   "outputs": []
  },
  {
   "cell_type": "code",
   "id": "initial_id",
   "metadata": {
    "collapsed": true,
    "ExecuteTime": {
     "end_time": "2024-08-13T23:01:41.433096Z",
     "start_time": "2024-08-13T23:01:41.354947Z"
    }
   },
   "source": [
    "import pandas as pd\n",
    "import numpy as np\n",
    "import matplotlib.pyplot as plt\n",
    "import matplotlib.ticker as ticker\n",
    "import plotly.express as px\n",
    "import plotly.graph_objects as go\n",
    "from plotly.subplots import make_subplots\n",
    "\n",
    "file_path = './PEDE_PASSOS_DATASET_FIAP.csv'\n",
    "pd.set_option('display.max_columns', None)\n",
    "pd.options.mode.copy_on_write = True\n",
    "df_original = pd.read_csv(file_path, delimiter=';')"
   ],
   "execution_count": 489,
   "outputs": []
  },
  {
   "metadata": {
    "ExecuteTime": {
     "end_time": "2024-08-13T23:01:41.508110Z",
     "start_time": "2024-08-13T23:01:41.436101Z"
    }
   },
   "cell_type": "code",
   "source": "df_original.head(3)",
   "id": "ae79a7fe1536da38",
   "execution_count": 490,
   "outputs": []
  },
  {
   "metadata": {},
   "cell_type": "markdown",
   "source": "### Ajustes e Transformações",
   "id": "5ee30a0fe0514590"
  },
  {
   "metadata": {},
   "cell_type": "markdown",
   "source": "Primeiramente, vamos separar os dados da coluna 'FASE_TURMA_2020' em duas colunas: 'FASE_2020' e 'TURMA_2020'",
   "id": "78ccf9f40c2bec62"
  },
  {
   "metadata": {
    "ExecuteTime": {
     "end_time": "2024-08-13T23:01:41.692592Z",
     "start_time": "2024-08-13T23:01:41.679923Z"
    }
   },
   "cell_type": "code",
   "source": [
    "df_original[['FASE_2020', 'TURMA_2020']] = df_original['FASE_TURMA_2020'].str.extract(r'(.{1})(.{1})')\n",
    "df_original.drop('FASE_TURMA_2020', axis=1, inplace=True)"
   ],
   "id": "1f076caf444127f4",
   "execution_count": 491,
   "outputs": []
  },
  {
   "metadata": {
    "ExecuteTime": {
     "end_time": "2024-08-13T23:01:41.764991Z",
     "start_time": "2024-08-13T23:01:41.756622Z"
    }
   },
   "cell_type": "code",
   "source": [
    "df_original['ID_ALUNO']=df_original['NOME'].str.split('-').str[1].astype(int)\n",
    "#df_original.set_index('ID_ALUNO', inplace=True)\n",
    "#df_original.drop('NOME', axis=1, inplace=True)"
   ],
   "id": "2d123a1eace38494",
   "execution_count": 492,
   "outputs": []
  },
  {
   "metadata": {
    "ExecuteTime": {
     "end_time": "2024-08-13T23:01:41.931646Z",
     "start_time": "2024-08-13T23:01:41.881779Z"
    }
   },
   "cell_type": "code",
   "source": "df_original.head()",
   "id": "d3f050e5ee5e13c9",
   "execution_count": 493,
   "outputs": []
  },
  {
   "metadata": {
    "ExecuteTime": {
     "end_time": "2024-08-13T23:01:42.030347Z",
     "start_time": "2024-08-13T23:01:42.021198Z"
    }
   },
   "cell_type": "code",
   "source": "df_original.columns",
   "id": "efb66763e168f41e",
   "execution_count": 494,
   "outputs": []
  },
  {
   "metadata": {},
   "cell_type": "markdown",
   "source": "Para facilitar a análise dos dados, vamos selecionar apenas as colunas que são comuns a todos os anos.",
   "id": "9011a2233fb65aa4"
  },
  {
   "metadata": {
    "ExecuteTime": {
     "end_time": "2024-08-13T23:01:42.947204Z",
     "start_time": "2024-08-13T23:01:42.886899Z"
    }
   },
   "cell_type": "code",
   "source": [
    "df_novo = df_original[['ID_ALUNO','NOME','FASE_2020','TURMA_2020','PONTO_VIRADA_2020','INDE_2020','PEDRA_2020','IAA_2020','IEG_2020','IPS_2020','IDA_2020','IPP_2020','IPV_2020','IAN_2020',\n",
    "'FASE_2021','TURMA_2021','PONTO_VIRADA_2021','INDE_2021','PEDRA_2021','IAA_2021','IEG_2021','IPS_2021','IDA_2021','IPP_2021','IPV_2021','IAN_2021',\n",
    "'FASE_2022','TURMA_2022','PONTO_VIRADA_2022','INDE_2022','PEDRA_2022','IAA_2022','IEG_2022','IPS_2022','IDA_2022','IPP_2022','IPV_2022','IAN_2022']]\n",
    "df_novo"
   ],
   "id": "5ddfaadb8652c921",
   "execution_count": 495,
   "outputs": []
  },
  {
   "metadata": {},
   "cell_type": "markdown",
   "source": "Observa-se que temos colunas atribuidas por ano, vamos separar esse DataFrame em 3 DataFrames por colunas referentes a cada ano, usando o \"ID_ALUNO\" e o \"NOME\" como chave",
   "id": "1dc6b8ad4105a918"
  },
  {
   "metadata": {
    "ExecuteTime": {
     "end_time": "2024-08-13T23:01:43.786342Z",
     "start_time": "2024-08-13T23:01:43.769264Z"
    }
   },
   "cell_type": "code",
   "source": [
    "df_2020 = pd.concat([df_novo[['ID_ALUNO','NOME']], df_novo.filter(regex='_2020')], axis=1)\n",
    "df_2021 = pd.concat([df_novo[['ID_ALUNO','NOME']], df_novo.filter(regex='_2021')], axis=1)\n",
    "df_2022 = pd.concat([df_novo[['ID_ALUNO','NOME']], df_novo.filter(regex='_2022')], axis=1)"
   ],
   "id": "ed1ed0d04bce45f7",
   "execution_count": 496,
   "outputs": []
  },
  {
   "metadata": {},
   "cell_type": "markdown",
   "source": "Agora iremos retirar as linhas que possuem somente valores nulos (NaN)",
   "id": "d536044770bb15f7"
  },
  {
   "metadata": {
    "ExecuteTime": {
     "end_time": "2024-08-13T23:01:44.022286Z",
     "start_time": "2024-08-13T23:01:44.007428Z"
    }
   },
   "cell_type": "code",
   "source": [
    "df_2020_filtrado = df_2020[df_2020['FASE_2020'].notnull()]\n",
    "df_2021_filtrado = df_2021[df_2021['FASE_2021'].notnull()]\n",
    "df_2022_filtrado = df_2022[df_2022['FASE_2022'].notnull()]"
   ],
   "id": "3ca78791c0c19b35",
   "execution_count": 497,
   "outputs": []
  },
  {
   "metadata": {},
   "cell_type": "markdown",
   "source": "Agora vamos remover o sufixo das colunas e criar uma nova coluna 'ANO_PESQUISA'",
   "id": "372d154bc169c53"
  },
  {
   "metadata": {
    "ExecuteTime": {
     "end_time": "2024-08-13T23:01:44.848942Z",
     "start_time": "2024-08-13T23:01:44.839925Z"
    }
   },
   "cell_type": "code",
   "source": [
    "df_2020_filtrado.columns = df_2020_filtrado.columns.str.removesuffix(\"_2020\")\n",
    "df_2021_filtrado.columns = df_2021_filtrado.columns.str.removesuffix(\"_2021\")\n",
    "df_2022_filtrado.columns = df_2022_filtrado.columns.str.removesuffix(\"_2022\")\n"
   ],
   "id": "dd5464485a8795a6",
   "execution_count": 498,
   "outputs": []
  },
  {
   "metadata": {
    "ExecuteTime": {
     "end_time": "2024-08-13T23:01:44.996509Z",
     "start_time": "2024-08-13T23:01:44.989387Z"
    }
   },
   "cell_type": "code",
   "source": [
    "df_2020_filtrado.insert(loc=0, column='ANO_PESQUISA', value=2020)\n",
    "df_2021_filtrado.insert(loc=0, column='ANO_PESQUISA', value=2021)\n",
    "df_2022_filtrado.insert(loc=0, column='ANO_PESQUISA', value=2022)"
   ],
   "id": "ec41fb1400a2839",
   "execution_count": 499,
   "outputs": []
  },
  {
   "metadata": {
    "ExecuteTime": {
     "end_time": "2024-08-13T23:01:45.438787Z",
     "start_time": "2024-08-13T23:01:45.432375Z"
    }
   },
   "cell_type": "code",
   "source": [
    "print(df_2020_filtrado.columns)\n",
    "print(df_2021_filtrado.columns)\n",
    "print(df_2022_filtrado.columns)"
   ],
   "id": "f3075aaafb9f6019",
   "execution_count": 500,
   "outputs": []
  },
  {
   "metadata": {
    "ExecuteTime": {
     "end_time": "2024-08-13T23:01:45.536409Z",
     "start_time": "2024-08-13T23:01:45.522200Z"
    }
   },
   "cell_type": "code",
   "source": "df_2020_filtrado.info()",
   "id": "71e6b1ae309598f9",
   "execution_count": 501,
   "outputs": []
  },
  {
   "metadata": {
    "ExecuteTime": {
     "end_time": "2024-08-13T23:01:45.604778Z",
     "start_time": "2024-08-13T23:01:45.597415Z"
    }
   },
   "cell_type": "code",
   "source": "df_final = pd.concat([df_2020_filtrado, df_2021_filtrado, df_2022_filtrado], axis=0, ignore_index=True)",
   "id": "99f76e76eff0974e",
   "execution_count": 502,
   "outputs": []
  },
  {
   "metadata": {
    "ExecuteTime": {
     "end_time": "2024-08-13T23:01:45.648385Z",
     "start_time": "2024-08-13T23:01:45.630062Z"
    }
   },
   "cell_type": "code",
   "source": "df_final",
   "id": "8e6f28221a0217ff",
   "execution_count": 503,
   "outputs": []
  },
  {
   "metadata": {
    "ExecuteTime": {
     "end_time": "2024-08-13T23:01:45.732007Z",
     "start_time": "2024-08-13T23:01:45.719397Z"
    }
   },
   "cell_type": "code",
   "source": "df_final.info()",
   "id": "98b2d9f94c85d028",
   "execution_count": 504,
   "outputs": []
  },
  {
   "metadata": {
    "ExecuteTime": {
     "end_time": "2024-08-13T23:01:45.842107Z",
     "start_time": "2024-08-13T23:01:45.834053Z"
    }
   },
   "cell_type": "code",
   "source": "df_final.iloc[680]",
   "id": "710318d4c3ef292c",
   "execution_count": 505,
   "outputs": []
  },
  {
   "metadata": {
    "ExecuteTime": {
     "end_time": "2024-08-13T23:01:45.920442Z",
     "start_time": "2024-08-13T23:01:45.914155Z"
    }
   },
   "cell_type": "code",
   "source": "df_final.drop(680, inplace=True)",
   "id": "1ab901f014ddb48d",
   "execution_count": 506,
   "outputs": []
  },
  {
   "metadata": {
    "ExecuteTime": {
     "end_time": "2024-08-13T23:01:45.997785Z",
     "start_time": "2024-08-13T23:01:45.989710Z"
    }
   },
   "cell_type": "code",
   "source": "df_final.iloc[759]",
   "id": "4f46b9fd5daa8e5e",
   "execution_count": 507,
   "outputs": []
  },
  {
   "metadata": {
    "ExecuteTime": {
     "end_time": "2024-08-13T23:01:46.314513Z",
     "start_time": "2024-08-13T23:01:46.303901Z"
    }
   },
   "cell_type": "code",
   "source": "df_final.replace('#NULO!', np.nan, inplace=True)",
   "id": "5796945974bf5887",
   "execution_count": 508,
   "outputs": []
  },
  {
   "metadata": {
    "ExecuteTime": {
     "end_time": "2024-08-13T23:01:46.375395Z",
     "start_time": "2024-08-13T23:01:46.364526Z"
    }
   },
   "cell_type": "code",
   "source": "df_final[['INDE', 'IAN', 'IDA', 'IEG', 'IAA', 'IPS', 'IPP','IPV']] = df_final[['INDE', 'IAN', 'IDA', 'IEG', 'IAA', 'IPS', 'IPP','IPV']].astype(float)",
   "id": "f75a09e3da56bfe8",
   "execution_count": 509,
   "outputs": []
  },
  {
   "metadata": {
    "ExecuteTime": {
     "end_time": "2024-08-13T23:01:46.565021Z",
     "start_time": "2024-08-13T23:01:46.544402Z"
    }
   },
   "cell_type": "code",
   "source": [
    "df_final['IS_PONTO_VIRADA'] = df_final['PONTO_VIRADA'].map({'Sim': True, 'Não': False})\n",
    "df_final['IS_PONTO_VIRADA'] = df_final['IS_PONTO_VIRADA'].astype(bool)\n",
    "df_final['SYMBOL'] = df_final.IS_PONTO_VIRADA.apply(lambda x: 17 if x == True else 1)"
   ],
   "id": "67b5db57f911039c",
   "execution_count": 510,
   "outputs": []
  },
  {
   "metadata": {
    "ExecuteTime": {
     "end_time": "2024-08-13T23:01:46.585801Z",
     "start_time": "2024-08-13T23:01:46.570031Z"
    }
   },
   "cell_type": "code",
   "source": "df_final.info()",
   "id": "7b57119dce056c08",
   "execution_count": 511,
   "outputs": []
  },
  {
   "metadata": {
    "ExecuteTime": {
     "end_time": "2024-08-13T23:01:46.650336Z",
     "start_time": "2024-08-13T23:01:46.641808Z"
    }
   },
   "cell_type": "code",
   "source": "df_final[['ANO_PESQUISA','ID_ALUNO','FASE']] = df_final[['ANO_PESQUISA','ID_ALUNO','FASE']].astype(int)",
   "id": "332fc2d34beb164c",
   "execution_count": 512,
   "outputs": []
  },
  {
   "metadata": {
    "ExecuteTime": {
     "end_time": "2024-08-13T23:01:46.740566Z",
     "start_time": "2024-08-13T23:01:46.724343Z"
    }
   },
   "cell_type": "code",
   "source": "df_final.info()",
   "id": "e8b5d1edd34f8f95",
   "execution_count": 513,
   "outputs": []
  },
  {
   "metadata": {
    "ExecuteTime": {
     "end_time": "2024-08-13T23:01:46.918415Z",
     "start_time": "2024-08-13T23:01:46.909975Z"
    }
   },
   "cell_type": "code",
   "source": "df = df_final.round(2)",
   "id": "3290d061889faf09",
   "execution_count": 514,
   "outputs": []
  },
  {
   "metadata": {
    "ExecuteTime": {
     "end_time": "2024-08-13T23:01:46.971608Z",
     "start_time": "2024-08-13T23:01:46.945408Z"
    }
   },
   "cell_type": "code",
   "source": "df.head()",
   "id": "11f470444ad4330a",
   "execution_count": 515,
   "outputs": []
  },
  {
   "metadata": {},
   "cell_type": "markdown",
   "source": "## Novas métricas",
   "id": "e976219ac176f234"
  },
  {
   "metadata": {},
   "cell_type": "markdown",
   "source": "Vamos calcular as médias por ano dos alunos, agora que o dataframe está limpo para análise",
   "id": "d5ecb99ec6d1455b"
  },
  {
   "metadata": {
    "ExecuteTime": {
     "end_time": "2024-08-13T23:01:47.167870Z",
     "start_time": "2024-08-13T23:01:47.122572Z"
    }
   },
   "cell_type": "code",
   "source": [
    "df_media_ano_fase = df.groupby(['ANO_PESQUISA', 'FASE'])[['INDE', 'IAN', 'IDA', 'IEG', 'IAA', 'IPS', 'IPP','IPV']].mean().round(2)\n",
    "df_media_ano_fase.columns = ['INDE_MEDIO_ANO_FASE', 'IAN_MEDIO_ANO_FASE', 'IDA_MEDIO_ANO_FASE', 'IEG_MEDIO_ANO_FASE', 'IAA_MEDIO_ANO_FASE', 'IPS_MEDIO_ANO_FASE', 'IPP_MEDIO_ANO_FASE', 'IPV_MEDIO_ANO_FASE']\n",
    "df_media_ano_fase"
   ],
   "id": "98149972a991190",
   "execution_count": 516,
   "outputs": []
  },
  {
   "metadata": {
    "ExecuteTime": {
     "end_time": "2024-08-13T23:01:47.538249Z",
     "start_time": "2024-08-13T23:01:47.490403Z"
    }
   },
   "cell_type": "code",
   "source": [
    "df_media_ano_fase_turma = df.groupby(['ANO_PESQUISA', 'FASE', 'TURMA'])[['INDE', 'IAN', 'IDA', 'IEG', 'IAA', 'IPS', 'IPP','IPV']].mean().round(2)\n",
    "df_media_ano_fase_turma.columns = ['INDE_MEDIO_ANO_FASE_TURMA', 'IAN_MEDIO_ANO_FASE_TURMA', 'IDA_MEDIO_ANO_FASE_TURMA', 'IEG_MEDIO_ANO_FASE_TURMA', 'IAA_MEDIO_ANO_FASE_TURMA', 'IPS_MEDIO_ANO_FASE_TURMA', 'IPP_MEDIO_ANO_FASE_TURMA', 'IPV_MEDIO_ANO_FASE_TURMA']\n",
    "df_media_ano_fase_turma"
   ],
   "id": "b579f3c202f6ae52",
   "execution_count": 517,
   "outputs": []
  },
  {
   "metadata": {
    "ExecuteTime": {
     "end_time": "2024-08-13T23:01:47.815059Z",
     "start_time": "2024-08-13T23:01:47.757262Z"
    }
   },
   "cell_type": "code",
   "source": [
    "join_media_ano_fase = pd.merge(\n",
    "    left=df,\n",
    "    right=df_media_ano_fase,\n",
    "    how='left',\n",
    "    left_on=['ANO_PESQUISA', 'FASE'],\n",
    "    right_on=['ANO_PESQUISA', 'FASE'],\n",
    ")\n",
    "join_media_ano_fase"
   ],
   "id": "521580c2f4fed4b6",
   "execution_count": 518,
   "outputs": []
  },
  {
   "metadata": {
    "ExecuteTime": {
     "end_time": "2024-08-13T23:01:48.158890Z",
     "start_time": "2024-08-13T23:01:48.092068Z"
    }
   },
   "cell_type": "code",
   "source": [
    "join_media_ano_fase_turma = pd.merge(\n",
    "    left=join_media_ano_fase,\n",
    "    right=df_media_ano_fase_turma,\n",
    "    how='left',\n",
    "    left_on=['ANO_PESQUISA', 'FASE','TURMA'],\n",
    "    right_on=['ANO_PESQUISA', 'FASE', 'TURMA'],\n",
    ")\n",
    "join_media_ano_fase_turma"
   ],
   "id": "89acf5c9529d9f5d",
   "execution_count": 519,
   "outputs": []
  },
  {
   "metadata": {
    "ExecuteTime": {
     "end_time": "2024-08-13T23:01:48.425549Z",
     "start_time": "2024-08-13T23:01:48.362089Z"
    }
   },
   "cell_type": "code",
   "source": "join_media_ano_fase_turma.to_csv('dados_finais.csv', index=False)",
   "id": "1a51f3ae096743b8",
   "execution_count": 520,
   "outputs": []
  },
  {
   "metadata": {
    "ExecuteTime": {
     "end_time": "2024-08-13T23:01:48.636866Z",
     "start_time": "2024-08-13T23:01:48.628359Z"
    }
   },
   "cell_type": "code",
   "source": [
    "def gera_df_comparativo_aluno_medias(df):\n",
    "    dataframes = {}\n",
    "    for index, row in df.iterrows():\n",
    "        ano_pesquisa = row['ANO_PESQUISA']\n",
    "        data = {\n",
    "            'Indice': ['IAN', 'IDA', 'IEG', 'IAA', 'IPS', 'IPP','IPV']*3,\n",
    "            'Legenda': [f'Notas do Aluno ({ano_pesquisa})']*7 + [f'Médias da Fase ({ano_pesquisa})']*7 +[f'Médias da Turma ({ano_pesquisa})']*7,\n",
    "            'Nota': [df['IAN'][index], df['IDA'][index], df['IEG'][index], df['IAA'][index], df['IPS'][index], df['IPP'][index], df['IPV'][index], df['IAN_MEDIO_ANO_FASE'][index], df['IDA_MEDIO_ANO_FASE'][index], df['IEG_MEDIO_ANO_FASE'][index], df['IAA_MEDIO_ANO_FASE'][index], df['IPS_MEDIO_ANO_FASE'][index], df['IPP_MEDIO_ANO_FASE'][index], df['IPV_MEDIO_ANO_FASE'][index], df['IAN_MEDIO_ANO_FASE_TURMA'][index], df['IDA_MEDIO_ANO_FASE_TURMA'][index], df['IEG_MEDIO_ANO_FASE_TURMA'][index], df['IAA_MEDIO_ANO_FASE_TURMA'][index], df['IPS_MEDIO_ANO_FASE_TURMA'][index], df['IPP_MEDIO_ANO_FASE_TURMA'][index], df['IPV_MEDIO_ANO_FASE_TURMA'][index]]\n",
    "        }\n",
    "        novo_df = pd.DataFrame(data)\n",
    "        dataframes[ano_pesquisa] = novo_df\n",
    "    return dataframes"
   ],
   "id": "8a4ee3d6ee15c3aa",
   "execution_count": 521,
   "outputs": []
  },
  {
   "metadata": {
    "ExecuteTime": {
     "end_time": "2024-08-13T23:01:48.824506Z",
     "start_time": "2024-08-13T23:01:48.818618Z"
    }
   },
   "cell_type": "code",
   "source": [
    "def gera_df_comparativo_anos(df):\n",
    "    data = {\n",
    "        'Indice': [],\n",
    "        'Legenda': [],\n",
    "        'Nota': []\n",
    "    }\n",
    "    for index, row in df.iterrows():\n",
    "        data['Indice'] += ['IAN', 'IDA', 'IEG', 'IAA', 'IPS', 'IPP','IPV']\n",
    "        data['Legenda'] += [f\"Notas do Aluno ({df['ANO_PESQUISA'][index]})\"]*7\n",
    "        data['Nota'] += [df['IAN'][index],df['IDA'][index],df['IEG'][index],df['IAA'][index],df['IPS'][index],df['IPP'][index],df['IPV'][index]]\n",
    "    novo_df = pd.DataFrame(data)\n",
    "    return novo_df"
   ],
   "id": "33bc5af3e613d0a",
   "execution_count": 522,
   "outputs": []
  },
  {
   "metadata": {
    "ExecuteTime": {
     "end_time": "2024-08-13T23:01:49.065319Z",
     "start_time": "2024-08-13T23:01:49.059745Z"
    }
   },
   "cell_type": "code",
   "source": "df_copy = join_media_ano_fase_turma.copy()",
   "id": "8347ef51c50ae298",
   "execution_count": 523,
   "outputs": []
  },
  {
   "metadata": {
    "ExecuteTime": {
     "end_time": "2024-08-13T23:01:49.312578Z",
     "start_time": "2024-08-13T23:01:49.305549Z"
    }
   },
   "cell_type": "code",
   "source": "df1 = df_copy[(df_copy['ID_ALUNO'] == 8)]",
   "id": "214241fc6bbc57e4",
   "execution_count": 524,
   "outputs": []
  },
  {
   "metadata": {
    "ExecuteTime": {
     "end_time": "2024-08-13T23:01:49.474611Z",
     "start_time": "2024-08-13T23:01:49.462046Z"
    }
   },
   "cell_type": "code",
   "source": [
    "teste1 = gera_df_comparativo_aluno_medias(df1)\n",
    "teste2 = gera_df_comparativo_anos(df1)"
   ],
   "id": "2731e6ee05eea7c9",
   "execution_count": 525,
   "outputs": []
  },
  {
   "metadata": {
    "ExecuteTime": {
     "end_time": "2024-08-13T23:01:49.771356Z",
     "start_time": "2024-08-13T23:01:49.553996Z"
    }
   },
   "cell_type": "code",
   "source": [
    "for index, key in enumerate(teste1):\n",
    "    fig1 = px.line_polar(teste1[key], r=\"Nota\", theta=\"Indice\", color=\"Legenda\",\n",
    "                        line_close=True, title='Comparativo das Notas do Aluno com as Médias ('+str(key)+')', markers=True, range_r=[0,10],  start_angle=0, direction='counterclockwise')\n",
    "    fig1.show()"
   ],
   "id": "a2b899ece74c9987",
   "execution_count": 526,
   "outputs": []
  },
  {
   "metadata": {
    "ExecuteTime": {
     "end_time": "2024-08-13T23:40:21.592922Z",
     "start_time": "2024-08-13T23:40:21.323134Z"
    }
   },
   "cell_type": "code",
   "source": [
    "fig = make_subplots(rows=1, cols=3, specs=[[{'type': 'polar'}]*3],\n",
    "                    subplot_titles=('2020', '2021', '2022'), column_titles=('2020', '2021', '2022'), x_title=\"Evolução do Aluno por Ano\")\n",
    "for index, key in enumerate(teste1):\n",
    "    fig1 = px.line_polar(teste1[key], r=\"Nota\", theta=\"Indice\", color=\"Legenda\", line_close=True, title=\"2020\", markers=True, range_r=[0,10], start_angle=0, direction='counterclockwise')\n",
    "    fig.add_traces(list(fig1.select_traces()),1,index+1)\n",
    "\n",
    "\n",
    "fig.update_layout(\n",
    "    showlegend=False\n",
    ")\n",
    "\n",
    "fig.show()"
   ],
   "id": "3c4b7ea0a115a11",
   "execution_count": 535,
   "outputs": []
  },
  {
   "metadata": {
    "ExecuteTime": {
     "end_time": "2024-08-13T23:01:49.996388Z",
     "start_time": "2024-08-13T23:01:49.992750Z"
    }
   },
   "cell_type": "code",
   "source": [
    "# df_melted = df1.melt(id_vars='ANO_PESQUISA', value_vars=['INDE', 'INDE_MEDIO_ANO_FASE', 'INDE_MEDIO_ANO_FASE_TURMA'], var_name='TIPO', value_name='NOTA')\n",
    "# df_melted"
   ],
   "id": "f4412297fb842370",
   "execution_count": 528,
   "outputs": []
  },
  {
   "metadata": {
    "ExecuteTime": {
     "end_time": "2024-08-13T23:01:50.160315Z",
     "start_time": "2024-08-13T23:01:49.998397Z"
    }
   },
   "cell_type": "code",
   "source": [
    "fig = make_subplots(rows=1, cols=2, specs=[[{'type': 'scatter'}, {'type': 'polar'}]],\n",
    "                    subplot_titles=('INDE', 'Índices'), column_titles=('INDE', 'Índices'), x_title=\"Evolução do Aluno por Ano\")\n",
    "fig1 = px.line(df1, x=\"ANO_PESQUISA\", y=\"INDE\", markers=True, template=\"plotly_white\",  symbol='SYMBOL')\n",
    "fig2 = px.line_polar(teste2, r=\"Nota\", theta=\"Indice\", color=\"Legenda\",\n",
    "                    line_close=True, markers=True, range_r=[0,10], start_angle=0, direction='counterclockwise')\n",
    "\n",
    "fig.add_traces(list(fig1.select_traces()),1,1)\n",
    "fig.add_traces(list(fig2.select_traces()),1,2)\n",
    "fig.show()"
   ],
   "id": "a32a94ca11209d74",
   "execution_count": 529,
   "outputs": []
  },
  {
   "metadata": {
    "ExecuteTime": {
     "end_time": "2024-08-13T23:01:50.523640Z",
     "start_time": "2024-08-13T23:01:50.162327Z"
    }
   },
   "cell_type": "code",
   "source": [
    "anos = df1['ANO_PESQUISA'].values\n",
    "inde = df1['INDE'].values\n",
    "\n",
    "plt.figure(figsize=(10, 5))\n",
    "plt.plot(anos, inde, marker='o', linestyle='-', color='b', label='INDE')\n",
    "plt.xticks(anos)\n",
    "plt.xlabel('Ano')\n",
    "plt.ylabel('INDE')\n",
    "plt.title(f'Evolução do INDE para o aluno 5')\n",
    "plt.legend()\n",
    "\n",
    "# Cálculo da diferença percentual e anotação no gráfico\n",
    "for i in range(1, len(anos)):\n",
    "    diff_percent = ((inde[i] - inde[i-1]) / inde[i-1]) * 100\n",
    "    diff_text = f\"+{diff_percent:.2f}%\" if diff_percent > 0 else f\"{diff_percent:.2f}%\"\n",
    "    plt.text(anos[i], inde[i], diff_text, fontsize=9, verticalalignment='bottom', horizontalalignment='right')"
   ],
   "id": "8827eaebb16f5976",
   "execution_count": 530,
   "outputs": []
  },
  {
   "metadata": {
    "ExecuteTime": {
     "end_time": "2024-08-13T23:01:50.558672Z",
     "start_time": "2024-08-13T23:01:50.526Z"
    }
   },
   "cell_type": "code",
   "source": "df1",
   "id": "d2e187c80d9b18c8",
   "execution_count": 531,
   "outputs": []
  },
  {
   "metadata": {
    "ExecuteTime": {
     "end_time": "2024-08-13T23:01:50.565034Z",
     "start_time": "2024-08-13T23:01:50.560790Z"
    }
   },
   "cell_type": "code",
   "source": "",
   "id": "ea0c61b88d60f8f1",
   "execution_count": 531,
   "outputs": []
  }
 ],
 "metadata": {
  "kernelspec": {
   "display_name": "Python 3",
   "language": "python",
   "name": "python3"
  },
  "language_info": {
   "codemirror_mode": {
    "name": "ipython",
    "version": 2
   },
   "file_extension": ".py",
   "mimetype": "text/x-python",
   "name": "python",
   "nbconvert_exporter": "python",
   "pygments_lexer": "ipython2",
   "version": "2.7.6"
  }
 },
 "nbformat": 4,
 "nbformat_minor": 5
}
