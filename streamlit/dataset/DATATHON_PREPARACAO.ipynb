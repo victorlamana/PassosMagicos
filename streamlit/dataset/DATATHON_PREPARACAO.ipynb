{
 "cells": [
  {
   "cell_type": "markdown",
   "id": "a6b591bc",
   "metadata": {},
   "source": [
    "# Datathon"
   ]
  },
  {
   "cell_type": "markdown",
   "id": "0ca3ba4a",
   "metadata": {},
   "source": [
    "## Initialization"
   ]
  },
  {
   "cell_type": "code",
   "execution_count": 1,
   "id": "68ffe595",
   "metadata": {},
   "outputs": [],
   "source": [
    "#pip install pandas numpy matplotlib plotly nbformat"
   ]
  },
  {
   "cell_type": "code",
   "execution_count": 2,
   "id": "initial_id",
   "metadata": {
    "ExecuteTime": {
     "end_time": "2024-08-06T23:58:37.797171Z",
     "start_time": "2024-08-06T23:58:37.766316Z"
    },
    "collapsed": true
   },
   "outputs": [],
   "source": [
    "import pandas as pd\n",
    "import numpy as np\n",
    "import matplotlib.pyplot as plt\n",
    "import matplotlib.ticker as ticker\n",
    "import plotly.express as px\n",
    "\n",
    "file_path = './PEDE_PASSOS_DATASET_FIAP.csv'\n",
    "pd.set_option('display.max_columns', None)\n",
    "pd.options.mode.copy_on_write = True\n",
    "df_original = pd.read_csv(file_path, delimiter=';')"
   ]
  },
  {
   "cell_type": "code",
   "execution_count": 3,
   "id": "32bd10c224b153b6",
   "metadata": {
    "ExecuteTime": {
     "end_time": "2024-08-06T23:58:38.240135Z",
     "start_time": "2024-08-06T23:58:38.193368Z"
    }
   },
   "outputs": [
    {
     "data": {
      "text/html": [
       "<div>\n",
       "<style scoped>\n",
       "    .dataframe tbody tr th:only-of-type {\n",
       "        vertical-align: middle;\n",
       "    }\n",
       "\n",
       "    .dataframe tbody tr th {\n",
       "        vertical-align: top;\n",
       "    }\n",
       "\n",
       "    .dataframe thead th {\n",
       "        text-align: right;\n",
       "    }\n",
       "</style>\n",
       "<table border=\"1\" class=\"dataframe\">\n",
       "  <thead>\n",
       "    <tr style=\"text-align: right;\">\n",
       "      <th></th>\n",
       "      <th>INSTITUICAO_ENSINO_ALUNO_2020</th>\n",
       "      <th>NOME</th>\n",
       "      <th>IDADE_ALUNO_2020</th>\n",
       "      <th>ANOS_PM_2020</th>\n",
       "      <th>FASE_TURMA_2020</th>\n",
       "      <th>PONTO_VIRADA_2020</th>\n",
       "      <th>INDE_2020</th>\n",
       "      <th>INDE_CONCEITO_2020</th>\n",
       "      <th>PEDRA_2020</th>\n",
       "      <th>DESTAQUE_IEG_2020</th>\n",
       "      <th>DESTAQUE_IDA_2020</th>\n",
       "      <th>DESTAQUE_IPV_2020</th>\n",
       "      <th>IAA_2020</th>\n",
       "      <th>IEG_2020</th>\n",
       "      <th>IPS_2020</th>\n",
       "      <th>IDA_2020</th>\n",
       "      <th>IPP_2020</th>\n",
       "      <th>IPV_2020</th>\n",
       "      <th>IAN_2020</th>\n",
       "      <th>FASE_2021</th>\n",
       "      <th>TURMA_2021</th>\n",
       "      <th>INSTITUICAO_ENSINO_ALUNO_2021</th>\n",
       "      <th>SINALIZADOR_INGRESSANTE_2021</th>\n",
       "      <th>PEDRA_2021</th>\n",
       "      <th>INDE_2021</th>\n",
       "      <th>IAA_2021</th>\n",
       "      <th>IEG_2021</th>\n",
       "      <th>IPS_2021</th>\n",
       "      <th>IDA_2021</th>\n",
       "      <th>IPP_2021</th>\n",
       "      <th>REC_EQUIPE_1_2021</th>\n",
       "      <th>REC_EQUIPE_2_2021</th>\n",
       "      <th>REC_EQUIPE_3_2021</th>\n",
       "      <th>REC_EQUIPE_4_2021</th>\n",
       "      <th>PONTO_VIRADA_2021</th>\n",
       "      <th>IPV_2021</th>\n",
       "      <th>IAN_2021</th>\n",
       "      <th>NIVEL_IDEAL_2021</th>\n",
       "      <th>DEFASAGEM_2021</th>\n",
       "      <th>FASE_2022</th>\n",
       "      <th>TURMA_2022</th>\n",
       "      <th>ANO_INGRESSO_2022</th>\n",
       "      <th>BOLSISTA_2022</th>\n",
       "      <th>INDE_2022</th>\n",
       "      <th>CG_2022</th>\n",
       "      <th>CF_2022</th>\n",
       "      <th>CT_2022</th>\n",
       "      <th>PEDRA_2022</th>\n",
       "      <th>DESTAQUE_IEG_2022</th>\n",
       "      <th>DESTAQUE_IDA_2022</th>\n",
       "      <th>DESTAQUE_IPV_2022</th>\n",
       "      <th>IAA_2022</th>\n",
       "      <th>IEG_2022</th>\n",
       "      <th>IPS_2022</th>\n",
       "      <th>IDA_2022</th>\n",
       "      <th>NOTA_PORT_2022</th>\n",
       "      <th>NOTA_MAT_2022</th>\n",
       "      <th>NOTA_ING_2022</th>\n",
       "      <th>QTD_AVAL_2022</th>\n",
       "      <th>IPP_2022</th>\n",
       "      <th>REC_AVA_1_2022</th>\n",
       "      <th>REC_AVA_2_2022</th>\n",
       "      <th>REC_AVA_3_2022</th>\n",
       "      <th>REC_AVA_4_2022</th>\n",
       "      <th>INDICADO_BOLSA_2022</th>\n",
       "      <th>PONTO_VIRADA_2022</th>\n",
       "      <th>IPV_2022</th>\n",
       "      <th>IAN_2022</th>\n",
       "      <th>NIVEL_IDEAL_2022</th>\n",
       "    </tr>\n",
       "  </thead>\n",
       "  <tbody>\n",
       "    <tr>\n",
       "      <th>0</th>\n",
       "      <td>Escola Pública</td>\n",
       "      <td>ALUNO-1</td>\n",
       "      <td>11</td>\n",
       "      <td>2</td>\n",
       "      <td>2H</td>\n",
       "      <td>Não</td>\n",
       "      <td>7.883752</td>\n",
       "      <td>B</td>\n",
       "      <td>Ametista</td>\n",
       "      <td>Seu destaque em 2020: A sua boa entrega das li...</td>\n",
       "      <td>Ponto a melhorar em 2021: Empenhar-se mais nas...</td>\n",
       "      <td>Seu destaque em 2020: A sua boa integração aos...</td>\n",
       "      <td>8.500020000000001</td>\n",
       "      <td>8.7</td>\n",
       "      <td>7.5</td>\n",
       "      <td>7</td>\n",
       "      <td>5.9375</td>\n",
       "      <td>7.75</td>\n",
       "      <td>10</td>\n",
       "      <td>2.0</td>\n",
       "      <td>G</td>\n",
       "      <td>Rede Decisão</td>\n",
       "      <td>Ingressante</td>\n",
       "      <td>Ametista</td>\n",
       "      <td>7.319</td>\n",
       "      <td>7.5</td>\n",
       "      <td>6.3</td>\n",
       "      <td>6.9</td>\n",
       "      <td>8.8</td>\n",
       "      <td>7.7</td>\n",
       "      <td>Promovido de Fase</td>\n",
       "      <td>Promovido de Fase</td>\n",
       "      <td>Mantido na Fase atual</td>\n",
       "      <td>Não avaliado</td>\n",
       "      <td>Não</td>\n",
       "      <td>8.1</td>\n",
       "      <td>5.0</td>\n",
       "      <td>Nível 3 (7o e 8o ano)</td>\n",
       "      <td>-1.0</td>\n",
       "      <td>NaN</td>\n",
       "      <td>NaN</td>\n",
       "      <td>NaN</td>\n",
       "      <td>NaN</td>\n",
       "      <td>NaN</td>\n",
       "      <td>NaN</td>\n",
       "      <td>NaN</td>\n",
       "      <td>NaN</td>\n",
       "      <td>NaN</td>\n",
       "      <td>NaN</td>\n",
       "      <td>NaN</td>\n",
       "      <td>NaN</td>\n",
       "      <td>NaN</td>\n",
       "      <td>NaN</td>\n",
       "      <td>NaN</td>\n",
       "      <td>NaN</td>\n",
       "      <td>NaN</td>\n",
       "      <td>NaN</td>\n",
       "      <td>NaN</td>\n",
       "      <td>NaN</td>\n",
       "      <td>NaN</td>\n",
       "      <td>NaN</td>\n",
       "      <td>NaN</td>\n",
       "      <td>NaN</td>\n",
       "      <td>NaN</td>\n",
       "      <td>NaN</td>\n",
       "      <td>NaN</td>\n",
       "      <td>NaN</td>\n",
       "      <td>NaN</td>\n",
       "      <td>NaN</td>\n",
       "    </tr>\n",
       "    <tr>\n",
       "      <th>1</th>\n",
       "      <td>NaN</td>\n",
       "      <td>ALUNO-2</td>\n",
       "      <td>NaN</td>\n",
       "      <td>NaN</td>\n",
       "      <td>NaN</td>\n",
       "      <td>NaN</td>\n",
       "      <td>NaN</td>\n",
       "      <td>NaN</td>\n",
       "      <td>NaN</td>\n",
       "      <td>NaN</td>\n",
       "      <td>NaN</td>\n",
       "      <td>NaN</td>\n",
       "      <td>NaN</td>\n",
       "      <td>NaN</td>\n",
       "      <td>NaN</td>\n",
       "      <td>NaN</td>\n",
       "      <td>NaN</td>\n",
       "      <td>NaN</td>\n",
       "      <td>NaN</td>\n",
       "      <td>NaN</td>\n",
       "      <td>NaN</td>\n",
       "      <td>NaN</td>\n",
       "      <td>NaN</td>\n",
       "      <td>NaN</td>\n",
       "      <td>NaN</td>\n",
       "      <td>NaN</td>\n",
       "      <td>NaN</td>\n",
       "      <td>NaN</td>\n",
       "      <td>NaN</td>\n",
       "      <td>NaN</td>\n",
       "      <td>NaN</td>\n",
       "      <td>NaN</td>\n",
       "      <td>NaN</td>\n",
       "      <td>NaN</td>\n",
       "      <td>NaN</td>\n",
       "      <td>NaN</td>\n",
       "      <td>NaN</td>\n",
       "      <td>NaN</td>\n",
       "      <td>NaN</td>\n",
       "      <td>0.0</td>\n",
       "      <td>K</td>\n",
       "      <td>2022.0</td>\n",
       "      <td>Não</td>\n",
       "      <td>7.675509</td>\n",
       "      <td>245.0</td>\n",
       "      <td>66.0</td>\n",
       "      <td>6.0</td>\n",
       "      <td>Ametista</td>\n",
       "      <td>Destaque: A sua boa entrega das lições de casa.</td>\n",
       "      <td>Destaque: As suas boas notas na Passos Mágicos.</td>\n",
       "      <td>Destaque: A sua boa integração aos Princípios ...</td>\n",
       "      <td>10.00002</td>\n",
       "      <td>7.581705</td>\n",
       "      <td>7.5</td>\n",
       "      <td>8.816667</td>\n",
       "      <td>8.200000</td>\n",
       "      <td>9.433333</td>\n",
       "      <td>NaN</td>\n",
       "      <td>2.0</td>\n",
       "      <td>5.625000</td>\n",
       "      <td>Mantido na Fase + Bolsa</td>\n",
       "      <td>Mantido na Fase atual</td>\n",
       "      <td>NaN</td>\n",
       "      <td>NaN</td>\n",
       "      <td>Sim</td>\n",
       "      <td>Não</td>\n",
       "      <td>7.916665</td>\n",
       "      <td>5.0</td>\n",
       "      <td>Fase 2 (5º e 6º ano)</td>\n",
       "    </tr>\n",
       "    <tr>\n",
       "      <th>2</th>\n",
       "      <td>Escola Pública</td>\n",
       "      <td>ALUNO-3</td>\n",
       "      <td>12</td>\n",
       "      <td>2</td>\n",
       "      <td>3H</td>\n",
       "      <td>Não</td>\n",
       "      <td>7.856389666666666</td>\n",
       "      <td>B</td>\n",
       "      <td>Ametista</td>\n",
       "      <td>Seu destaque em 2020: A sua boa entrega das li...</td>\n",
       "      <td>Ponto a melhorar em 2021: Empenhar-se mais nas...</td>\n",
       "      <td>Seu destaque em 2020: A sua boa integração aos...</td>\n",
       "      <td>7.91667</td>\n",
       "      <td>8.9</td>\n",
       "      <td>7.5</td>\n",
       "      <td>5.5</td>\n",
       "      <td>8.125</td>\n",
       "      <td>8.111113333333334</td>\n",
       "      <td>10</td>\n",
       "      <td>3.0</td>\n",
       "      <td>F</td>\n",
       "      <td>Escola Pública</td>\n",
       "      <td>Veterano</td>\n",
       "      <td>Ametista</td>\n",
       "      <td>7.021</td>\n",
       "      <td>7.1</td>\n",
       "      <td>6.9</td>\n",
       "      <td>6.3</td>\n",
       "      <td>5.6</td>\n",
       "      <td>7.3</td>\n",
       "      <td>Promovido de Fase</td>\n",
       "      <td>Promovido de Fase</td>\n",
       "      <td>Mantido na Fase atual</td>\n",
       "      <td>Não avaliado</td>\n",
       "      <td>Não</td>\n",
       "      <td>7.2</td>\n",
       "      <td>10.0</td>\n",
       "      <td>Nível 3 (7o e 8o ano)</td>\n",
       "      <td>0.0</td>\n",
       "      <td>NaN</td>\n",
       "      <td>NaN</td>\n",
       "      <td>NaN</td>\n",
       "      <td>NaN</td>\n",
       "      <td>NaN</td>\n",
       "      <td>NaN</td>\n",
       "      <td>NaN</td>\n",
       "      <td>NaN</td>\n",
       "      <td>NaN</td>\n",
       "      <td>NaN</td>\n",
       "      <td>NaN</td>\n",
       "      <td>NaN</td>\n",
       "      <td>NaN</td>\n",
       "      <td>NaN</td>\n",
       "      <td>NaN</td>\n",
       "      <td>NaN</td>\n",
       "      <td>NaN</td>\n",
       "      <td>NaN</td>\n",
       "      <td>NaN</td>\n",
       "      <td>NaN</td>\n",
       "      <td>NaN</td>\n",
       "      <td>NaN</td>\n",
       "      <td>NaN</td>\n",
       "      <td>NaN</td>\n",
       "      <td>NaN</td>\n",
       "      <td>NaN</td>\n",
       "      <td>NaN</td>\n",
       "      <td>NaN</td>\n",
       "      <td>NaN</td>\n",
       "      <td>NaN</td>\n",
       "    </tr>\n",
       "    <tr>\n",
       "      <th>3</th>\n",
       "      <td>Escola Pública</td>\n",
       "      <td>ALUNO-4</td>\n",
       "      <td>10</td>\n",
       "      <td>2</td>\n",
       "      <td>1D</td>\n",
       "      <td>Não</td>\n",
       "      <td>5.076252</td>\n",
       "      <td>D</td>\n",
       "      <td>Quartzo</td>\n",
       "      <td>Ponto a melhorar em 2021: Melhorar a sua entre...</td>\n",
       "      <td>Ponto a melhorar em 2021: Empenhar-se mais nas...</td>\n",
       "      <td>Ponto a melhorar em 2021: Integrar-se mais aos...</td>\n",
       "      <td>8.000020000000001</td>\n",
       "      <td>4.1</td>\n",
       "      <td>6.875</td>\n",
       "      <td>0</td>\n",
       "      <td>7.1875</td>\n",
       "      <td>7.75</td>\n",
       "      <td>5</td>\n",
       "      <td>NaN</td>\n",
       "      <td>NaN</td>\n",
       "      <td>NaN</td>\n",
       "      <td>NaN</td>\n",
       "      <td>NaN</td>\n",
       "      <td>NaN</td>\n",
       "      <td>NaN</td>\n",
       "      <td>NaN</td>\n",
       "      <td>NaN</td>\n",
       "      <td>NaN</td>\n",
       "      <td>NaN</td>\n",
       "      <td>NaN</td>\n",
       "      <td>NaN</td>\n",
       "      <td>NaN</td>\n",
       "      <td>NaN</td>\n",
       "      <td>NaN</td>\n",
       "      <td>NaN</td>\n",
       "      <td>NaN</td>\n",
       "      <td>NaN</td>\n",
       "      <td>NaN</td>\n",
       "      <td>2.0</td>\n",
       "      <td>J</td>\n",
       "      <td>2022.0</td>\n",
       "      <td>Não</td>\n",
       "      <td>7.117065</td>\n",
       "      <td>451.0</td>\n",
       "      <td>69.0</td>\n",
       "      <td>3.0</td>\n",
       "      <td>Ametista</td>\n",
       "      <td>Destaque: A sua boa entrega das lições de casa.</td>\n",
       "      <td>Melhorar: Empenhar-se mais nas aulas e avaliaç...</td>\n",
       "      <td>Destaque: A sua boa integração aos Princípios ...</td>\n",
       "      <td>10.00002</td>\n",
       "      <td>8.071429</td>\n",
       "      <td>7.5</td>\n",
       "      <td>5.083333</td>\n",
       "      <td>5.000000</td>\n",
       "      <td>5.166667</td>\n",
       "      <td>NaN</td>\n",
       "      <td>3.0</td>\n",
       "      <td>6.250000</td>\n",
       "      <td>Promovido de Fase</td>\n",
       "      <td>Mantido na Fase atual</td>\n",
       "      <td>Promovido de Fase</td>\n",
       "      <td>NaN</td>\n",
       "      <td>Não</td>\n",
       "      <td>Não</td>\n",
       "      <td>8.055553</td>\n",
       "      <td>5.0</td>\n",
       "      <td>Fase 3 (7º e 8º ano)</td>\n",
       "    </tr>\n",
       "    <tr>\n",
       "      <th>4</th>\n",
       "      <td>Escola Pública</td>\n",
       "      <td>ALUNO-5</td>\n",
       "      <td>10</td>\n",
       "      <td>1</td>\n",
       "      <td>2M</td>\n",
       "      <td>Não</td>\n",
       "      <td>8.077085</td>\n",
       "      <td>B</td>\n",
       "      <td>Ametista</td>\n",
       "      <td>Seu destaque em 2020: A sua boa entrega das li...</td>\n",
       "      <td>Seu destaque em 2020: As suas boas notas na Pa...</td>\n",
       "      <td>Seu destaque em 2020: A sua boa integração aos...</td>\n",
       "      <td>7.50002</td>\n",
       "      <td>8</td>\n",
       "      <td>7.5</td>\n",
       "      <td>7.5</td>\n",
       "      <td>8.4375</td>\n",
       "      <td>8.166665</td>\n",
       "      <td>10</td>\n",
       "      <td>2.0</td>\n",
       "      <td>L</td>\n",
       "      <td>Escola Pública</td>\n",
       "      <td>Veterano</td>\n",
       "      <td>Ametista</td>\n",
       "      <td>7.399</td>\n",
       "      <td>7.4</td>\n",
       "      <td>7.5</td>\n",
       "      <td>7.5</td>\n",
       "      <td>5.4</td>\n",
       "      <td>8.5</td>\n",
       "      <td>Promovido de Fase</td>\n",
       "      <td>Mantido na Fase atual</td>\n",
       "      <td>Mantido na Fase atual</td>\n",
       "      <td>Não avaliado</td>\n",
       "      <td>Não</td>\n",
       "      <td>7.4</td>\n",
       "      <td>10.0</td>\n",
       "      <td>Nível 2 (5o e 6o ano)</td>\n",
       "      <td>0.0</td>\n",
       "      <td>2.0</td>\n",
       "      <td>L</td>\n",
       "      <td>2019.0</td>\n",
       "      <td>Não</td>\n",
       "      <td>7.232336</td>\n",
       "      <td>415.0</td>\n",
       "      <td>61.0</td>\n",
       "      <td>12.0</td>\n",
       "      <td>Ametista</td>\n",
       "      <td>Destaque: A sua boa entrega das lições de casa.</td>\n",
       "      <td>Melhorar: Empenhar-se mais nas aulas e avaliaç...</td>\n",
       "      <td>Destaque: A sua boa integração aos Princípios ...</td>\n",
       "      <td>6.41668</td>\n",
       "      <td>8.557505</td>\n",
       "      <td>7.5</td>\n",
       "      <td>7.083333</td>\n",
       "      <td>6.666667</td>\n",
       "      <td>7.500000</td>\n",
       "      <td>NaN</td>\n",
       "      <td>3.0</td>\n",
       "      <td>6.458333</td>\n",
       "      <td>Mantido na Fase atual</td>\n",
       "      <td>Promovido de Fase</td>\n",
       "      <td>Mantido na Fase atual</td>\n",
       "      <td>NaN</td>\n",
       "      <td>Não</td>\n",
       "      <td>Não</td>\n",
       "      <td>7.833337</td>\n",
       "      <td>5.0</td>\n",
       "      <td>Fase 3 (7º e 8º ano)</td>\n",
       "    </tr>\n",
       "  </tbody>\n",
       "</table>\n",
       "</div>"
      ],
      "text/plain": [
       "  INSTITUICAO_ENSINO_ALUNO_2020     NOME IDADE_ALUNO_2020 ANOS_PM_2020  \\\n",
       "0                Escola Pública  ALUNO-1               11            2   \n",
       "1                           NaN  ALUNO-2              NaN          NaN   \n",
       "2                Escola Pública  ALUNO-3               12            2   \n",
       "3                Escola Pública  ALUNO-4               10            2   \n",
       "4                Escola Pública  ALUNO-5               10            1   \n",
       "\n",
       "  FASE_TURMA_2020 PONTO_VIRADA_2020          INDE_2020 INDE_CONCEITO_2020  \\\n",
       "0              2H               Não           7.883752                  B   \n",
       "1             NaN               NaN                NaN                NaN   \n",
       "2              3H               Não  7.856389666666666                  B   \n",
       "3              1D               Não           5.076252                  D   \n",
       "4              2M               Não           8.077085                  B   \n",
       "\n",
       "  PEDRA_2020                                  DESTAQUE_IEG_2020  \\\n",
       "0   Ametista  Seu destaque em 2020: A sua boa entrega das li...   \n",
       "1        NaN                                                NaN   \n",
       "2   Ametista  Seu destaque em 2020: A sua boa entrega das li...   \n",
       "3    Quartzo  Ponto a melhorar em 2021: Melhorar a sua entre...   \n",
       "4   Ametista  Seu destaque em 2020: A sua boa entrega das li...   \n",
       "\n",
       "                                   DESTAQUE_IDA_2020  \\\n",
       "0  Ponto a melhorar em 2021: Empenhar-se mais nas...   \n",
       "1                                                NaN   \n",
       "2  Ponto a melhorar em 2021: Empenhar-se mais nas...   \n",
       "3  Ponto a melhorar em 2021: Empenhar-se mais nas...   \n",
       "4  Seu destaque em 2020: As suas boas notas na Pa...   \n",
       "\n",
       "                                   DESTAQUE_IPV_2020           IAA_2020  \\\n",
       "0  Seu destaque em 2020: A sua boa integração aos...  8.500020000000001   \n",
       "1                                                NaN                NaN   \n",
       "2  Seu destaque em 2020: A sua boa integração aos...            7.91667   \n",
       "3  Ponto a melhorar em 2021: Integrar-se mais aos...  8.000020000000001   \n",
       "4  Seu destaque em 2020: A sua boa integração aos...            7.50002   \n",
       "\n",
       "  IEG_2020 IPS_2020 IDA_2020 IPP_2020           IPV_2020 IAN_2020  FASE_2021  \\\n",
       "0      8.7      7.5        7   5.9375               7.75       10        2.0   \n",
       "1      NaN      NaN      NaN      NaN                NaN      NaN        NaN   \n",
       "2      8.9      7.5      5.5    8.125  8.111113333333334       10        3.0   \n",
       "3      4.1    6.875        0   7.1875               7.75        5        NaN   \n",
       "4        8      7.5      7.5   8.4375           8.166665       10        2.0   \n",
       "\n",
       "  TURMA_2021 INSTITUICAO_ENSINO_ALUNO_2021 SINALIZADOR_INGRESSANTE_2021  \\\n",
       "0          G                  Rede Decisão                  Ingressante   \n",
       "1        NaN                           NaN                          NaN   \n",
       "2          F                Escola Pública                     Veterano   \n",
       "3        NaN                           NaN                          NaN   \n",
       "4          L                Escola Pública                     Veterano   \n",
       "\n",
       "  PEDRA_2021 INDE_2021  IAA_2021  IEG_2021  IPS_2021  IDA_2021  IPP_2021  \\\n",
       "0   Ametista     7.319       7.5       6.3       6.9       8.8       7.7   \n",
       "1        NaN       NaN       NaN       NaN       NaN       NaN       NaN   \n",
       "2   Ametista     7.021       7.1       6.9       6.3       5.6       7.3   \n",
       "3        NaN       NaN       NaN       NaN       NaN       NaN       NaN   \n",
       "4   Ametista     7.399       7.4       7.5       7.5       5.4       8.5   \n",
       "\n",
       "   REC_EQUIPE_1_2021      REC_EQUIPE_2_2021      REC_EQUIPE_3_2021  \\\n",
       "0  Promovido de Fase      Promovido de Fase  Mantido na Fase atual   \n",
       "1                NaN                    NaN                    NaN   \n",
       "2  Promovido de Fase      Promovido de Fase  Mantido na Fase atual   \n",
       "3                NaN                    NaN                    NaN   \n",
       "4  Promovido de Fase  Mantido na Fase atual  Mantido na Fase atual   \n",
       "\n",
       "  REC_EQUIPE_4_2021 PONTO_VIRADA_2021  IPV_2021  IAN_2021  \\\n",
       "0      Não avaliado               Não       8.1       5.0   \n",
       "1               NaN               NaN       NaN       NaN   \n",
       "2      Não avaliado               Não       7.2      10.0   \n",
       "3               NaN               NaN       NaN       NaN   \n",
       "4      Não avaliado               Não       7.4      10.0   \n",
       "\n",
       "        NIVEL_IDEAL_2021  DEFASAGEM_2021  FASE_2022 TURMA_2022  \\\n",
       "0  Nível 3 (7o e 8o ano)            -1.0        NaN        NaN   \n",
       "1                    NaN             NaN        0.0          K   \n",
       "2  Nível 3 (7o e 8o ano)             0.0        NaN        NaN   \n",
       "3                    NaN             NaN        2.0          J   \n",
       "4  Nível 2 (5o e 6o ano)             0.0        2.0          L   \n",
       "\n",
       "   ANO_INGRESSO_2022 BOLSISTA_2022  INDE_2022  CG_2022  CF_2022  CT_2022  \\\n",
       "0                NaN           NaN        NaN      NaN      NaN      NaN   \n",
       "1             2022.0           Não   7.675509    245.0     66.0      6.0   \n",
       "2                NaN           NaN        NaN      NaN      NaN      NaN   \n",
       "3             2022.0           Não   7.117065    451.0     69.0      3.0   \n",
       "4             2019.0           Não   7.232336    415.0     61.0     12.0   \n",
       "\n",
       "  PEDRA_2022                                DESTAQUE_IEG_2022  \\\n",
       "0        NaN                                              NaN   \n",
       "1   Ametista  Destaque: A sua boa entrega das lições de casa.   \n",
       "2        NaN                                              NaN   \n",
       "3   Ametista  Destaque: A sua boa entrega das lições de casa.   \n",
       "4   Ametista  Destaque: A sua boa entrega das lições de casa.   \n",
       "\n",
       "                                   DESTAQUE_IDA_2022  \\\n",
       "0                                                NaN   \n",
       "1    Destaque: As suas boas notas na Passos Mágicos.   \n",
       "2                                                NaN   \n",
       "3  Melhorar: Empenhar-se mais nas aulas e avaliaç...   \n",
       "4  Melhorar: Empenhar-se mais nas aulas e avaliaç...   \n",
       "\n",
       "                                   DESTAQUE_IPV_2022  IAA_2022  IEG_2022  \\\n",
       "0                                                NaN       NaN       NaN   \n",
       "1  Destaque: A sua boa integração aos Princípios ...  10.00002  7.581705   \n",
       "2                                                NaN       NaN       NaN   \n",
       "3  Destaque: A sua boa integração aos Princípios ...  10.00002  8.071429   \n",
       "4  Destaque: A sua boa integração aos Princípios ...   6.41668  8.557505   \n",
       "\n",
       "   IPS_2022  IDA_2022  NOTA_PORT_2022  NOTA_MAT_2022  NOTA_ING_2022  \\\n",
       "0       NaN       NaN             NaN            NaN            NaN   \n",
       "1       7.5  8.816667        8.200000       9.433333            NaN   \n",
       "2       NaN       NaN             NaN            NaN            NaN   \n",
       "3       7.5  5.083333        5.000000       5.166667            NaN   \n",
       "4       7.5  7.083333        6.666667       7.500000            NaN   \n",
       "\n",
       "   QTD_AVAL_2022  IPP_2022           REC_AVA_1_2022         REC_AVA_2_2022  \\\n",
       "0            NaN       NaN                      NaN                    NaN   \n",
       "1            2.0  5.625000  Mantido na Fase + Bolsa  Mantido na Fase atual   \n",
       "2            NaN       NaN                      NaN                    NaN   \n",
       "3            3.0  6.250000        Promovido de Fase  Mantido na Fase atual   \n",
       "4            3.0  6.458333    Mantido na Fase atual      Promovido de Fase   \n",
       "\n",
       "          REC_AVA_3_2022 REC_AVA_4_2022 INDICADO_BOLSA_2022 PONTO_VIRADA_2022  \\\n",
       "0                    NaN            NaN                 NaN               NaN   \n",
       "1                    NaN            NaN                 Sim               Não   \n",
       "2                    NaN            NaN                 NaN               NaN   \n",
       "3      Promovido de Fase            NaN                 Não               Não   \n",
       "4  Mantido na Fase atual            NaN                 Não               Não   \n",
       "\n",
       "   IPV_2022  IAN_2022      NIVEL_IDEAL_2022  \n",
       "0       NaN       NaN                   NaN  \n",
       "1  7.916665       5.0  Fase 2 (5º e 6º ano)  \n",
       "2       NaN       NaN                   NaN  \n",
       "3  8.055553       5.0  Fase 3 (7º e 8º ano)  \n",
       "4  7.833337       5.0  Fase 3 (7º e 8º ano)  "
      ]
     },
     "execution_count": 3,
     "metadata": {},
     "output_type": "execute_result"
    }
   ],
   "source": [
    "df_original.head()"
   ]
  },
  {
   "cell_type": "markdown",
   "id": "dfcc03c4",
   "metadata": {},
   "source": [
    "### Dataset transformation"
   ]
  },
  {
   "cell_type": "markdown",
   "id": "78ccf9f40c2bec62",
   "metadata": {},
   "source": [
    "Primeiramente, vamos separar os dados da coluna 'FASE_TURMA_2020' em duas colunas: 'FASE_2020' e 'TURMA_2020'"
   ]
  },
  {
   "cell_type": "code",
   "execution_count": 4,
   "id": "1f076caf444127f4",
   "metadata": {
    "ExecuteTime": {
     "end_time": "2024-08-06T23:58:38.249024Z",
     "start_time": "2024-08-06T23:58:38.242143Z"
    }
   },
   "outputs": [],
   "source": [
    "df_original[['FASE_2020', 'TURMA_2020']] = df_original['FASE_TURMA_2020'].str.extract(r'(.{1})(.{1})')\n",
    "df_original.drop('FASE_TURMA_2020', axis=1, inplace=True)"
   ]
  },
  {
   "cell_type": "code",
   "execution_count": 5,
   "id": "2d123a1eace38494",
   "metadata": {
    "ExecuteTime": {
     "end_time": "2024-08-06T23:58:38.436262Z",
     "start_time": "2024-08-06T23:58:38.429537Z"
    }
   },
   "outputs": [],
   "source": [
    "df_original['ID_ALUNO']=df_original['NOME'].str.split('-').str[1].astype(int)\n",
    "#df_original.set_index('ID_ALUNO', inplace=True)\n",
    "#df_original.drop('NOME', axis=1, inplace=True)"
   ]
  },
  {
   "cell_type": "code",
   "execution_count": 6,
   "id": "d3f050e5ee5e13c9",
   "metadata": {
    "ExecuteTime": {
     "end_time": "2024-08-06T23:58:38.502833Z",
     "start_time": "2024-08-06T23:58:38.462502Z"
    }
   },
   "outputs": [
    {
     "data": {
      "text/html": [
       "<div>\n",
       "<style scoped>\n",
       "    .dataframe tbody tr th:only-of-type {\n",
       "        vertical-align: middle;\n",
       "    }\n",
       "\n",
       "    .dataframe tbody tr th {\n",
       "        vertical-align: top;\n",
       "    }\n",
       "\n",
       "    .dataframe thead th {\n",
       "        text-align: right;\n",
       "    }\n",
       "</style>\n",
       "<table border=\"1\" class=\"dataframe\">\n",
       "  <thead>\n",
       "    <tr style=\"text-align: right;\">\n",
       "      <th></th>\n",
       "      <th>INSTITUICAO_ENSINO_ALUNO_2020</th>\n",
       "      <th>NOME</th>\n",
       "      <th>IDADE_ALUNO_2020</th>\n",
       "      <th>ANOS_PM_2020</th>\n",
       "      <th>PONTO_VIRADA_2020</th>\n",
       "      <th>INDE_2020</th>\n",
       "      <th>INDE_CONCEITO_2020</th>\n",
       "      <th>PEDRA_2020</th>\n",
       "      <th>DESTAQUE_IEG_2020</th>\n",
       "      <th>DESTAQUE_IDA_2020</th>\n",
       "      <th>DESTAQUE_IPV_2020</th>\n",
       "      <th>IAA_2020</th>\n",
       "      <th>IEG_2020</th>\n",
       "      <th>IPS_2020</th>\n",
       "      <th>IDA_2020</th>\n",
       "      <th>IPP_2020</th>\n",
       "      <th>IPV_2020</th>\n",
       "      <th>IAN_2020</th>\n",
       "      <th>FASE_2021</th>\n",
       "      <th>TURMA_2021</th>\n",
       "      <th>INSTITUICAO_ENSINO_ALUNO_2021</th>\n",
       "      <th>SINALIZADOR_INGRESSANTE_2021</th>\n",
       "      <th>PEDRA_2021</th>\n",
       "      <th>INDE_2021</th>\n",
       "      <th>IAA_2021</th>\n",
       "      <th>IEG_2021</th>\n",
       "      <th>IPS_2021</th>\n",
       "      <th>IDA_2021</th>\n",
       "      <th>IPP_2021</th>\n",
       "      <th>REC_EQUIPE_1_2021</th>\n",
       "      <th>REC_EQUIPE_2_2021</th>\n",
       "      <th>REC_EQUIPE_3_2021</th>\n",
       "      <th>REC_EQUIPE_4_2021</th>\n",
       "      <th>PONTO_VIRADA_2021</th>\n",
       "      <th>IPV_2021</th>\n",
       "      <th>IAN_2021</th>\n",
       "      <th>NIVEL_IDEAL_2021</th>\n",
       "      <th>DEFASAGEM_2021</th>\n",
       "      <th>FASE_2022</th>\n",
       "      <th>TURMA_2022</th>\n",
       "      <th>ANO_INGRESSO_2022</th>\n",
       "      <th>BOLSISTA_2022</th>\n",
       "      <th>INDE_2022</th>\n",
       "      <th>CG_2022</th>\n",
       "      <th>CF_2022</th>\n",
       "      <th>CT_2022</th>\n",
       "      <th>PEDRA_2022</th>\n",
       "      <th>DESTAQUE_IEG_2022</th>\n",
       "      <th>DESTAQUE_IDA_2022</th>\n",
       "      <th>DESTAQUE_IPV_2022</th>\n",
       "      <th>IAA_2022</th>\n",
       "      <th>IEG_2022</th>\n",
       "      <th>IPS_2022</th>\n",
       "      <th>IDA_2022</th>\n",
       "      <th>NOTA_PORT_2022</th>\n",
       "      <th>NOTA_MAT_2022</th>\n",
       "      <th>NOTA_ING_2022</th>\n",
       "      <th>QTD_AVAL_2022</th>\n",
       "      <th>IPP_2022</th>\n",
       "      <th>REC_AVA_1_2022</th>\n",
       "      <th>REC_AVA_2_2022</th>\n",
       "      <th>REC_AVA_3_2022</th>\n",
       "      <th>REC_AVA_4_2022</th>\n",
       "      <th>INDICADO_BOLSA_2022</th>\n",
       "      <th>PONTO_VIRADA_2022</th>\n",
       "      <th>IPV_2022</th>\n",
       "      <th>IAN_2022</th>\n",
       "      <th>NIVEL_IDEAL_2022</th>\n",
       "      <th>FASE_2020</th>\n",
       "      <th>TURMA_2020</th>\n",
       "      <th>ID_ALUNO</th>\n",
       "    </tr>\n",
       "  </thead>\n",
       "  <tbody>\n",
       "    <tr>\n",
       "      <th>0</th>\n",
       "      <td>Escola Pública</td>\n",
       "      <td>ALUNO-1</td>\n",
       "      <td>11</td>\n",
       "      <td>2</td>\n",
       "      <td>Não</td>\n",
       "      <td>7.883752</td>\n",
       "      <td>B</td>\n",
       "      <td>Ametista</td>\n",
       "      <td>Seu destaque em 2020: A sua boa entrega das li...</td>\n",
       "      <td>Ponto a melhorar em 2021: Empenhar-se mais nas...</td>\n",
       "      <td>Seu destaque em 2020: A sua boa integração aos...</td>\n",
       "      <td>8.500020000000001</td>\n",
       "      <td>8.7</td>\n",
       "      <td>7.5</td>\n",
       "      <td>7</td>\n",
       "      <td>5.9375</td>\n",
       "      <td>7.75</td>\n",
       "      <td>10</td>\n",
       "      <td>2.0</td>\n",
       "      <td>G</td>\n",
       "      <td>Rede Decisão</td>\n",
       "      <td>Ingressante</td>\n",
       "      <td>Ametista</td>\n",
       "      <td>7.319</td>\n",
       "      <td>7.5</td>\n",
       "      <td>6.3</td>\n",
       "      <td>6.9</td>\n",
       "      <td>8.8</td>\n",
       "      <td>7.7</td>\n",
       "      <td>Promovido de Fase</td>\n",
       "      <td>Promovido de Fase</td>\n",
       "      <td>Mantido na Fase atual</td>\n",
       "      <td>Não avaliado</td>\n",
       "      <td>Não</td>\n",
       "      <td>8.1</td>\n",
       "      <td>5.0</td>\n",
       "      <td>Nível 3 (7o e 8o ano)</td>\n",
       "      <td>-1.0</td>\n",
       "      <td>NaN</td>\n",
       "      <td>NaN</td>\n",
       "      <td>NaN</td>\n",
       "      <td>NaN</td>\n",
       "      <td>NaN</td>\n",
       "      <td>NaN</td>\n",
       "      <td>NaN</td>\n",
       "      <td>NaN</td>\n",
       "      <td>NaN</td>\n",
       "      <td>NaN</td>\n",
       "      <td>NaN</td>\n",
       "      <td>NaN</td>\n",
       "      <td>NaN</td>\n",
       "      <td>NaN</td>\n",
       "      <td>NaN</td>\n",
       "      <td>NaN</td>\n",
       "      <td>NaN</td>\n",
       "      <td>NaN</td>\n",
       "      <td>NaN</td>\n",
       "      <td>NaN</td>\n",
       "      <td>NaN</td>\n",
       "      <td>NaN</td>\n",
       "      <td>NaN</td>\n",
       "      <td>NaN</td>\n",
       "      <td>NaN</td>\n",
       "      <td>NaN</td>\n",
       "      <td>NaN</td>\n",
       "      <td>NaN</td>\n",
       "      <td>NaN</td>\n",
       "      <td>NaN</td>\n",
       "      <td>2</td>\n",
       "      <td>H</td>\n",
       "      <td>1</td>\n",
       "    </tr>\n",
       "    <tr>\n",
       "      <th>1</th>\n",
       "      <td>NaN</td>\n",
       "      <td>ALUNO-2</td>\n",
       "      <td>NaN</td>\n",
       "      <td>NaN</td>\n",
       "      <td>NaN</td>\n",
       "      <td>NaN</td>\n",
       "      <td>NaN</td>\n",
       "      <td>NaN</td>\n",
       "      <td>NaN</td>\n",
       "      <td>NaN</td>\n",
       "      <td>NaN</td>\n",
       "      <td>NaN</td>\n",
       "      <td>NaN</td>\n",
       "      <td>NaN</td>\n",
       "      <td>NaN</td>\n",
       "      <td>NaN</td>\n",
       "      <td>NaN</td>\n",
       "      <td>NaN</td>\n",
       "      <td>NaN</td>\n",
       "      <td>NaN</td>\n",
       "      <td>NaN</td>\n",
       "      <td>NaN</td>\n",
       "      <td>NaN</td>\n",
       "      <td>NaN</td>\n",
       "      <td>NaN</td>\n",
       "      <td>NaN</td>\n",
       "      <td>NaN</td>\n",
       "      <td>NaN</td>\n",
       "      <td>NaN</td>\n",
       "      <td>NaN</td>\n",
       "      <td>NaN</td>\n",
       "      <td>NaN</td>\n",
       "      <td>NaN</td>\n",
       "      <td>NaN</td>\n",
       "      <td>NaN</td>\n",
       "      <td>NaN</td>\n",
       "      <td>NaN</td>\n",
       "      <td>NaN</td>\n",
       "      <td>0.0</td>\n",
       "      <td>K</td>\n",
       "      <td>2022.0</td>\n",
       "      <td>Não</td>\n",
       "      <td>7.675509</td>\n",
       "      <td>245.0</td>\n",
       "      <td>66.0</td>\n",
       "      <td>6.0</td>\n",
       "      <td>Ametista</td>\n",
       "      <td>Destaque: A sua boa entrega das lições de casa.</td>\n",
       "      <td>Destaque: As suas boas notas na Passos Mágicos.</td>\n",
       "      <td>Destaque: A sua boa integração aos Princípios ...</td>\n",
       "      <td>10.00002</td>\n",
       "      <td>7.581705</td>\n",
       "      <td>7.5</td>\n",
       "      <td>8.816667</td>\n",
       "      <td>8.200000</td>\n",
       "      <td>9.433333</td>\n",
       "      <td>NaN</td>\n",
       "      <td>2.0</td>\n",
       "      <td>5.625000</td>\n",
       "      <td>Mantido na Fase + Bolsa</td>\n",
       "      <td>Mantido na Fase atual</td>\n",
       "      <td>NaN</td>\n",
       "      <td>NaN</td>\n",
       "      <td>Sim</td>\n",
       "      <td>Não</td>\n",
       "      <td>7.916665</td>\n",
       "      <td>5.0</td>\n",
       "      <td>Fase 2 (5º e 6º ano)</td>\n",
       "      <td>NaN</td>\n",
       "      <td>NaN</td>\n",
       "      <td>2</td>\n",
       "    </tr>\n",
       "    <tr>\n",
       "      <th>2</th>\n",
       "      <td>Escola Pública</td>\n",
       "      <td>ALUNO-3</td>\n",
       "      <td>12</td>\n",
       "      <td>2</td>\n",
       "      <td>Não</td>\n",
       "      <td>7.856389666666666</td>\n",
       "      <td>B</td>\n",
       "      <td>Ametista</td>\n",
       "      <td>Seu destaque em 2020: A sua boa entrega das li...</td>\n",
       "      <td>Ponto a melhorar em 2021: Empenhar-se mais nas...</td>\n",
       "      <td>Seu destaque em 2020: A sua boa integração aos...</td>\n",
       "      <td>7.91667</td>\n",
       "      <td>8.9</td>\n",
       "      <td>7.5</td>\n",
       "      <td>5.5</td>\n",
       "      <td>8.125</td>\n",
       "      <td>8.111113333333334</td>\n",
       "      <td>10</td>\n",
       "      <td>3.0</td>\n",
       "      <td>F</td>\n",
       "      <td>Escola Pública</td>\n",
       "      <td>Veterano</td>\n",
       "      <td>Ametista</td>\n",
       "      <td>7.021</td>\n",
       "      <td>7.1</td>\n",
       "      <td>6.9</td>\n",
       "      <td>6.3</td>\n",
       "      <td>5.6</td>\n",
       "      <td>7.3</td>\n",
       "      <td>Promovido de Fase</td>\n",
       "      <td>Promovido de Fase</td>\n",
       "      <td>Mantido na Fase atual</td>\n",
       "      <td>Não avaliado</td>\n",
       "      <td>Não</td>\n",
       "      <td>7.2</td>\n",
       "      <td>10.0</td>\n",
       "      <td>Nível 3 (7o e 8o ano)</td>\n",
       "      <td>0.0</td>\n",
       "      <td>NaN</td>\n",
       "      <td>NaN</td>\n",
       "      <td>NaN</td>\n",
       "      <td>NaN</td>\n",
       "      <td>NaN</td>\n",
       "      <td>NaN</td>\n",
       "      <td>NaN</td>\n",
       "      <td>NaN</td>\n",
       "      <td>NaN</td>\n",
       "      <td>NaN</td>\n",
       "      <td>NaN</td>\n",
       "      <td>NaN</td>\n",
       "      <td>NaN</td>\n",
       "      <td>NaN</td>\n",
       "      <td>NaN</td>\n",
       "      <td>NaN</td>\n",
       "      <td>NaN</td>\n",
       "      <td>NaN</td>\n",
       "      <td>NaN</td>\n",
       "      <td>NaN</td>\n",
       "      <td>NaN</td>\n",
       "      <td>NaN</td>\n",
       "      <td>NaN</td>\n",
       "      <td>NaN</td>\n",
       "      <td>NaN</td>\n",
       "      <td>NaN</td>\n",
       "      <td>NaN</td>\n",
       "      <td>NaN</td>\n",
       "      <td>NaN</td>\n",
       "      <td>NaN</td>\n",
       "      <td>3</td>\n",
       "      <td>H</td>\n",
       "      <td>3</td>\n",
       "    </tr>\n",
       "    <tr>\n",
       "      <th>3</th>\n",
       "      <td>Escola Pública</td>\n",
       "      <td>ALUNO-4</td>\n",
       "      <td>10</td>\n",
       "      <td>2</td>\n",
       "      <td>Não</td>\n",
       "      <td>5.076252</td>\n",
       "      <td>D</td>\n",
       "      <td>Quartzo</td>\n",
       "      <td>Ponto a melhorar em 2021: Melhorar a sua entre...</td>\n",
       "      <td>Ponto a melhorar em 2021: Empenhar-se mais nas...</td>\n",
       "      <td>Ponto a melhorar em 2021: Integrar-se mais aos...</td>\n",
       "      <td>8.000020000000001</td>\n",
       "      <td>4.1</td>\n",
       "      <td>6.875</td>\n",
       "      <td>0</td>\n",
       "      <td>7.1875</td>\n",
       "      <td>7.75</td>\n",
       "      <td>5</td>\n",
       "      <td>NaN</td>\n",
       "      <td>NaN</td>\n",
       "      <td>NaN</td>\n",
       "      <td>NaN</td>\n",
       "      <td>NaN</td>\n",
       "      <td>NaN</td>\n",
       "      <td>NaN</td>\n",
       "      <td>NaN</td>\n",
       "      <td>NaN</td>\n",
       "      <td>NaN</td>\n",
       "      <td>NaN</td>\n",
       "      <td>NaN</td>\n",
       "      <td>NaN</td>\n",
       "      <td>NaN</td>\n",
       "      <td>NaN</td>\n",
       "      <td>NaN</td>\n",
       "      <td>NaN</td>\n",
       "      <td>NaN</td>\n",
       "      <td>NaN</td>\n",
       "      <td>NaN</td>\n",
       "      <td>2.0</td>\n",
       "      <td>J</td>\n",
       "      <td>2022.0</td>\n",
       "      <td>Não</td>\n",
       "      <td>7.117065</td>\n",
       "      <td>451.0</td>\n",
       "      <td>69.0</td>\n",
       "      <td>3.0</td>\n",
       "      <td>Ametista</td>\n",
       "      <td>Destaque: A sua boa entrega das lições de casa.</td>\n",
       "      <td>Melhorar: Empenhar-se mais nas aulas e avaliaç...</td>\n",
       "      <td>Destaque: A sua boa integração aos Princípios ...</td>\n",
       "      <td>10.00002</td>\n",
       "      <td>8.071429</td>\n",
       "      <td>7.5</td>\n",
       "      <td>5.083333</td>\n",
       "      <td>5.000000</td>\n",
       "      <td>5.166667</td>\n",
       "      <td>NaN</td>\n",
       "      <td>3.0</td>\n",
       "      <td>6.250000</td>\n",
       "      <td>Promovido de Fase</td>\n",
       "      <td>Mantido na Fase atual</td>\n",
       "      <td>Promovido de Fase</td>\n",
       "      <td>NaN</td>\n",
       "      <td>Não</td>\n",
       "      <td>Não</td>\n",
       "      <td>8.055553</td>\n",
       "      <td>5.0</td>\n",
       "      <td>Fase 3 (7º e 8º ano)</td>\n",
       "      <td>1</td>\n",
       "      <td>D</td>\n",
       "      <td>4</td>\n",
       "    </tr>\n",
       "    <tr>\n",
       "      <th>4</th>\n",
       "      <td>Escola Pública</td>\n",
       "      <td>ALUNO-5</td>\n",
       "      <td>10</td>\n",
       "      <td>1</td>\n",
       "      <td>Não</td>\n",
       "      <td>8.077085</td>\n",
       "      <td>B</td>\n",
       "      <td>Ametista</td>\n",
       "      <td>Seu destaque em 2020: A sua boa entrega das li...</td>\n",
       "      <td>Seu destaque em 2020: As suas boas notas na Pa...</td>\n",
       "      <td>Seu destaque em 2020: A sua boa integração aos...</td>\n",
       "      <td>7.50002</td>\n",
       "      <td>8</td>\n",
       "      <td>7.5</td>\n",
       "      <td>7.5</td>\n",
       "      <td>8.4375</td>\n",
       "      <td>8.166665</td>\n",
       "      <td>10</td>\n",
       "      <td>2.0</td>\n",
       "      <td>L</td>\n",
       "      <td>Escola Pública</td>\n",
       "      <td>Veterano</td>\n",
       "      <td>Ametista</td>\n",
       "      <td>7.399</td>\n",
       "      <td>7.4</td>\n",
       "      <td>7.5</td>\n",
       "      <td>7.5</td>\n",
       "      <td>5.4</td>\n",
       "      <td>8.5</td>\n",
       "      <td>Promovido de Fase</td>\n",
       "      <td>Mantido na Fase atual</td>\n",
       "      <td>Mantido na Fase atual</td>\n",
       "      <td>Não avaliado</td>\n",
       "      <td>Não</td>\n",
       "      <td>7.4</td>\n",
       "      <td>10.0</td>\n",
       "      <td>Nível 2 (5o e 6o ano)</td>\n",
       "      <td>0.0</td>\n",
       "      <td>2.0</td>\n",
       "      <td>L</td>\n",
       "      <td>2019.0</td>\n",
       "      <td>Não</td>\n",
       "      <td>7.232336</td>\n",
       "      <td>415.0</td>\n",
       "      <td>61.0</td>\n",
       "      <td>12.0</td>\n",
       "      <td>Ametista</td>\n",
       "      <td>Destaque: A sua boa entrega das lições de casa.</td>\n",
       "      <td>Melhorar: Empenhar-se mais nas aulas e avaliaç...</td>\n",
       "      <td>Destaque: A sua boa integração aos Princípios ...</td>\n",
       "      <td>6.41668</td>\n",
       "      <td>8.557505</td>\n",
       "      <td>7.5</td>\n",
       "      <td>7.083333</td>\n",
       "      <td>6.666667</td>\n",
       "      <td>7.500000</td>\n",
       "      <td>NaN</td>\n",
       "      <td>3.0</td>\n",
       "      <td>6.458333</td>\n",
       "      <td>Mantido na Fase atual</td>\n",
       "      <td>Promovido de Fase</td>\n",
       "      <td>Mantido na Fase atual</td>\n",
       "      <td>NaN</td>\n",
       "      <td>Não</td>\n",
       "      <td>Não</td>\n",
       "      <td>7.833337</td>\n",
       "      <td>5.0</td>\n",
       "      <td>Fase 3 (7º e 8º ano)</td>\n",
       "      <td>2</td>\n",
       "      <td>M</td>\n",
       "      <td>5</td>\n",
       "    </tr>\n",
       "  </tbody>\n",
       "</table>\n",
       "</div>"
      ],
      "text/plain": [
       "  INSTITUICAO_ENSINO_ALUNO_2020     NOME IDADE_ALUNO_2020 ANOS_PM_2020  \\\n",
       "0                Escola Pública  ALUNO-1               11            2   \n",
       "1                           NaN  ALUNO-2              NaN          NaN   \n",
       "2                Escola Pública  ALUNO-3               12            2   \n",
       "3                Escola Pública  ALUNO-4               10            2   \n",
       "4                Escola Pública  ALUNO-5               10            1   \n",
       "\n",
       "  PONTO_VIRADA_2020          INDE_2020 INDE_CONCEITO_2020 PEDRA_2020  \\\n",
       "0               Não           7.883752                  B   Ametista   \n",
       "1               NaN                NaN                NaN        NaN   \n",
       "2               Não  7.856389666666666                  B   Ametista   \n",
       "3               Não           5.076252                  D    Quartzo   \n",
       "4               Não           8.077085                  B   Ametista   \n",
       "\n",
       "                                   DESTAQUE_IEG_2020  \\\n",
       "0  Seu destaque em 2020: A sua boa entrega das li...   \n",
       "1                                                NaN   \n",
       "2  Seu destaque em 2020: A sua boa entrega das li...   \n",
       "3  Ponto a melhorar em 2021: Melhorar a sua entre...   \n",
       "4  Seu destaque em 2020: A sua boa entrega das li...   \n",
       "\n",
       "                                   DESTAQUE_IDA_2020  \\\n",
       "0  Ponto a melhorar em 2021: Empenhar-se mais nas...   \n",
       "1                                                NaN   \n",
       "2  Ponto a melhorar em 2021: Empenhar-se mais nas...   \n",
       "3  Ponto a melhorar em 2021: Empenhar-se mais nas...   \n",
       "4  Seu destaque em 2020: As suas boas notas na Pa...   \n",
       "\n",
       "                                   DESTAQUE_IPV_2020           IAA_2020  \\\n",
       "0  Seu destaque em 2020: A sua boa integração aos...  8.500020000000001   \n",
       "1                                                NaN                NaN   \n",
       "2  Seu destaque em 2020: A sua boa integração aos...            7.91667   \n",
       "3  Ponto a melhorar em 2021: Integrar-se mais aos...  8.000020000000001   \n",
       "4  Seu destaque em 2020: A sua boa integração aos...            7.50002   \n",
       "\n",
       "  IEG_2020 IPS_2020 IDA_2020 IPP_2020           IPV_2020 IAN_2020  FASE_2021  \\\n",
       "0      8.7      7.5        7   5.9375               7.75       10        2.0   \n",
       "1      NaN      NaN      NaN      NaN                NaN      NaN        NaN   \n",
       "2      8.9      7.5      5.5    8.125  8.111113333333334       10        3.0   \n",
       "3      4.1    6.875        0   7.1875               7.75        5        NaN   \n",
       "4        8      7.5      7.5   8.4375           8.166665       10        2.0   \n",
       "\n",
       "  TURMA_2021 INSTITUICAO_ENSINO_ALUNO_2021 SINALIZADOR_INGRESSANTE_2021  \\\n",
       "0          G                  Rede Decisão                  Ingressante   \n",
       "1        NaN                           NaN                          NaN   \n",
       "2          F                Escola Pública                     Veterano   \n",
       "3        NaN                           NaN                          NaN   \n",
       "4          L                Escola Pública                     Veterano   \n",
       "\n",
       "  PEDRA_2021 INDE_2021  IAA_2021  IEG_2021  IPS_2021  IDA_2021  IPP_2021  \\\n",
       "0   Ametista     7.319       7.5       6.3       6.9       8.8       7.7   \n",
       "1        NaN       NaN       NaN       NaN       NaN       NaN       NaN   \n",
       "2   Ametista     7.021       7.1       6.9       6.3       5.6       7.3   \n",
       "3        NaN       NaN       NaN       NaN       NaN       NaN       NaN   \n",
       "4   Ametista     7.399       7.4       7.5       7.5       5.4       8.5   \n",
       "\n",
       "   REC_EQUIPE_1_2021      REC_EQUIPE_2_2021      REC_EQUIPE_3_2021  \\\n",
       "0  Promovido de Fase      Promovido de Fase  Mantido na Fase atual   \n",
       "1                NaN                    NaN                    NaN   \n",
       "2  Promovido de Fase      Promovido de Fase  Mantido na Fase atual   \n",
       "3                NaN                    NaN                    NaN   \n",
       "4  Promovido de Fase  Mantido na Fase atual  Mantido na Fase atual   \n",
       "\n",
       "  REC_EQUIPE_4_2021 PONTO_VIRADA_2021  IPV_2021  IAN_2021  \\\n",
       "0      Não avaliado               Não       8.1       5.0   \n",
       "1               NaN               NaN       NaN       NaN   \n",
       "2      Não avaliado               Não       7.2      10.0   \n",
       "3               NaN               NaN       NaN       NaN   \n",
       "4      Não avaliado               Não       7.4      10.0   \n",
       "\n",
       "        NIVEL_IDEAL_2021  DEFASAGEM_2021  FASE_2022 TURMA_2022  \\\n",
       "0  Nível 3 (7o e 8o ano)            -1.0        NaN        NaN   \n",
       "1                    NaN             NaN        0.0          K   \n",
       "2  Nível 3 (7o e 8o ano)             0.0        NaN        NaN   \n",
       "3                    NaN             NaN        2.0          J   \n",
       "4  Nível 2 (5o e 6o ano)             0.0        2.0          L   \n",
       "\n",
       "   ANO_INGRESSO_2022 BOLSISTA_2022  INDE_2022  CG_2022  CF_2022  CT_2022  \\\n",
       "0                NaN           NaN        NaN      NaN      NaN      NaN   \n",
       "1             2022.0           Não   7.675509    245.0     66.0      6.0   \n",
       "2                NaN           NaN        NaN      NaN      NaN      NaN   \n",
       "3             2022.0           Não   7.117065    451.0     69.0      3.0   \n",
       "4             2019.0           Não   7.232336    415.0     61.0     12.0   \n",
       "\n",
       "  PEDRA_2022                                DESTAQUE_IEG_2022  \\\n",
       "0        NaN                                              NaN   \n",
       "1   Ametista  Destaque: A sua boa entrega das lições de casa.   \n",
       "2        NaN                                              NaN   \n",
       "3   Ametista  Destaque: A sua boa entrega das lições de casa.   \n",
       "4   Ametista  Destaque: A sua boa entrega das lições de casa.   \n",
       "\n",
       "                                   DESTAQUE_IDA_2022  \\\n",
       "0                                                NaN   \n",
       "1    Destaque: As suas boas notas na Passos Mágicos.   \n",
       "2                                                NaN   \n",
       "3  Melhorar: Empenhar-se mais nas aulas e avaliaç...   \n",
       "4  Melhorar: Empenhar-se mais nas aulas e avaliaç...   \n",
       "\n",
       "                                   DESTAQUE_IPV_2022  IAA_2022  IEG_2022  \\\n",
       "0                                                NaN       NaN       NaN   \n",
       "1  Destaque: A sua boa integração aos Princípios ...  10.00002  7.581705   \n",
       "2                                                NaN       NaN       NaN   \n",
       "3  Destaque: A sua boa integração aos Princípios ...  10.00002  8.071429   \n",
       "4  Destaque: A sua boa integração aos Princípios ...   6.41668  8.557505   \n",
       "\n",
       "   IPS_2022  IDA_2022  NOTA_PORT_2022  NOTA_MAT_2022  NOTA_ING_2022  \\\n",
       "0       NaN       NaN             NaN            NaN            NaN   \n",
       "1       7.5  8.816667        8.200000       9.433333            NaN   \n",
       "2       NaN       NaN             NaN            NaN            NaN   \n",
       "3       7.5  5.083333        5.000000       5.166667            NaN   \n",
       "4       7.5  7.083333        6.666667       7.500000            NaN   \n",
       "\n",
       "   QTD_AVAL_2022  IPP_2022           REC_AVA_1_2022         REC_AVA_2_2022  \\\n",
       "0            NaN       NaN                      NaN                    NaN   \n",
       "1            2.0  5.625000  Mantido na Fase + Bolsa  Mantido na Fase atual   \n",
       "2            NaN       NaN                      NaN                    NaN   \n",
       "3            3.0  6.250000        Promovido de Fase  Mantido na Fase atual   \n",
       "4            3.0  6.458333    Mantido na Fase atual      Promovido de Fase   \n",
       "\n",
       "          REC_AVA_3_2022 REC_AVA_4_2022 INDICADO_BOLSA_2022 PONTO_VIRADA_2022  \\\n",
       "0                    NaN            NaN                 NaN               NaN   \n",
       "1                    NaN            NaN                 Sim               Não   \n",
       "2                    NaN            NaN                 NaN               NaN   \n",
       "3      Promovido de Fase            NaN                 Não               Não   \n",
       "4  Mantido na Fase atual            NaN                 Não               Não   \n",
       "\n",
       "   IPV_2022  IAN_2022      NIVEL_IDEAL_2022 FASE_2020 TURMA_2020  ID_ALUNO  \n",
       "0       NaN       NaN                   NaN         2          H         1  \n",
       "1  7.916665       5.0  Fase 2 (5º e 6º ano)       NaN        NaN         2  \n",
       "2       NaN       NaN                   NaN         3          H         3  \n",
       "3  8.055553       5.0  Fase 3 (7º e 8º ano)         1          D         4  \n",
       "4  7.833337       5.0  Fase 3 (7º e 8º ano)         2          M         5  "
      ]
     },
     "execution_count": 6,
     "metadata": {},
     "output_type": "execute_result"
    }
   ],
   "source": [
    "df_original.head()"
   ]
  },
  {
   "cell_type": "code",
   "execution_count": 7,
   "id": "efb66763e168f41e",
   "metadata": {
    "ExecuteTime": {
     "end_time": "2024-08-06T23:58:38.718208Z",
     "start_time": "2024-08-06T23:58:38.712384Z"
    }
   },
   "outputs": [
    {
     "data": {
      "text/plain": [
       "Index(['INSTITUICAO_ENSINO_ALUNO_2020', 'NOME', 'IDADE_ALUNO_2020',\n",
       "       'ANOS_PM_2020', 'PONTO_VIRADA_2020', 'INDE_2020', 'INDE_CONCEITO_2020',\n",
       "       'PEDRA_2020', 'DESTAQUE_IEG_2020', 'DESTAQUE_IDA_2020',\n",
       "       'DESTAQUE_IPV_2020', 'IAA_2020', 'IEG_2020', 'IPS_2020', 'IDA_2020',\n",
       "       'IPP_2020', 'IPV_2020', 'IAN_2020', 'FASE_2021', 'TURMA_2021',\n",
       "       'INSTITUICAO_ENSINO_ALUNO_2021', 'SINALIZADOR_INGRESSANTE_2021',\n",
       "       'PEDRA_2021', 'INDE_2021', 'IAA_2021', 'IEG_2021', 'IPS_2021',\n",
       "       'IDA_2021', 'IPP_2021', 'REC_EQUIPE_1_2021', 'REC_EQUIPE_2_2021',\n",
       "       'REC_EQUIPE_3_2021', 'REC_EQUIPE_4_2021', 'PONTO_VIRADA_2021',\n",
       "       'IPV_2021', 'IAN_2021', 'NIVEL_IDEAL_2021', 'DEFASAGEM_2021',\n",
       "       'FASE_2022', 'TURMA_2022', 'ANO_INGRESSO_2022', 'BOLSISTA_2022',\n",
       "       'INDE_2022', 'CG_2022', 'CF_2022', 'CT_2022', 'PEDRA_2022',\n",
       "       'DESTAQUE_IEG_2022', 'DESTAQUE_IDA_2022', 'DESTAQUE_IPV_2022',\n",
       "       'IAA_2022', 'IEG_2022', 'IPS_2022', 'IDA_2022', 'NOTA_PORT_2022',\n",
       "       'NOTA_MAT_2022', 'NOTA_ING_2022', 'QTD_AVAL_2022', 'IPP_2022',\n",
       "       'REC_AVA_1_2022', 'REC_AVA_2_2022', 'REC_AVA_3_2022', 'REC_AVA_4_2022',\n",
       "       'INDICADO_BOLSA_2022', 'PONTO_VIRADA_2022', 'IPV_2022', 'IAN_2022',\n",
       "       'NIVEL_IDEAL_2022', 'FASE_2020', 'TURMA_2020', 'ID_ALUNO'],\n",
       "      dtype='object')"
      ]
     },
     "execution_count": 7,
     "metadata": {},
     "output_type": "execute_result"
    }
   ],
   "source": [
    "df_original.columns"
   ]
  },
  {
   "cell_type": "markdown",
   "id": "9011a2233fb65aa4",
   "metadata": {},
   "source": [
    "Para facilitar a análise dos dados, vamos selecionar apenas as colunas que são comuns a todos os anos."
   ]
  },
  {
   "cell_type": "code",
   "execution_count": 8,
   "id": "5ddfaadb8652c921",
   "metadata": {
    "ExecuteTime": {
     "end_time": "2024-08-06T23:58:38.837703Z",
     "start_time": "2024-08-06T23:58:38.800955Z"
    }
   },
   "outputs": [
    {
     "data": {
      "text/html": [
       "<div>\n",
       "<style scoped>\n",
       "    .dataframe tbody tr th:only-of-type {\n",
       "        vertical-align: middle;\n",
       "    }\n",
       "\n",
       "    .dataframe tbody tr th {\n",
       "        vertical-align: top;\n",
       "    }\n",
       "\n",
       "    .dataframe thead th {\n",
       "        text-align: right;\n",
       "    }\n",
       "</style>\n",
       "<table border=\"1\" class=\"dataframe\">\n",
       "  <thead>\n",
       "    <tr style=\"text-align: right;\">\n",
       "      <th></th>\n",
       "      <th>ID_ALUNO</th>\n",
       "      <th>NOME</th>\n",
       "      <th>FASE_2020</th>\n",
       "      <th>TURMA_2020</th>\n",
       "      <th>PONTO_VIRADA_2020</th>\n",
       "      <th>INDE_2020</th>\n",
       "      <th>PEDRA_2020</th>\n",
       "      <th>IAA_2020</th>\n",
       "      <th>IEG_2020</th>\n",
       "      <th>IPS_2020</th>\n",
       "      <th>IDA_2020</th>\n",
       "      <th>IPP_2020</th>\n",
       "      <th>IPV_2020</th>\n",
       "      <th>IAN_2020</th>\n",
       "      <th>FASE_2021</th>\n",
       "      <th>TURMA_2021</th>\n",
       "      <th>PONTO_VIRADA_2021</th>\n",
       "      <th>INDE_2021</th>\n",
       "      <th>PEDRA_2021</th>\n",
       "      <th>IAA_2021</th>\n",
       "      <th>IEG_2021</th>\n",
       "      <th>IPS_2021</th>\n",
       "      <th>IDA_2021</th>\n",
       "      <th>IPP_2021</th>\n",
       "      <th>IPV_2021</th>\n",
       "      <th>IAN_2021</th>\n",
       "      <th>FASE_2022</th>\n",
       "      <th>TURMA_2022</th>\n",
       "      <th>PONTO_VIRADA_2022</th>\n",
       "      <th>INDE_2022</th>\n",
       "      <th>PEDRA_2022</th>\n",
       "      <th>IAA_2022</th>\n",
       "      <th>IEG_2022</th>\n",
       "      <th>IPS_2022</th>\n",
       "      <th>IDA_2022</th>\n",
       "      <th>IPP_2022</th>\n",
       "      <th>IPV_2022</th>\n",
       "      <th>IAN_2022</th>\n",
       "    </tr>\n",
       "  </thead>\n",
       "  <tbody>\n",
       "    <tr>\n",
       "      <th>0</th>\n",
       "      <td>1</td>\n",
       "      <td>ALUNO-1</td>\n",
       "      <td>2</td>\n",
       "      <td>H</td>\n",
       "      <td>Não</td>\n",
       "      <td>7.883752</td>\n",
       "      <td>Ametista</td>\n",
       "      <td>8.500020000000001</td>\n",
       "      <td>8.7</td>\n",
       "      <td>7.5</td>\n",
       "      <td>7</td>\n",
       "      <td>5.9375</td>\n",
       "      <td>7.75</td>\n",
       "      <td>10</td>\n",
       "      <td>2.0</td>\n",
       "      <td>G</td>\n",
       "      <td>Não</td>\n",
       "      <td>7.319</td>\n",
       "      <td>Ametista</td>\n",
       "      <td>7.5</td>\n",
       "      <td>6.3</td>\n",
       "      <td>6.9</td>\n",
       "      <td>8.8</td>\n",
       "      <td>7.7</td>\n",
       "      <td>8.1</td>\n",
       "      <td>5.0</td>\n",
       "      <td>NaN</td>\n",
       "      <td>NaN</td>\n",
       "      <td>NaN</td>\n",
       "      <td>NaN</td>\n",
       "      <td>NaN</td>\n",
       "      <td>NaN</td>\n",
       "      <td>NaN</td>\n",
       "      <td>NaN</td>\n",
       "      <td>NaN</td>\n",
       "      <td>NaN</td>\n",
       "      <td>NaN</td>\n",
       "      <td>NaN</td>\n",
       "    </tr>\n",
       "    <tr>\n",
       "      <th>1</th>\n",
       "      <td>2</td>\n",
       "      <td>ALUNO-2</td>\n",
       "      <td>NaN</td>\n",
       "      <td>NaN</td>\n",
       "      <td>NaN</td>\n",
       "      <td>NaN</td>\n",
       "      <td>NaN</td>\n",
       "      <td>NaN</td>\n",
       "      <td>NaN</td>\n",
       "      <td>NaN</td>\n",
       "      <td>NaN</td>\n",
       "      <td>NaN</td>\n",
       "      <td>NaN</td>\n",
       "      <td>NaN</td>\n",
       "      <td>NaN</td>\n",
       "      <td>NaN</td>\n",
       "      <td>NaN</td>\n",
       "      <td>NaN</td>\n",
       "      <td>NaN</td>\n",
       "      <td>NaN</td>\n",
       "      <td>NaN</td>\n",
       "      <td>NaN</td>\n",
       "      <td>NaN</td>\n",
       "      <td>NaN</td>\n",
       "      <td>NaN</td>\n",
       "      <td>NaN</td>\n",
       "      <td>0.0</td>\n",
       "      <td>K</td>\n",
       "      <td>Não</td>\n",
       "      <td>7.675509</td>\n",
       "      <td>Ametista</td>\n",
       "      <td>10.00002</td>\n",
       "      <td>7.581705</td>\n",
       "      <td>7.500</td>\n",
       "      <td>8.816667</td>\n",
       "      <td>5.625000</td>\n",
       "      <td>7.916665</td>\n",
       "      <td>5.0</td>\n",
       "    </tr>\n",
       "    <tr>\n",
       "      <th>2</th>\n",
       "      <td>3</td>\n",
       "      <td>ALUNO-3</td>\n",
       "      <td>3</td>\n",
       "      <td>H</td>\n",
       "      <td>Não</td>\n",
       "      <td>7.856389666666666</td>\n",
       "      <td>Ametista</td>\n",
       "      <td>7.91667</td>\n",
       "      <td>8.9</td>\n",
       "      <td>7.5</td>\n",
       "      <td>5.5</td>\n",
       "      <td>8.125</td>\n",
       "      <td>8.111113333333334</td>\n",
       "      <td>10</td>\n",
       "      <td>3.0</td>\n",
       "      <td>F</td>\n",
       "      <td>Não</td>\n",
       "      <td>7.021</td>\n",
       "      <td>Ametista</td>\n",
       "      <td>7.1</td>\n",
       "      <td>6.9</td>\n",
       "      <td>6.3</td>\n",
       "      <td>5.6</td>\n",
       "      <td>7.3</td>\n",
       "      <td>7.2</td>\n",
       "      <td>10.0</td>\n",
       "      <td>NaN</td>\n",
       "      <td>NaN</td>\n",
       "      <td>NaN</td>\n",
       "      <td>NaN</td>\n",
       "      <td>NaN</td>\n",
       "      <td>NaN</td>\n",
       "      <td>NaN</td>\n",
       "      <td>NaN</td>\n",
       "      <td>NaN</td>\n",
       "      <td>NaN</td>\n",
       "      <td>NaN</td>\n",
       "      <td>NaN</td>\n",
       "    </tr>\n",
       "    <tr>\n",
       "      <th>3</th>\n",
       "      <td>4</td>\n",
       "      <td>ALUNO-4</td>\n",
       "      <td>1</td>\n",
       "      <td>D</td>\n",
       "      <td>Não</td>\n",
       "      <td>5.076252</td>\n",
       "      <td>Quartzo</td>\n",
       "      <td>8.000020000000001</td>\n",
       "      <td>4.1</td>\n",
       "      <td>6.875</td>\n",
       "      <td>0</td>\n",
       "      <td>7.1875</td>\n",
       "      <td>7.75</td>\n",
       "      <td>5</td>\n",
       "      <td>NaN</td>\n",
       "      <td>NaN</td>\n",
       "      <td>NaN</td>\n",
       "      <td>NaN</td>\n",
       "      <td>NaN</td>\n",
       "      <td>NaN</td>\n",
       "      <td>NaN</td>\n",
       "      <td>NaN</td>\n",
       "      <td>NaN</td>\n",
       "      <td>NaN</td>\n",
       "      <td>NaN</td>\n",
       "      <td>NaN</td>\n",
       "      <td>2.0</td>\n",
       "      <td>J</td>\n",
       "      <td>Não</td>\n",
       "      <td>7.117065</td>\n",
       "      <td>Ametista</td>\n",
       "      <td>10.00002</td>\n",
       "      <td>8.071429</td>\n",
       "      <td>7.500</td>\n",
       "      <td>5.083333</td>\n",
       "      <td>6.250000</td>\n",
       "      <td>8.055553</td>\n",
       "      <td>5.0</td>\n",
       "    </tr>\n",
       "    <tr>\n",
       "      <th>4</th>\n",
       "      <td>5</td>\n",
       "      <td>ALUNO-5</td>\n",
       "      <td>2</td>\n",
       "      <td>M</td>\n",
       "      <td>Não</td>\n",
       "      <td>8.077085</td>\n",
       "      <td>Ametista</td>\n",
       "      <td>7.50002</td>\n",
       "      <td>8</td>\n",
       "      <td>7.5</td>\n",
       "      <td>7.5</td>\n",
       "      <td>8.4375</td>\n",
       "      <td>8.166665</td>\n",
       "      <td>10</td>\n",
       "      <td>2.0</td>\n",
       "      <td>L</td>\n",
       "      <td>Não</td>\n",
       "      <td>7.399</td>\n",
       "      <td>Ametista</td>\n",
       "      <td>7.4</td>\n",
       "      <td>7.5</td>\n",
       "      <td>7.5</td>\n",
       "      <td>5.4</td>\n",
       "      <td>8.5</td>\n",
       "      <td>7.4</td>\n",
       "      <td>10.0</td>\n",
       "      <td>2.0</td>\n",
       "      <td>L</td>\n",
       "      <td>Não</td>\n",
       "      <td>7.232336</td>\n",
       "      <td>Ametista</td>\n",
       "      <td>6.41668</td>\n",
       "      <td>8.557505</td>\n",
       "      <td>7.500</td>\n",
       "      <td>7.083333</td>\n",
       "      <td>6.458333</td>\n",
       "      <td>7.833337</td>\n",
       "      <td>5.0</td>\n",
       "    </tr>\n",
       "    <tr>\n",
       "      <th>...</th>\n",
       "      <td>...</td>\n",
       "      <td>...</td>\n",
       "      <td>...</td>\n",
       "      <td>...</td>\n",
       "      <td>...</td>\n",
       "      <td>...</td>\n",
       "      <td>...</td>\n",
       "      <td>...</td>\n",
       "      <td>...</td>\n",
       "      <td>...</td>\n",
       "      <td>...</td>\n",
       "      <td>...</td>\n",
       "      <td>...</td>\n",
       "      <td>...</td>\n",
       "      <td>...</td>\n",
       "      <td>...</td>\n",
       "      <td>...</td>\n",
       "      <td>...</td>\n",
       "      <td>...</td>\n",
       "      <td>...</td>\n",
       "      <td>...</td>\n",
       "      <td>...</td>\n",
       "      <td>...</td>\n",
       "      <td>...</td>\n",
       "      <td>...</td>\n",
       "      <td>...</td>\n",
       "      <td>...</td>\n",
       "      <td>...</td>\n",
       "      <td>...</td>\n",
       "      <td>...</td>\n",
       "      <td>...</td>\n",
       "      <td>...</td>\n",
       "      <td>...</td>\n",
       "      <td>...</td>\n",
       "      <td>...</td>\n",
       "      <td>...</td>\n",
       "      <td>...</td>\n",
       "      <td>...</td>\n",
       "    </tr>\n",
       "    <tr>\n",
       "      <th>1344</th>\n",
       "      <td>1345</td>\n",
       "      <td>ALUNO-1345</td>\n",
       "      <td>NaN</td>\n",
       "      <td>NaN</td>\n",
       "      <td>NaN</td>\n",
       "      <td>NaN</td>\n",
       "      <td>NaN</td>\n",
       "      <td>NaN</td>\n",
       "      <td>NaN</td>\n",
       "      <td>NaN</td>\n",
       "      <td>NaN</td>\n",
       "      <td>NaN</td>\n",
       "      <td>NaN</td>\n",
       "      <td>NaN</td>\n",
       "      <td>0.0</td>\n",
       "      <td>L</td>\n",
       "      <td>Não</td>\n",
       "      <td>6.606</td>\n",
       "      <td>Ágata</td>\n",
       "      <td>9.0</td>\n",
       "      <td>6.7</td>\n",
       "      <td>7.5</td>\n",
       "      <td>4.9</td>\n",
       "      <td>7.2</td>\n",
       "      <td>7.1</td>\n",
       "      <td>5.0</td>\n",
       "      <td>NaN</td>\n",
       "      <td>NaN</td>\n",
       "      <td>NaN</td>\n",
       "      <td>NaN</td>\n",
       "      <td>NaN</td>\n",
       "      <td>NaN</td>\n",
       "      <td>NaN</td>\n",
       "      <td>NaN</td>\n",
       "      <td>NaN</td>\n",
       "      <td>NaN</td>\n",
       "      <td>NaN</td>\n",
       "      <td>NaN</td>\n",
       "    </tr>\n",
       "    <tr>\n",
       "      <th>1345</th>\n",
       "      <td>1346</td>\n",
       "      <td>ALUNO-1346</td>\n",
       "      <td>NaN</td>\n",
       "      <td>NaN</td>\n",
       "      <td>NaN</td>\n",
       "      <td>NaN</td>\n",
       "      <td>NaN</td>\n",
       "      <td>NaN</td>\n",
       "      <td>NaN</td>\n",
       "      <td>NaN</td>\n",
       "      <td>NaN</td>\n",
       "      <td>NaN</td>\n",
       "      <td>NaN</td>\n",
       "      <td>NaN</td>\n",
       "      <td>NaN</td>\n",
       "      <td>NaN</td>\n",
       "      <td>NaN</td>\n",
       "      <td>NaN</td>\n",
       "      <td>NaN</td>\n",
       "      <td>NaN</td>\n",
       "      <td>NaN</td>\n",
       "      <td>NaN</td>\n",
       "      <td>NaN</td>\n",
       "      <td>NaN</td>\n",
       "      <td>NaN</td>\n",
       "      <td>NaN</td>\n",
       "      <td>0.0</td>\n",
       "      <td>U</td>\n",
       "      <td>Sim</td>\n",
       "      <td>8.135538</td>\n",
       "      <td>Topázio</td>\n",
       "      <td>9.00002</td>\n",
       "      <td>9.031839</td>\n",
       "      <td>7.500</td>\n",
       "      <td>9.000000</td>\n",
       "      <td>5.625000</td>\n",
       "      <td>9.083340</td>\n",
       "      <td>5.0</td>\n",
       "    </tr>\n",
       "    <tr>\n",
       "      <th>1346</th>\n",
       "      <td>1347</td>\n",
       "      <td>ALUNO-1347</td>\n",
       "      <td>7</td>\n",
       "      <td>B</td>\n",
       "      <td>Não</td>\n",
       "      <td>7.158543333333334</td>\n",
       "      <td>Ágata</td>\n",
       "      <td>9.16668</td>\n",
       "      <td>8.1</td>\n",
       "      <td>6.875</td>\n",
       "      <td>4.666666666666667</td>\n",
       "      <td>7.34375</td>\n",
       "      <td>6.333335</td>\n",
       "      <td>10</td>\n",
       "      <td>NaN</td>\n",
       "      <td>NaN</td>\n",
       "      <td>NaN</td>\n",
       "      <td>NaN</td>\n",
       "      <td>NaN</td>\n",
       "      <td>NaN</td>\n",
       "      <td>NaN</td>\n",
       "      <td>NaN</td>\n",
       "      <td>NaN</td>\n",
       "      <td>NaN</td>\n",
       "      <td>NaN</td>\n",
       "      <td>NaN</td>\n",
       "      <td>NaN</td>\n",
       "      <td>NaN</td>\n",
       "      <td>NaN</td>\n",
       "      <td>NaN</td>\n",
       "      <td>NaN</td>\n",
       "      <td>NaN</td>\n",
       "      <td>NaN</td>\n",
       "      <td>NaN</td>\n",
       "      <td>NaN</td>\n",
       "      <td>NaN</td>\n",
       "      <td>NaN</td>\n",
       "      <td>NaN</td>\n",
       "    </tr>\n",
       "    <tr>\n",
       "      <th>1347</th>\n",
       "      <td>1348</td>\n",
       "      <td>ALUNO-1348</td>\n",
       "      <td>3</td>\n",
       "      <td>R</td>\n",
       "      <td>Sim</td>\n",
       "      <td>7.842224333333333</td>\n",
       "      <td>Ametista</td>\n",
       "      <td>7.91667</td>\n",
       "      <td>7.1</td>\n",
       "      <td>6.875</td>\n",
       "      <td>6.333333333333333</td>\n",
       "      <td>8.541666666666666</td>\n",
       "      <td>9.11112</td>\n",
       "      <td>10</td>\n",
       "      <td>3.0</td>\n",
       "      <td>J</td>\n",
       "      <td>Não</td>\n",
       "      <td>7.422</td>\n",
       "      <td>Ametista</td>\n",
       "      <td>7.5</td>\n",
       "      <td>8.6</td>\n",
       "      <td>6.3</td>\n",
       "      <td>6.9</td>\n",
       "      <td>7.5</td>\n",
       "      <td>8.5</td>\n",
       "      <td>5.0</td>\n",
       "      <td>4.0</td>\n",
       "      <td>P</td>\n",
       "      <td>Não</td>\n",
       "      <td>6.749981</td>\n",
       "      <td>Ágata</td>\n",
       "      <td>8.33334</td>\n",
       "      <td>9.178030</td>\n",
       "      <td>5.625</td>\n",
       "      <td>5.900000</td>\n",
       "      <td>6.718750</td>\n",
       "      <td>5.833328</td>\n",
       "      <td>5.0</td>\n",
       "    </tr>\n",
       "    <tr>\n",
       "      <th>1348</th>\n",
       "      <td>1349</td>\n",
       "      <td>ALUNO-1349</td>\n",
       "      <td>NaN</td>\n",
       "      <td>NaN</td>\n",
       "      <td>NaN</td>\n",
       "      <td>NaN</td>\n",
       "      <td>NaN</td>\n",
       "      <td>NaN</td>\n",
       "      <td>NaN</td>\n",
       "      <td>NaN</td>\n",
       "      <td>NaN</td>\n",
       "      <td>NaN</td>\n",
       "      <td>NaN</td>\n",
       "      <td>NaN</td>\n",
       "      <td>NaN</td>\n",
       "      <td>NaN</td>\n",
       "      <td>NaN</td>\n",
       "      <td>NaN</td>\n",
       "      <td>NaN</td>\n",
       "      <td>NaN</td>\n",
       "      <td>NaN</td>\n",
       "      <td>NaN</td>\n",
       "      <td>NaN</td>\n",
       "      <td>NaN</td>\n",
       "      <td>NaN</td>\n",
       "      <td>NaN</td>\n",
       "      <td>3.0</td>\n",
       "      <td>M</td>\n",
       "      <td>Não</td>\n",
       "      <td>6.399688</td>\n",
       "      <td>Ágata</td>\n",
       "      <td>7.91667</td>\n",
       "      <td>7.540114</td>\n",
       "      <td>7.500</td>\n",
       "      <td>4.500000</td>\n",
       "      <td>7.500000</td>\n",
       "      <td>5.999993</td>\n",
       "      <td>5.0</td>\n",
       "    </tr>\n",
       "  </tbody>\n",
       "</table>\n",
       "<p>1349 rows × 38 columns</p>\n",
       "</div>"
      ],
      "text/plain": [
       "      ID_ALUNO        NOME FASE_2020 TURMA_2020 PONTO_VIRADA_2020  \\\n",
       "0            1     ALUNO-1         2          H               Não   \n",
       "1            2     ALUNO-2       NaN        NaN               NaN   \n",
       "2            3     ALUNO-3         3          H               Não   \n",
       "3            4     ALUNO-4         1          D               Não   \n",
       "4            5     ALUNO-5         2          M               Não   \n",
       "...        ...         ...       ...        ...               ...   \n",
       "1344      1345  ALUNO-1345       NaN        NaN               NaN   \n",
       "1345      1346  ALUNO-1346       NaN        NaN               NaN   \n",
       "1346      1347  ALUNO-1347         7          B               Não   \n",
       "1347      1348  ALUNO-1348         3          R               Sim   \n",
       "1348      1349  ALUNO-1349       NaN        NaN               NaN   \n",
       "\n",
       "              INDE_2020 PEDRA_2020           IAA_2020 IEG_2020 IPS_2020  \\\n",
       "0              7.883752   Ametista  8.500020000000001      8.7      7.5   \n",
       "1                   NaN        NaN                NaN      NaN      NaN   \n",
       "2     7.856389666666666   Ametista            7.91667      8.9      7.5   \n",
       "3              5.076252    Quartzo  8.000020000000001      4.1    6.875   \n",
       "4              8.077085   Ametista            7.50002        8      7.5   \n",
       "...                 ...        ...                ...      ...      ...   \n",
       "1344                NaN        NaN                NaN      NaN      NaN   \n",
       "1345                NaN        NaN                NaN      NaN      NaN   \n",
       "1346  7.158543333333334      Ágata            9.16668      8.1    6.875   \n",
       "1347  7.842224333333333   Ametista            7.91667      7.1    6.875   \n",
       "1348                NaN        NaN                NaN      NaN      NaN   \n",
       "\n",
       "               IDA_2020           IPP_2020           IPV_2020 IAN_2020  \\\n",
       "0                     7             5.9375               7.75       10   \n",
       "1                   NaN                NaN                NaN      NaN   \n",
       "2                   5.5              8.125  8.111113333333334       10   \n",
       "3                     0             7.1875               7.75        5   \n",
       "4                   7.5             8.4375           8.166665       10   \n",
       "...                 ...                ...                ...      ...   \n",
       "1344                NaN                NaN                NaN      NaN   \n",
       "1345                NaN                NaN                NaN      NaN   \n",
       "1346  4.666666666666667            7.34375           6.333335       10   \n",
       "1347  6.333333333333333  8.541666666666666            9.11112       10   \n",
       "1348                NaN                NaN                NaN      NaN   \n",
       "\n",
       "      FASE_2021 TURMA_2021 PONTO_VIRADA_2021 INDE_2021 PEDRA_2021  IAA_2021  \\\n",
       "0           2.0          G               Não     7.319   Ametista       7.5   \n",
       "1           NaN        NaN               NaN       NaN        NaN       NaN   \n",
       "2           3.0          F               Não     7.021   Ametista       7.1   \n",
       "3           NaN        NaN               NaN       NaN        NaN       NaN   \n",
       "4           2.0          L               Não     7.399   Ametista       7.4   \n",
       "...         ...        ...               ...       ...        ...       ...   \n",
       "1344        0.0          L               Não     6.606      Ágata       9.0   \n",
       "1345        NaN        NaN               NaN       NaN        NaN       NaN   \n",
       "1346        NaN        NaN               NaN       NaN        NaN       NaN   \n",
       "1347        3.0          J               Não     7.422   Ametista       7.5   \n",
       "1348        NaN        NaN               NaN       NaN        NaN       NaN   \n",
       "\n",
       "      IEG_2021  IPS_2021  IDA_2021  IPP_2021  IPV_2021  IAN_2021  FASE_2022  \\\n",
       "0          6.3       6.9       8.8       7.7       8.1       5.0        NaN   \n",
       "1          NaN       NaN       NaN       NaN       NaN       NaN        0.0   \n",
       "2          6.9       6.3       5.6       7.3       7.2      10.0        NaN   \n",
       "3          NaN       NaN       NaN       NaN       NaN       NaN        2.0   \n",
       "4          7.5       7.5       5.4       8.5       7.4      10.0        2.0   \n",
       "...        ...       ...       ...       ...       ...       ...        ...   \n",
       "1344       6.7       7.5       4.9       7.2       7.1       5.0        NaN   \n",
       "1345       NaN       NaN       NaN       NaN       NaN       NaN        0.0   \n",
       "1346       NaN       NaN       NaN       NaN       NaN       NaN        NaN   \n",
       "1347       8.6       6.3       6.9       7.5       8.5       5.0        4.0   \n",
       "1348       NaN       NaN       NaN       NaN       NaN       NaN        3.0   \n",
       "\n",
       "     TURMA_2022 PONTO_VIRADA_2022  INDE_2022 PEDRA_2022  IAA_2022  IEG_2022  \\\n",
       "0           NaN               NaN        NaN        NaN       NaN       NaN   \n",
       "1             K               Não   7.675509   Ametista  10.00002  7.581705   \n",
       "2           NaN               NaN        NaN        NaN       NaN       NaN   \n",
       "3             J               Não   7.117065   Ametista  10.00002  8.071429   \n",
       "4             L               Não   7.232336   Ametista   6.41668  8.557505   \n",
       "...         ...               ...        ...        ...       ...       ...   \n",
       "1344        NaN               NaN        NaN        NaN       NaN       NaN   \n",
       "1345          U               Sim   8.135538    Topázio   9.00002  9.031839   \n",
       "1346        NaN               NaN        NaN        NaN       NaN       NaN   \n",
       "1347          P               Não   6.749981      Ágata   8.33334  9.178030   \n",
       "1348          M               Não   6.399688      Ágata   7.91667  7.540114   \n",
       "\n",
       "      IPS_2022  IDA_2022  IPP_2022  IPV_2022  IAN_2022  \n",
       "0          NaN       NaN       NaN       NaN       NaN  \n",
       "1        7.500  8.816667  5.625000  7.916665       5.0  \n",
       "2          NaN       NaN       NaN       NaN       NaN  \n",
       "3        7.500  5.083333  6.250000  8.055553       5.0  \n",
       "4        7.500  7.083333  6.458333  7.833337       5.0  \n",
       "...        ...       ...       ...       ...       ...  \n",
       "1344       NaN       NaN       NaN       NaN       NaN  \n",
       "1345     7.500  9.000000  5.625000  9.083340       5.0  \n",
       "1346       NaN       NaN       NaN       NaN       NaN  \n",
       "1347     5.625  5.900000  6.718750  5.833328       5.0  \n",
       "1348     7.500  4.500000  7.500000  5.999993       5.0  \n",
       "\n",
       "[1349 rows x 38 columns]"
      ]
     },
     "execution_count": 8,
     "metadata": {},
     "output_type": "execute_result"
    }
   ],
   "source": [
    "df_novo = df_original[['ID_ALUNO','NOME','FASE_2020','TURMA_2020','PONTO_VIRADA_2020','INDE_2020','PEDRA_2020','IAA_2020','IEG_2020','IPS_2020','IDA_2020','IPP_2020','IPV_2020','IAN_2020',\n",
    "'FASE_2021','TURMA_2021','PONTO_VIRADA_2021','INDE_2021','PEDRA_2021','IAA_2021','IEG_2021','IPS_2021','IDA_2021','IPP_2021','IPV_2021','IAN_2021',\n",
    "'FASE_2022','TURMA_2022','PONTO_VIRADA_2022','INDE_2022','PEDRA_2022','IAA_2022','IEG_2022','IPS_2022','IDA_2022','IPP_2022','IPV_2022','IAN_2022']]\n",
    "df_novo"
   ]
  },
  {
   "cell_type": "markdown",
   "id": "1dc6b8ad4105a918",
   "metadata": {},
   "source": [
    "Observa-se que temos colunas atribuidas por ano, vamos separar esse DataFrame em 3 DataFrames por colunas referentes a cada ano, usando o \"ID_ALUNO\" e o \"NOME\" como chave"
   ]
  },
  {
   "cell_type": "code",
   "execution_count": 9,
   "id": "ed1ed0d04bce45f7",
   "metadata": {
    "ExecuteTime": {
     "end_time": "2024-08-06T23:58:39.333803Z",
     "start_time": "2024-08-06T23:58:39.326003Z"
    }
   },
   "outputs": [],
   "source": [
    "df_2020 = pd.concat([df_novo[['ID_ALUNO','NOME']], df_novo.filter(regex='_2020')], axis=1)\n",
    "df_2021 = pd.concat([df_novo[['ID_ALUNO','NOME']], df_novo.filter(regex='_2021')], axis=1)\n",
    "df_2022 = pd.concat([df_novo[['ID_ALUNO','NOME']], df_novo.filter(regex='_2022')], axis=1)"
   ]
  },
  {
   "cell_type": "markdown",
   "id": "d536044770bb15f7",
   "metadata": {},
   "source": [
    "Agora iremos retirar as linhas que possuem somente valores nulos (NaN)"
   ]
  },
  {
   "cell_type": "code",
   "execution_count": 10,
   "id": "3ca78791c0c19b35",
   "metadata": {
    "ExecuteTime": {
     "end_time": "2024-08-06T23:58:39.931241Z",
     "start_time": "2024-08-06T23:58:39.921468Z"
    }
   },
   "outputs": [],
   "source": [
    "df_2020_filtrado = df_2020[df_2020['FASE_2020'].notnull()]\n",
    "df_2021_filtrado = df_2021[df_2021['FASE_2021'].notnull()]\n",
    "df_2022_filtrado = df_2022[df_2022['FASE_2022'].notnull()]"
   ]
  },
  {
   "cell_type": "markdown",
   "id": "372d154bc169c53",
   "metadata": {},
   "source": [
    "Agora vamos remover o sufixo das colunas e criar uma nova coluna 'ANO_PESQUISA'"
   ]
  },
  {
   "cell_type": "code",
   "execution_count": 11,
   "id": "dd5464485a8795a6",
   "metadata": {
    "ExecuteTime": {
     "end_time": "2024-08-06T23:58:40.065781Z",
     "start_time": "2024-08-06T23:58:40.060824Z"
    }
   },
   "outputs": [],
   "source": [
    "df_2020_filtrado.columns = df_2020_filtrado.columns.str.removesuffix(\"_2020\")\n",
    "df_2021_filtrado.columns = df_2021_filtrado.columns.str.removesuffix(\"_2021\")\n",
    "df_2022_filtrado.columns = df_2022_filtrado.columns.str.removesuffix(\"_2022\")\n",
    "\n",
    "df_2020_filtrado.insert(loc=0, column='ANO_PESQUISA', value=2020)\n",
    "df_2021_filtrado.insert(loc=0, column='ANO_PESQUISA', value=2021)\n",
    "df_2022_filtrado.insert(loc=0, column='ANO_PESQUISA', value=2022)"
   ]
  },
  {
   "cell_type": "code",
   "execution_count": 12,
   "id": "f3075aaafb9f6019",
   "metadata": {
    "ExecuteTime": {
     "end_time": "2024-08-06T23:58:40.682406Z",
     "start_time": "2024-08-06T23:58:40.675242Z"
    }
   },
   "outputs": [
    {
     "name": "stdout",
     "output_type": "stream",
     "text": [
      "Index(['ANO_PESQUISA', 'ID_ALUNO', 'NOME', 'FASE', 'TURMA', 'PONTO_VIRADA',\n",
      "       'INDE', 'PEDRA', 'IAA', 'IEG', 'IPS', 'IDA', 'IPP', 'IPV', 'IAN'],\n",
      "      dtype='object')\n",
      "Index(['ANO_PESQUISA', 'ID_ALUNO', 'NOME', 'FASE', 'TURMA', 'PONTO_VIRADA',\n",
      "       'INDE', 'PEDRA', 'IAA', 'IEG', 'IPS', 'IDA', 'IPP', 'IPV', 'IAN'],\n",
      "      dtype='object')\n",
      "Index(['ANO_PESQUISA', 'ID_ALUNO', 'NOME', 'FASE', 'TURMA', 'PONTO_VIRADA',\n",
      "       'INDE', 'PEDRA', 'IAA', 'IEG', 'IPS', 'IDA', 'IPP', 'IPV', 'IAN'],\n",
      "      dtype='object')\n"
     ]
    }
   ],
   "source": [
    "print(df_2020_filtrado.columns)\n",
    "print(df_2021_filtrado.columns)\n",
    "print(df_2022_filtrado.columns)"
   ]
  },
  {
   "cell_type": "code",
   "execution_count": 13,
   "id": "71e6b1ae309598f9",
   "metadata": {
    "ExecuteTime": {
     "end_time": "2024-08-06T23:58:40.968636Z",
     "start_time": "2024-08-06T23:58:40.955298Z"
    }
   },
   "outputs": [
    {
     "name": "stdout",
     "output_type": "stream",
     "text": [
      "<class 'pandas.core.frame.DataFrame'>\n",
      "Index: 728 entries, 0 to 1347\n",
      "Data columns (total 15 columns):\n",
      " #   Column        Non-Null Count  Dtype \n",
      "---  ------        --------------  ----- \n",
      " 0   ANO_PESQUISA  728 non-null    int64 \n",
      " 1   ID_ALUNO      728 non-null    int32 \n",
      " 2   NOME          728 non-null    object\n",
      " 3   FASE          728 non-null    object\n",
      " 4   TURMA         728 non-null    object\n",
      " 5   PONTO_VIRADA  702 non-null    object\n",
      " 6   INDE          728 non-null    object\n",
      " 7   PEDRA         728 non-null    object\n",
      " 8   IAA           728 non-null    object\n",
      " 9   IEG           728 non-null    object\n",
      " 10  IPS           728 non-null    object\n",
      " 11  IDA           728 non-null    object\n",
      " 12  IPP           728 non-null    object\n",
      " 13  IPV           728 non-null    object\n",
      " 14  IAN           728 non-null    object\n",
      "dtypes: int32(1), int64(1), object(13)\n",
      "memory usage: 88.2+ KB\n"
     ]
    }
   ],
   "source": [
    "df_2020_filtrado.info()"
   ]
  },
  {
   "cell_type": "code",
   "execution_count": 14,
   "id": "99f76e76eff0974e",
   "metadata": {
    "ExecuteTime": {
     "end_time": "2024-08-06T23:58:41.090652Z",
     "start_time": "2024-08-06T23:58:41.081226Z"
    }
   },
   "outputs": [],
   "source": [
    "df_final = pd.concat([df_2020_filtrado, df_2021_filtrado, df_2022_filtrado], axis=0, ignore_index=True)"
   ]
  },
  {
   "cell_type": "code",
   "execution_count": 15,
   "id": "8e6f28221a0217ff",
   "metadata": {
    "ExecuteTime": {
     "end_time": "2024-08-06T23:58:41.257328Z",
     "start_time": "2024-08-06T23:58:41.233489Z"
    }
   },
   "outputs": [
    {
     "data": {
      "text/html": [
       "<div>\n",
       "<style scoped>\n",
       "    .dataframe tbody tr th:only-of-type {\n",
       "        vertical-align: middle;\n",
       "    }\n",
       "\n",
       "    .dataframe tbody tr th {\n",
       "        vertical-align: top;\n",
       "    }\n",
       "\n",
       "    .dataframe thead th {\n",
       "        text-align: right;\n",
       "    }\n",
       "</style>\n",
       "<table border=\"1\" class=\"dataframe\">\n",
       "  <thead>\n",
       "    <tr style=\"text-align: right;\">\n",
       "      <th></th>\n",
       "      <th>ANO_PESQUISA</th>\n",
       "      <th>ID_ALUNO</th>\n",
       "      <th>NOME</th>\n",
       "      <th>FASE</th>\n",
       "      <th>TURMA</th>\n",
       "      <th>PONTO_VIRADA</th>\n",
       "      <th>INDE</th>\n",
       "      <th>PEDRA</th>\n",
       "      <th>IAA</th>\n",
       "      <th>IEG</th>\n",
       "      <th>IPS</th>\n",
       "      <th>IDA</th>\n",
       "      <th>IPP</th>\n",
       "      <th>IPV</th>\n",
       "      <th>IAN</th>\n",
       "    </tr>\n",
       "  </thead>\n",
       "  <tbody>\n",
       "    <tr>\n",
       "      <th>0</th>\n",
       "      <td>2020</td>\n",
       "      <td>1</td>\n",
       "      <td>ALUNO-1</td>\n",
       "      <td>2</td>\n",
       "      <td>H</td>\n",
       "      <td>Não</td>\n",
       "      <td>7.883752</td>\n",
       "      <td>Ametista</td>\n",
       "      <td>8.500020000000001</td>\n",
       "      <td>8.7</td>\n",
       "      <td>7.5</td>\n",
       "      <td>7</td>\n",
       "      <td>5.9375</td>\n",
       "      <td>7.75</td>\n",
       "      <td>10</td>\n",
       "    </tr>\n",
       "    <tr>\n",
       "      <th>1</th>\n",
       "      <td>2020</td>\n",
       "      <td>3</td>\n",
       "      <td>ALUNO-3</td>\n",
       "      <td>3</td>\n",
       "      <td>H</td>\n",
       "      <td>Não</td>\n",
       "      <td>7.856389666666666</td>\n",
       "      <td>Ametista</td>\n",
       "      <td>7.91667</td>\n",
       "      <td>8.9</td>\n",
       "      <td>7.5</td>\n",
       "      <td>5.5</td>\n",
       "      <td>8.125</td>\n",
       "      <td>8.111113333333334</td>\n",
       "      <td>10</td>\n",
       "    </tr>\n",
       "    <tr>\n",
       "      <th>2</th>\n",
       "      <td>2020</td>\n",
       "      <td>4</td>\n",
       "      <td>ALUNO-4</td>\n",
       "      <td>1</td>\n",
       "      <td>D</td>\n",
       "      <td>Não</td>\n",
       "      <td>5.076252</td>\n",
       "      <td>Quartzo</td>\n",
       "      <td>8.000020000000001</td>\n",
       "      <td>4.1</td>\n",
       "      <td>6.875</td>\n",
       "      <td>0</td>\n",
       "      <td>7.1875</td>\n",
       "      <td>7.75</td>\n",
       "      <td>5</td>\n",
       "    </tr>\n",
       "    <tr>\n",
       "      <th>3</th>\n",
       "      <td>2020</td>\n",
       "      <td>5</td>\n",
       "      <td>ALUNO-5</td>\n",
       "      <td>2</td>\n",
       "      <td>M</td>\n",
       "      <td>Não</td>\n",
       "      <td>8.077085</td>\n",
       "      <td>Ametista</td>\n",
       "      <td>7.50002</td>\n",
       "      <td>8</td>\n",
       "      <td>7.5</td>\n",
       "      <td>7.5</td>\n",
       "      <td>8.4375</td>\n",
       "      <td>8.166665</td>\n",
       "      <td>10</td>\n",
       "    </tr>\n",
       "    <tr>\n",
       "      <th>4</th>\n",
       "      <td>2020</td>\n",
       "      <td>8</td>\n",
       "      <td>ALUNO-8</td>\n",
       "      <td>4</td>\n",
       "      <td>L</td>\n",
       "      <td>Sim</td>\n",
       "      <td>8.381390666666666</td>\n",
       "      <td>Ametista</td>\n",
       "      <td>8.33334</td>\n",
       "      <td>9.9</td>\n",
       "      <td>4.375</td>\n",
       "      <td>7.333333333333333</td>\n",
       "      <td>8.749999999999998</td>\n",
       "      <td>8.94445</td>\n",
       "      <td>10</td>\n",
       "    </tr>\n",
       "    <tr>\n",
       "      <th>...</th>\n",
       "      <td>...</td>\n",
       "      <td>...</td>\n",
       "      <td>...</td>\n",
       "      <td>...</td>\n",
       "      <td>...</td>\n",
       "      <td>...</td>\n",
       "      <td>...</td>\n",
       "      <td>...</td>\n",
       "      <td>...</td>\n",
       "      <td>...</td>\n",
       "      <td>...</td>\n",
       "      <td>...</td>\n",
       "      <td>...</td>\n",
       "      <td>...</td>\n",
       "      <td>...</td>\n",
       "    </tr>\n",
       "    <tr>\n",
       "      <th>2271</th>\n",
       "      <td>2022</td>\n",
       "      <td>1342</td>\n",
       "      <td>ALUNO-1342</td>\n",
       "      <td>2.0</td>\n",
       "      <td>K</td>\n",
       "      <td>Não</td>\n",
       "      <td>8.150001</td>\n",
       "      <td>Topázio</td>\n",
       "      <td>7.91668</td>\n",
       "      <td>9.666667</td>\n",
       "      <td>7.5</td>\n",
       "      <td>7.75</td>\n",
       "      <td>6.25</td>\n",
       "      <td>7.5</td>\n",
       "      <td>10.0</td>\n",
       "    </tr>\n",
       "    <tr>\n",
       "      <th>2272</th>\n",
       "      <td>2022</td>\n",
       "      <td>1343</td>\n",
       "      <td>ALUNO-1343</td>\n",
       "      <td>2.0</td>\n",
       "      <td>K</td>\n",
       "      <td>Não</td>\n",
       "      <td>5.674644</td>\n",
       "      <td>Quartzo</td>\n",
       "      <td>7.41668</td>\n",
       "      <td>6.470435</td>\n",
       "      <td>6.25</td>\n",
       "      <td>2.0</td>\n",
       "      <td>6.25</td>\n",
       "      <td>7.444443</td>\n",
       "      <td>5.0</td>\n",
       "    </tr>\n",
       "    <tr>\n",
       "      <th>2273</th>\n",
       "      <td>2022</td>\n",
       "      <td>1346</td>\n",
       "      <td>ALUNO-1346</td>\n",
       "      <td>0.0</td>\n",
       "      <td>U</td>\n",
       "      <td>Sim</td>\n",
       "      <td>8.135538</td>\n",
       "      <td>Topázio</td>\n",
       "      <td>9.00002</td>\n",
       "      <td>9.031839</td>\n",
       "      <td>7.5</td>\n",
       "      <td>9.0</td>\n",
       "      <td>5.625</td>\n",
       "      <td>9.08334</td>\n",
       "      <td>5.0</td>\n",
       "    </tr>\n",
       "    <tr>\n",
       "      <th>2274</th>\n",
       "      <td>2022</td>\n",
       "      <td>1348</td>\n",
       "      <td>ALUNO-1348</td>\n",
       "      <td>4.0</td>\n",
       "      <td>P</td>\n",
       "      <td>Não</td>\n",
       "      <td>6.749981</td>\n",
       "      <td>Ágata</td>\n",
       "      <td>8.33334</td>\n",
       "      <td>9.17803</td>\n",
       "      <td>5.625</td>\n",
       "      <td>5.9</td>\n",
       "      <td>6.71875</td>\n",
       "      <td>5.833328</td>\n",
       "      <td>5.0</td>\n",
       "    </tr>\n",
       "    <tr>\n",
       "      <th>2275</th>\n",
       "      <td>2022</td>\n",
       "      <td>1349</td>\n",
       "      <td>ALUNO-1349</td>\n",
       "      <td>3.0</td>\n",
       "      <td>M</td>\n",
       "      <td>Não</td>\n",
       "      <td>6.399688</td>\n",
       "      <td>Ágata</td>\n",
       "      <td>7.91667</td>\n",
       "      <td>7.540114</td>\n",
       "      <td>7.5</td>\n",
       "      <td>4.5</td>\n",
       "      <td>7.5</td>\n",
       "      <td>5.999993</td>\n",
       "      <td>5.0</td>\n",
       "    </tr>\n",
       "  </tbody>\n",
       "</table>\n",
       "<p>2276 rows × 15 columns</p>\n",
       "</div>"
      ],
      "text/plain": [
       "      ANO_PESQUISA  ID_ALUNO        NOME FASE TURMA PONTO_VIRADA  \\\n",
       "0             2020         1     ALUNO-1    2     H          Não   \n",
       "1             2020         3     ALUNO-3    3     H          Não   \n",
       "2             2020         4     ALUNO-4    1     D          Não   \n",
       "3             2020         5     ALUNO-5    2     M          Não   \n",
       "4             2020         8     ALUNO-8    4     L          Sim   \n",
       "...            ...       ...         ...  ...   ...          ...   \n",
       "2271          2022      1342  ALUNO-1342  2.0     K          Não   \n",
       "2272          2022      1343  ALUNO-1343  2.0     K          Não   \n",
       "2273          2022      1346  ALUNO-1346  0.0     U          Sim   \n",
       "2274          2022      1348  ALUNO-1348  4.0     P          Não   \n",
       "2275          2022      1349  ALUNO-1349  3.0     M          Não   \n",
       "\n",
       "                   INDE     PEDRA                IAA       IEG    IPS  \\\n",
       "0              7.883752  Ametista  8.500020000000001       8.7    7.5   \n",
       "1     7.856389666666666  Ametista            7.91667       8.9    7.5   \n",
       "2              5.076252   Quartzo  8.000020000000001       4.1  6.875   \n",
       "3              8.077085  Ametista            7.50002         8    7.5   \n",
       "4     8.381390666666666  Ametista            8.33334       9.9  4.375   \n",
       "...                 ...       ...                ...       ...    ...   \n",
       "2271           8.150001   Topázio            7.91668  9.666667    7.5   \n",
       "2272           5.674644   Quartzo            7.41668  6.470435   6.25   \n",
       "2273           8.135538   Topázio            9.00002  9.031839    7.5   \n",
       "2274           6.749981     Ágata            8.33334   9.17803  5.625   \n",
       "2275           6.399688     Ágata            7.91667  7.540114    7.5   \n",
       "\n",
       "                    IDA                IPP                IPV   IAN  \n",
       "0                     7             5.9375               7.75    10  \n",
       "1                   5.5              8.125  8.111113333333334    10  \n",
       "2                     0             7.1875               7.75     5  \n",
       "3                   7.5             8.4375           8.166665    10  \n",
       "4     7.333333333333333  8.749999999999998            8.94445    10  \n",
       "...                 ...                ...                ...   ...  \n",
       "2271               7.75               6.25                7.5  10.0  \n",
       "2272                2.0               6.25           7.444443   5.0  \n",
       "2273                9.0              5.625            9.08334   5.0  \n",
       "2274                5.9            6.71875           5.833328   5.0  \n",
       "2275                4.5                7.5           5.999993   5.0  \n",
       "\n",
       "[2276 rows x 15 columns]"
      ]
     },
     "execution_count": 15,
     "metadata": {},
     "output_type": "execute_result"
    }
   ],
   "source": [
    "df_final"
   ]
  },
  {
   "cell_type": "code",
   "execution_count": 16,
   "id": "98b2d9f94c85d028",
   "metadata": {
    "ExecuteTime": {
     "end_time": "2024-08-06T23:58:41.296043Z",
     "start_time": "2024-08-06T23:58:41.278453Z"
    }
   },
   "outputs": [
    {
     "name": "stdout",
     "output_type": "stream",
     "text": [
      "<class 'pandas.core.frame.DataFrame'>\n",
      "RangeIndex: 2276 entries, 0 to 2275\n",
      "Data columns (total 15 columns):\n",
      " #   Column        Non-Null Count  Dtype \n",
      "---  ------        --------------  ----- \n",
      " 0   ANO_PESQUISA  2276 non-null   int64 \n",
      " 1   ID_ALUNO      2276 non-null   int32 \n",
      " 2   NOME          2276 non-null   object\n",
      " 3   FASE          2276 non-null   object\n",
      " 4   TURMA         2276 non-null   object\n",
      " 5   PONTO_VIRADA  2250 non-null   object\n",
      " 6   INDE          2276 non-null   object\n",
      " 7   PEDRA         2276 non-null   object\n",
      " 8   IAA           2276 non-null   object\n",
      " 9   IEG           2276 non-null   object\n",
      " 10  IPS           2276 non-null   object\n",
      " 11  IDA           2276 non-null   object\n",
      " 12  IPP           2276 non-null   object\n",
      " 13  IPV           2276 non-null   object\n",
      " 14  IAN           2276 non-null   object\n",
      "dtypes: int32(1), int64(1), object(13)\n",
      "memory usage: 258.0+ KB\n"
     ]
    }
   ],
   "source": [
    "df_final.info()"
   ]
  },
  {
   "cell_type": "code",
   "execution_count": 17,
   "id": "710318d4c3ef292c",
   "metadata": {
    "ExecuteTime": {
     "end_time": "2024-08-06T23:58:41.422506Z",
     "start_time": "2024-08-06T23:58:41.416174Z"
    }
   },
   "outputs": [],
   "source": [
    "df_final.iloc[680]\n",
    "df_final.drop(680, inplace=True)"
   ]
  },
  {
   "cell_type": "code",
   "execution_count": 18,
   "id": "4f46b9fd5daa8e5e",
   "metadata": {
    "ExecuteTime": {
     "end_time": "2024-08-06T23:58:41.602283Z",
     "start_time": "2024-08-06T23:58:41.591081Z"
    }
   },
   "outputs": [],
   "source": [
    "df_final.iloc[759]\n",
    "df_final.replace('#NULO!', np.nan, inplace=True)"
   ]
  },
  {
   "cell_type": "code",
   "execution_count": 19,
   "id": "f75a09e3da56bfe8",
   "metadata": {
    "ExecuteTime": {
     "end_time": "2024-08-06T23:58:41.852326Z",
     "start_time": "2024-08-06T23:58:41.843173Z"
    }
   },
   "outputs": [],
   "source": [
    "df_final[['INDE', 'IAA', 'IEG', 'IPS', 'IDA', 'IPP', 'IPV','IAN']] = df_final[['INDE', 'IAA', 'IEG', 'IPS', 'IDA', 'IPP', 'IPV','IAN']].astype(float)"
   ]
  },
  {
   "cell_type": "code",
   "execution_count": 20,
   "id": "7b57119dce056c08",
   "metadata": {
    "ExecuteTime": {
     "end_time": "2024-08-06T23:58:41.915209Z",
     "start_time": "2024-08-06T23:58:41.905202Z"
    }
   },
   "outputs": [
    {
     "name": "stdout",
     "output_type": "stream",
     "text": [
      "<class 'pandas.core.frame.DataFrame'>\n",
      "Index: 2275 entries, 0 to 2275\n",
      "Data columns (total 15 columns):\n",
      " #   Column        Non-Null Count  Dtype  \n",
      "---  ------        --------------  -----  \n",
      " 0   ANO_PESQUISA  2275 non-null   int64  \n",
      " 1   ID_ALUNO      2275 non-null   int32  \n",
      " 2   NOME          2275 non-null   object \n",
      " 3   FASE          2275 non-null   object \n",
      " 4   TURMA         2275 non-null   object \n",
      " 5   PONTO_VIRADA  2247 non-null   object \n",
      " 6   INDE          2273 non-null   float64\n",
      " 7   PEDRA         2273 non-null   object \n",
      " 8   IAA           2275 non-null   float64\n",
      " 9   IEG           2275 non-null   float64\n",
      " 10  IPS           2275 non-null   float64\n",
      " 11  IDA           2275 non-null   float64\n",
      " 12  IPP           2275 non-null   float64\n",
      " 13  IPV           2275 non-null   float64\n",
      " 14  IAN           2275 non-null   float64\n",
      "dtypes: float64(8), int32(1), int64(1), object(5)\n",
      "memory usage: 275.5+ KB\n"
     ]
    }
   ],
   "source": [
    "df_final.info()"
   ]
  },
  {
   "cell_type": "code",
   "execution_count": 21,
   "id": "332fc2d34beb164c",
   "metadata": {
    "ExecuteTime": {
     "end_time": "2024-08-06T23:58:41.939952Z",
     "start_time": "2024-08-06T23:58:41.935316Z"
    }
   },
   "outputs": [
    {
     "name": "stdout",
     "output_type": "stream",
     "text": [
      "<class 'pandas.core.frame.DataFrame'>\n",
      "Index: 2275 entries, 0 to 2275\n",
      "Data columns (total 15 columns):\n",
      " #   Column        Non-Null Count  Dtype  \n",
      "---  ------        --------------  -----  \n",
      " 0   ANO_PESQUISA  2275 non-null   int32  \n",
      " 1   ID_ALUNO      2275 non-null   int32  \n",
      " 2   NOME          2275 non-null   object \n",
      " 3   FASE          2275 non-null   int32  \n",
      " 4   TURMA         2275 non-null   object \n",
      " 5   PONTO_VIRADA  2247 non-null   object \n",
      " 6   INDE          2273 non-null   float64\n",
      " 7   PEDRA         2273 non-null   object \n",
      " 8   IAA           2275 non-null   float64\n",
      " 9   IEG           2275 non-null   float64\n",
      " 10  IPS           2275 non-null   float64\n",
      " 11  IDA           2275 non-null   float64\n",
      " 12  IPP           2275 non-null   float64\n",
      " 13  IPV           2275 non-null   float64\n",
      " 14  IAN           2275 non-null   float64\n",
      "dtypes: float64(8), int32(3), object(4)\n",
      "memory usage: 257.7+ KB\n"
     ]
    }
   ],
   "source": [
    "df_final[['ANO_PESQUISA','ID_ALUNO','FASE']] = df_final[['ANO_PESQUISA','ID_ALUNO','FASE']].astype(int)\n",
    "df_final.info()"
   ]
  },
  {
   "cell_type": "code",
   "execution_count": 22,
   "id": "3290d061889faf09",
   "metadata": {
    "ExecuteTime": {
     "end_time": "2024-08-06T23:58:42.066651Z",
     "start_time": "2024-08-06T23:58:42.061864Z"
    }
   },
   "outputs": [],
   "source": [
    "df = df_final.round(2)"
   ]
  },
  {
   "cell_type": "code",
   "execution_count": 23,
   "id": "11f470444ad4330a",
   "metadata": {
    "ExecuteTime": {
     "end_time": "2024-08-06T23:58:42.180416Z",
     "start_time": "2024-08-06T23:58:42.161956Z"
    }
   },
   "outputs": [
    {
     "data": {
      "text/html": [
       "<div>\n",
       "<style scoped>\n",
       "    .dataframe tbody tr th:only-of-type {\n",
       "        vertical-align: middle;\n",
       "    }\n",
       "\n",
       "    .dataframe tbody tr th {\n",
       "        vertical-align: top;\n",
       "    }\n",
       "\n",
       "    .dataframe thead th {\n",
       "        text-align: right;\n",
       "    }\n",
       "</style>\n",
       "<table border=\"1\" class=\"dataframe\">\n",
       "  <thead>\n",
       "    <tr style=\"text-align: right;\">\n",
       "      <th></th>\n",
       "      <th>ANO_PESQUISA</th>\n",
       "      <th>ID_ALUNO</th>\n",
       "      <th>NOME</th>\n",
       "      <th>FASE</th>\n",
       "      <th>TURMA</th>\n",
       "      <th>PONTO_VIRADA</th>\n",
       "      <th>INDE</th>\n",
       "      <th>PEDRA</th>\n",
       "      <th>IAA</th>\n",
       "      <th>IEG</th>\n",
       "      <th>IPS</th>\n",
       "      <th>IDA</th>\n",
       "      <th>IPP</th>\n",
       "      <th>IPV</th>\n",
       "      <th>IAN</th>\n",
       "    </tr>\n",
       "  </thead>\n",
       "  <tbody>\n",
       "    <tr>\n",
       "      <th>0</th>\n",
       "      <td>2020</td>\n",
       "      <td>1</td>\n",
       "      <td>ALUNO-1</td>\n",
       "      <td>2</td>\n",
       "      <td>H</td>\n",
       "      <td>Não</td>\n",
       "      <td>7.88</td>\n",
       "      <td>Ametista</td>\n",
       "      <td>8.50</td>\n",
       "      <td>8.7</td>\n",
       "      <td>7.50</td>\n",
       "      <td>7.00</td>\n",
       "      <td>5.94</td>\n",
       "      <td>7.75</td>\n",
       "      <td>10.0</td>\n",
       "    </tr>\n",
       "    <tr>\n",
       "      <th>1</th>\n",
       "      <td>2020</td>\n",
       "      <td>3</td>\n",
       "      <td>ALUNO-3</td>\n",
       "      <td>3</td>\n",
       "      <td>H</td>\n",
       "      <td>Não</td>\n",
       "      <td>7.86</td>\n",
       "      <td>Ametista</td>\n",
       "      <td>7.92</td>\n",
       "      <td>8.9</td>\n",
       "      <td>7.50</td>\n",
       "      <td>5.50</td>\n",
       "      <td>8.12</td>\n",
       "      <td>8.11</td>\n",
       "      <td>10.0</td>\n",
       "    </tr>\n",
       "    <tr>\n",
       "      <th>2</th>\n",
       "      <td>2020</td>\n",
       "      <td>4</td>\n",
       "      <td>ALUNO-4</td>\n",
       "      <td>1</td>\n",
       "      <td>D</td>\n",
       "      <td>Não</td>\n",
       "      <td>5.08</td>\n",
       "      <td>Quartzo</td>\n",
       "      <td>8.00</td>\n",
       "      <td>4.1</td>\n",
       "      <td>6.88</td>\n",
       "      <td>0.00</td>\n",
       "      <td>7.19</td>\n",
       "      <td>7.75</td>\n",
       "      <td>5.0</td>\n",
       "    </tr>\n",
       "    <tr>\n",
       "      <th>3</th>\n",
       "      <td>2020</td>\n",
       "      <td>5</td>\n",
       "      <td>ALUNO-5</td>\n",
       "      <td>2</td>\n",
       "      <td>M</td>\n",
       "      <td>Não</td>\n",
       "      <td>8.08</td>\n",
       "      <td>Ametista</td>\n",
       "      <td>7.50</td>\n",
       "      <td>8.0</td>\n",
       "      <td>7.50</td>\n",
       "      <td>7.50</td>\n",
       "      <td>8.44</td>\n",
       "      <td>8.17</td>\n",
       "      <td>10.0</td>\n",
       "    </tr>\n",
       "    <tr>\n",
       "      <th>4</th>\n",
       "      <td>2020</td>\n",
       "      <td>8</td>\n",
       "      <td>ALUNO-8</td>\n",
       "      <td>4</td>\n",
       "      <td>L</td>\n",
       "      <td>Sim</td>\n",
       "      <td>8.38</td>\n",
       "      <td>Ametista</td>\n",
       "      <td>8.33</td>\n",
       "      <td>9.9</td>\n",
       "      <td>4.38</td>\n",
       "      <td>7.33</td>\n",
       "      <td>8.75</td>\n",
       "      <td>8.94</td>\n",
       "      <td>10.0</td>\n",
       "    </tr>\n",
       "  </tbody>\n",
       "</table>\n",
       "</div>"
      ],
      "text/plain": [
       "   ANO_PESQUISA  ID_ALUNO     NOME  FASE TURMA PONTO_VIRADA  INDE     PEDRA  \\\n",
       "0          2020         1  ALUNO-1     2     H          Não  7.88  Ametista   \n",
       "1          2020         3  ALUNO-3     3     H          Não  7.86  Ametista   \n",
       "2          2020         4  ALUNO-4     1     D          Não  5.08   Quartzo   \n",
       "3          2020         5  ALUNO-5     2     M          Não  8.08  Ametista   \n",
       "4          2020         8  ALUNO-8     4     L          Sim  8.38  Ametista   \n",
       "\n",
       "    IAA  IEG   IPS   IDA   IPP   IPV   IAN  \n",
       "0  8.50  8.7  7.50  7.00  5.94  7.75  10.0  \n",
       "1  7.92  8.9  7.50  5.50  8.12  8.11  10.0  \n",
       "2  8.00  4.1  6.88  0.00  7.19  7.75   5.0  \n",
       "3  7.50  8.0  7.50  7.50  8.44  8.17  10.0  \n",
       "4  8.33  9.9  4.38  7.33  8.75  8.94  10.0  "
      ]
     },
     "execution_count": 23,
     "metadata": {},
     "output_type": "execute_result"
    }
   ],
   "source": [
    "df.head()"
   ]
  },
  {
   "cell_type": "markdown",
   "id": "113f411c",
   "metadata": {},
   "source": [
    "## Novas métricas"
   ]
  },
  {
   "cell_type": "markdown",
   "id": "85fc9ac6",
   "metadata": {},
   "source": [
    "Vamos calcular as médias por ano dos alunos, agora que o dataframe está limpo para análise"
   ]
  },
  {
   "cell_type": "code",
   "execution_count": 24,
   "id": "98149972a991190",
   "metadata": {
    "ExecuteTime": {
     "end_time": "2024-08-06T23:58:42.228998Z",
     "start_time": "2024-08-06T23:58:42.197868Z"
    }
   },
   "outputs": [
    {
     "data": {
      "text/html": [
       "<div>\n",
       "<style scoped>\n",
       "    .dataframe tbody tr th:only-of-type {\n",
       "        vertical-align: middle;\n",
       "    }\n",
       "\n",
       "    .dataframe tbody tr th {\n",
       "        vertical-align: top;\n",
       "    }\n",
       "\n",
       "    .dataframe thead th {\n",
       "        text-align: right;\n",
       "    }\n",
       "</style>\n",
       "<table border=\"1\" class=\"dataframe\">\n",
       "  <thead>\n",
       "    <tr style=\"text-align: right;\">\n",
       "      <th></th>\n",
       "      <th></th>\n",
       "      <th>INDE_MEDIO_ANO_FASE</th>\n",
       "      <th>IAA_MEDIO_ANO_FASE</th>\n",
       "      <th>IEG_MEDIO_ANO_FASE</th>\n",
       "      <th>IPS_MEDIO_ANO_FASE</th>\n",
       "      <th>IDA_MEDIO_ANO_FASE</th>\n",
       "      <th>IPP_MEDIO_ANO_FASE</th>\n",
       "      <th>IPV_MEDIO_ANO_FASE</th>\n",
       "      <th>IAN_MEDIO_ANO_FASE</th>\n",
       "    </tr>\n",
       "    <tr>\n",
       "      <th>ANO_PESQUISA</th>\n",
       "      <th>FASE</th>\n",
       "      <th></th>\n",
       "      <th></th>\n",
       "      <th></th>\n",
       "      <th></th>\n",
       "      <th></th>\n",
       "      <th></th>\n",
       "      <th></th>\n",
       "      <th></th>\n",
       "    </tr>\n",
       "  </thead>\n",
       "  <tbody>\n",
       "    <tr>\n",
       "      <th rowspan=\"9\" valign=\"top\">2020</th>\n",
       "      <th>0</th>\n",
       "      <td>8.02</td>\n",
       "      <td>8.91</td>\n",
       "      <td>9.88</td>\n",
       "      <td>6.81</td>\n",
       "      <td>8.97</td>\n",
       "      <td>5.69</td>\n",
       "      <td>6.80</td>\n",
       "      <td>7.50</td>\n",
       "    </tr>\n",
       "    <tr>\n",
       "      <th>1</th>\n",
       "      <td>7.42</td>\n",
       "      <td>8.72</td>\n",
       "      <td>7.83</td>\n",
       "      <td>6.89</td>\n",
       "      <td>7.07</td>\n",
       "      <td>7.13</td>\n",
       "      <td>7.68</td>\n",
       "      <td>6.34</td>\n",
       "    </tr>\n",
       "    <tr>\n",
       "      <th>2</th>\n",
       "      <td>7.11</td>\n",
       "      <td>8.26</td>\n",
       "      <td>7.92</td>\n",
       "      <td>6.73</td>\n",
       "      <td>5.13</td>\n",
       "      <td>7.37</td>\n",
       "      <td>7.67</td>\n",
       "      <td>7.34</td>\n",
       "    </tr>\n",
       "    <tr>\n",
       "      <th>3</th>\n",
       "      <td>7.34</td>\n",
       "      <td>8.55</td>\n",
       "      <td>7.41</td>\n",
       "      <td>6.60</td>\n",
       "      <td>6.40</td>\n",
       "      <td>7.91</td>\n",
       "      <td>7.47</td>\n",
       "      <td>7.81</td>\n",
       "    </tr>\n",
       "    <tr>\n",
       "      <th>4</th>\n",
       "      <td>7.08</td>\n",
       "      <td>8.63</td>\n",
       "      <td>6.93</td>\n",
       "      <td>7.08</td>\n",
       "      <td>5.02</td>\n",
       "      <td>8.25</td>\n",
       "      <td>7.73</td>\n",
       "      <td>7.45</td>\n",
       "    </tr>\n",
       "    <tr>\n",
       "      <th>5</th>\n",
       "      <td>6.84</td>\n",
       "      <td>8.22</td>\n",
       "      <td>6.97</td>\n",
       "      <td>6.13</td>\n",
       "      <td>5.05</td>\n",
       "      <td>7.68</td>\n",
       "      <td>7.11</td>\n",
       "      <td>7.27</td>\n",
       "    </tr>\n",
       "    <tr>\n",
       "      <th>6</th>\n",
       "      <td>6.24</td>\n",
       "      <td>4.72</td>\n",
       "      <td>6.07</td>\n",
       "      <td>6.56</td>\n",
       "      <td>4.13</td>\n",
       "      <td>7.45</td>\n",
       "      <td>7.30</td>\n",
       "      <td>8.67</td>\n",
       "    </tr>\n",
       "    <tr>\n",
       "      <th>7</th>\n",
       "      <td>7.29</td>\n",
       "      <td>8.13</td>\n",
       "      <td>7.15</td>\n",
       "      <td>6.76</td>\n",
       "      <td>5.71</td>\n",
       "      <td>7.46</td>\n",
       "      <td>7.79</td>\n",
       "      <td>9.24</td>\n",
       "    </tr>\n",
       "    <tr>\n",
       "      <th>8</th>\n",
       "      <td>7.71</td>\n",
       "      <td>8.38</td>\n",
       "      <td>5.00</td>\n",
       "      <td>6.95</td>\n",
       "      <td>8.70</td>\n",
       "      <td>0.00</td>\n",
       "      <td>0.00</td>\n",
       "      <td>10.00</td>\n",
       "    </tr>\n",
       "    <tr>\n",
       "      <th rowspan=\"8\" valign=\"top\">2021</th>\n",
       "      <th>0</th>\n",
       "      <td>7.29</td>\n",
       "      <td>8.91</td>\n",
       "      <td>7.80</td>\n",
       "      <td>6.95</td>\n",
       "      <td>5.73</td>\n",
       "      <td>6.93</td>\n",
       "      <td>7.63</td>\n",
       "      <td>7.09</td>\n",
       "    </tr>\n",
       "    <tr>\n",
       "      <th>1</th>\n",
       "      <td>6.92</td>\n",
       "      <td>8.34</td>\n",
       "      <td>7.51</td>\n",
       "      <td>7.13</td>\n",
       "      <td>4.78</td>\n",
       "      <td>7.78</td>\n",
       "      <td>7.71</td>\n",
       "      <td>5.96</td>\n",
       "    </tr>\n",
       "    <tr>\n",
       "      <th>2</th>\n",
       "      <td>6.61</td>\n",
       "      <td>7.29</td>\n",
       "      <td>6.20</td>\n",
       "      <td>7.04</td>\n",
       "      <td>5.11</td>\n",
       "      <td>7.67</td>\n",
       "      <td>7.39</td>\n",
       "      <td>6.70</td>\n",
       "    </tr>\n",
       "    <tr>\n",
       "      <th>3</th>\n",
       "      <td>6.70</td>\n",
       "      <td>8.22</td>\n",
       "      <td>5.96</td>\n",
       "      <td>6.84</td>\n",
       "      <td>5.46</td>\n",
       "      <td>7.51</td>\n",
       "      <td>7.05</td>\n",
       "      <td>7.50</td>\n",
       "    </tr>\n",
       "    <tr>\n",
       "      <th>4</th>\n",
       "      <td>6.83</td>\n",
       "      <td>8.40</td>\n",
       "      <td>6.31</td>\n",
       "      <td>6.55</td>\n",
       "      <td>5.75</td>\n",
       "      <td>7.85</td>\n",
       "      <td>7.02</td>\n",
       "      <td>7.42</td>\n",
       "    </tr>\n",
       "    <tr>\n",
       "      <th>5</th>\n",
       "      <td>6.89</td>\n",
       "      <td>7.97</td>\n",
       "      <td>6.65</td>\n",
       "      <td>6.20</td>\n",
       "      <td>6.01</td>\n",
       "      <td>7.88</td>\n",
       "      <td>7.34</td>\n",
       "      <td>6.90</td>\n",
       "    </tr>\n",
       "    <tr>\n",
       "      <th>6</th>\n",
       "      <td>7.01</td>\n",
       "      <td>8.20</td>\n",
       "      <td>7.12</td>\n",
       "      <td>5.68</td>\n",
       "      <td>6.40</td>\n",
       "      <td>7.73</td>\n",
       "      <td>7.28</td>\n",
       "      <td>6.96</td>\n",
       "    </tr>\n",
       "    <tr>\n",
       "      <th>7</th>\n",
       "      <td>7.66</td>\n",
       "      <td>8.58</td>\n",
       "      <td>7.84</td>\n",
       "      <td>6.42</td>\n",
       "      <td>6.79</td>\n",
       "      <td>8.01</td>\n",
       "      <td>7.71</td>\n",
       "      <td>8.95</td>\n",
       "    </tr>\n",
       "    <tr>\n",
       "      <th rowspan=\"8\" valign=\"top\">2022</th>\n",
       "      <th>0</th>\n",
       "      <td>7.37</td>\n",
       "      <td>8.98</td>\n",
       "      <td>8.09</td>\n",
       "      <td>7.01</td>\n",
       "      <td>7.13</td>\n",
       "      <td>5.31</td>\n",
       "      <td>7.56</td>\n",
       "      <td>6.80</td>\n",
       "    </tr>\n",
       "    <tr>\n",
       "      <th>1</th>\n",
       "      <td>7.20</td>\n",
       "      <td>8.64</td>\n",
       "      <td>8.52</td>\n",
       "      <td>7.08</td>\n",
       "      <td>6.45</td>\n",
       "      <td>5.86</td>\n",
       "      <td>7.36</td>\n",
       "      <td>5.74</td>\n",
       "    </tr>\n",
       "    <tr>\n",
       "      <th>2</th>\n",
       "      <td>6.96</td>\n",
       "      <td>8.41</td>\n",
       "      <td>8.16</td>\n",
       "      <td>6.82</td>\n",
       "      <td>5.40</td>\n",
       "      <td>6.16</td>\n",
       "      <td>7.34</td>\n",
       "      <td>6.40</td>\n",
       "    </tr>\n",
       "    <tr>\n",
       "      <th>3</th>\n",
       "      <td>6.60</td>\n",
       "      <td>7.48</td>\n",
       "      <td>7.07</td>\n",
       "      <td>6.72</td>\n",
       "      <td>5.13</td>\n",
       "      <td>7.30</td>\n",
       "      <td>6.55</td>\n",
       "      <td>6.99</td>\n",
       "    </tr>\n",
       "    <tr>\n",
       "      <th>4</th>\n",
       "      <td>7.01</td>\n",
       "      <td>7.71</td>\n",
       "      <td>7.66</td>\n",
       "      <td>6.61</td>\n",
       "      <td>6.05</td>\n",
       "      <td>7.42</td>\n",
       "      <td>7.21</td>\n",
       "      <td>6.48</td>\n",
       "    </tr>\n",
       "    <tr>\n",
       "      <th>5</th>\n",
       "      <td>6.88</td>\n",
       "      <td>8.10</td>\n",
       "      <td>7.34</td>\n",
       "      <td>6.86</td>\n",
       "      <td>5.87</td>\n",
       "      <td>6.59</td>\n",
       "      <td>7.26</td>\n",
       "      <td>6.25</td>\n",
       "    </tr>\n",
       "    <tr>\n",
       "      <th>6</th>\n",
       "      <td>7.20</td>\n",
       "      <td>6.50</td>\n",
       "      <td>7.03</td>\n",
       "      <td>7.95</td>\n",
       "      <td>6.69</td>\n",
       "      <td>7.86</td>\n",
       "      <td>8.22</td>\n",
       "      <td>5.83</td>\n",
       "    </tr>\n",
       "    <tr>\n",
       "      <th>7</th>\n",
       "      <td>6.38</td>\n",
       "      <td>6.76</td>\n",
       "      <td>6.92</td>\n",
       "      <td>6.47</td>\n",
       "      <td>4.85</td>\n",
       "      <td>6.95</td>\n",
       "      <td>6.98</td>\n",
       "      <td>6.09</td>\n",
       "    </tr>\n",
       "  </tbody>\n",
       "</table>\n",
       "</div>"
      ],
      "text/plain": [
       "                   INDE_MEDIO_ANO_FASE  IAA_MEDIO_ANO_FASE  \\\n",
       "ANO_PESQUISA FASE                                            \n",
       "2020         0                    8.02                8.91   \n",
       "             1                    7.42                8.72   \n",
       "             2                    7.11                8.26   \n",
       "             3                    7.34                8.55   \n",
       "             4                    7.08                8.63   \n",
       "             5                    6.84                8.22   \n",
       "             6                    6.24                4.72   \n",
       "             7                    7.29                8.13   \n",
       "             8                    7.71                8.38   \n",
       "2021         0                    7.29                8.91   \n",
       "             1                    6.92                8.34   \n",
       "             2                    6.61                7.29   \n",
       "             3                    6.70                8.22   \n",
       "             4                    6.83                8.40   \n",
       "             5                    6.89                7.97   \n",
       "             6                    7.01                8.20   \n",
       "             7                    7.66                8.58   \n",
       "2022         0                    7.37                8.98   \n",
       "             1                    7.20                8.64   \n",
       "             2                    6.96                8.41   \n",
       "             3                    6.60                7.48   \n",
       "             4                    7.01                7.71   \n",
       "             5                    6.88                8.10   \n",
       "             6                    7.20                6.50   \n",
       "             7                    6.38                6.76   \n",
       "\n",
       "                   IEG_MEDIO_ANO_FASE  IPS_MEDIO_ANO_FASE  IDA_MEDIO_ANO_FASE  \\\n",
       "ANO_PESQUISA FASE                                                               \n",
       "2020         0                   9.88                6.81                8.97   \n",
       "             1                   7.83                6.89                7.07   \n",
       "             2                   7.92                6.73                5.13   \n",
       "             3                   7.41                6.60                6.40   \n",
       "             4                   6.93                7.08                5.02   \n",
       "             5                   6.97                6.13                5.05   \n",
       "             6                   6.07                6.56                4.13   \n",
       "             7                   7.15                6.76                5.71   \n",
       "             8                   5.00                6.95                8.70   \n",
       "2021         0                   7.80                6.95                5.73   \n",
       "             1                   7.51                7.13                4.78   \n",
       "             2                   6.20                7.04                5.11   \n",
       "             3                   5.96                6.84                5.46   \n",
       "             4                   6.31                6.55                5.75   \n",
       "             5                   6.65                6.20                6.01   \n",
       "             6                   7.12                5.68                6.40   \n",
       "             7                   7.84                6.42                6.79   \n",
       "2022         0                   8.09                7.01                7.13   \n",
       "             1                   8.52                7.08                6.45   \n",
       "             2                   8.16                6.82                5.40   \n",
       "             3                   7.07                6.72                5.13   \n",
       "             4                   7.66                6.61                6.05   \n",
       "             5                   7.34                6.86                5.87   \n",
       "             6                   7.03                7.95                6.69   \n",
       "             7                   6.92                6.47                4.85   \n",
       "\n",
       "                   IPP_MEDIO_ANO_FASE  IPV_MEDIO_ANO_FASE  IAN_MEDIO_ANO_FASE  \n",
       "ANO_PESQUISA FASE                                                              \n",
       "2020         0                   5.69                6.80                7.50  \n",
       "             1                   7.13                7.68                6.34  \n",
       "             2                   7.37                7.67                7.34  \n",
       "             3                   7.91                7.47                7.81  \n",
       "             4                   8.25                7.73                7.45  \n",
       "             5                   7.68                7.11                7.27  \n",
       "             6                   7.45                7.30                8.67  \n",
       "             7                   7.46                7.79                9.24  \n",
       "             8                   0.00                0.00               10.00  \n",
       "2021         0                   6.93                7.63                7.09  \n",
       "             1                   7.78                7.71                5.96  \n",
       "             2                   7.67                7.39                6.70  \n",
       "             3                   7.51                7.05                7.50  \n",
       "             4                   7.85                7.02                7.42  \n",
       "             5                   7.88                7.34                6.90  \n",
       "             6                   7.73                7.28                6.96  \n",
       "             7                   8.01                7.71                8.95  \n",
       "2022         0                   5.31                7.56                6.80  \n",
       "             1                   5.86                7.36                5.74  \n",
       "             2                   6.16                7.34                6.40  \n",
       "             3                   7.30                6.55                6.99  \n",
       "             4                   7.42                7.21                6.48  \n",
       "             5                   6.59                7.26                6.25  \n",
       "             6                   7.86                8.22                5.83  \n",
       "             7                   6.95                6.98                6.09  "
      ]
     },
     "execution_count": 24,
     "metadata": {},
     "output_type": "execute_result"
    }
   ],
   "source": [
    "df_media_ano_fase = df.groupby(['ANO_PESQUISA', 'FASE'])[['INDE', 'IAA', 'IEG', 'IPS', 'IDA', 'IPP', 'IPV','IAN']].mean().round(2)\n",
    "df_media_ano_fase.columns = ['INDE_MEDIO_ANO_FASE', 'IAA_MEDIO_ANO_FASE', 'IEG_MEDIO_ANO_FASE', 'IPS_MEDIO_ANO_FASE', 'IDA_MEDIO_ANO_FASE', 'IPP_MEDIO_ANO_FASE', 'IPV_MEDIO_ANO_FASE', 'IAN_MEDIO_ANO_FASE']\n",
    "df_media_ano_fase"
   ]
  },
  {
   "cell_type": "code",
   "execution_count": 25,
   "id": "b579f3c202f6ae52",
   "metadata": {
    "ExecuteTime": {
     "end_time": "2024-08-06T23:58:42.341589Z",
     "start_time": "2024-08-06T23:58:42.319816Z"
    }
   },
   "outputs": [
    {
     "data": {
      "text/html": [
       "<div>\n",
       "<style scoped>\n",
       "    .dataframe tbody tr th:only-of-type {\n",
       "        vertical-align: middle;\n",
       "    }\n",
       "\n",
       "    .dataframe tbody tr th {\n",
       "        vertical-align: top;\n",
       "    }\n",
       "\n",
       "    .dataframe thead th {\n",
       "        text-align: right;\n",
       "    }\n",
       "</style>\n",
       "<table border=\"1\" class=\"dataframe\">\n",
       "  <thead>\n",
       "    <tr style=\"text-align: right;\">\n",
       "      <th></th>\n",
       "      <th></th>\n",
       "      <th></th>\n",
       "      <th>INDE_MEDIO_ANO_FASE_TURMA</th>\n",
       "      <th>IAA_MEDIO_ANO_FASE_TURMA</th>\n",
       "      <th>IEG_MEDIO_ANO_FASE_TURMA</th>\n",
       "      <th>IPS_MEDIO_ANO_FASE_TURMA</th>\n",
       "      <th>IDA_MEDIO_ANO_FASE_TURMA</th>\n",
       "      <th>IPP_MEDIO_ANO_FASE_TURMA</th>\n",
       "      <th>IPV_MEDIO_ANO_FASE_TURMA</th>\n",
       "      <th>IAN_MEDIO_ANO_FASE_TURMA</th>\n",
       "    </tr>\n",
       "    <tr>\n",
       "      <th>ANO_PESQUISA</th>\n",
       "      <th>FASE</th>\n",
       "      <th>TURMA</th>\n",
       "      <th></th>\n",
       "      <th></th>\n",
       "      <th></th>\n",
       "      <th></th>\n",
       "      <th></th>\n",
       "      <th></th>\n",
       "      <th></th>\n",
       "      <th></th>\n",
       "    </tr>\n",
       "  </thead>\n",
       "  <tbody>\n",
       "    <tr>\n",
       "      <th rowspan=\"5\" valign=\"top\">2020</th>\n",
       "      <th rowspan=\"5\" valign=\"top\">0</th>\n",
       "      <th>A</th>\n",
       "      <td>7.97</td>\n",
       "      <td>8.68</td>\n",
       "      <td>9.85</td>\n",
       "      <td>6.72</td>\n",
       "      <td>9.19</td>\n",
       "      <td>4.69</td>\n",
       "      <td>6.69</td>\n",
       "      <td>8.12</td>\n",
       "    </tr>\n",
       "    <tr>\n",
       "      <th>B</th>\n",
       "      <td>8.66</td>\n",
       "      <td>9.17</td>\n",
       "      <td>10.00</td>\n",
       "      <td>7.67</td>\n",
       "      <td>9.30</td>\n",
       "      <td>7.05</td>\n",
       "      <td>7.73</td>\n",
       "      <td>8.64</td>\n",
       "    </tr>\n",
       "    <tr>\n",
       "      <th>C</th>\n",
       "      <td>8.32</td>\n",
       "      <td>9.20</td>\n",
       "      <td>10.00</td>\n",
       "      <td>7.86</td>\n",
       "      <td>7.11</td>\n",
       "      <td>7.10</td>\n",
       "      <td>7.75</td>\n",
       "      <td>9.29</td>\n",
       "    </tr>\n",
       "    <tr>\n",
       "      <th>D</th>\n",
       "      <td>7.76</td>\n",
       "      <td>8.77</td>\n",
       "      <td>9.75</td>\n",
       "      <td>5.77</td>\n",
       "      <td>9.17</td>\n",
       "      <td>5.96</td>\n",
       "      <td>6.74</td>\n",
       "      <td>5.77</td>\n",
       "    </tr>\n",
       "    <tr>\n",
       "      <th>E</th>\n",
       "      <td>7.79</td>\n",
       "      <td>8.89</td>\n",
       "      <td>9.99</td>\n",
       "      <td>6.19</td>\n",
       "      <td>9.18</td>\n",
       "      <td>4.12</td>\n",
       "      <td>6.56</td>\n",
       "      <td>7.27</td>\n",
       "    </tr>\n",
       "    <tr>\n",
       "      <th>...</th>\n",
       "      <th>...</th>\n",
       "      <th>...</th>\n",
       "      <td>...</td>\n",
       "      <td>...</td>\n",
       "      <td>...</td>\n",
       "      <td>...</td>\n",
       "      <td>...</td>\n",
       "      <td>...</td>\n",
       "      <td>...</td>\n",
       "      <td>...</td>\n",
       "    </tr>\n",
       "    <tr>\n",
       "      <th rowspan=\"5\" valign=\"top\">2022</th>\n",
       "      <th rowspan=\"2\" valign=\"top\">5</th>\n",
       "      <th>K</th>\n",
       "      <td>7.22</td>\n",
       "      <td>8.12</td>\n",
       "      <td>8.33</td>\n",
       "      <td>6.12</td>\n",
       "      <td>6.34</td>\n",
       "      <td>7.33</td>\n",
       "      <td>7.42</td>\n",
       "      <td>6.50</td>\n",
       "    </tr>\n",
       "    <tr>\n",
       "      <th>L</th>\n",
       "      <td>7.77</td>\n",
       "      <td>8.75</td>\n",
       "      <td>8.12</td>\n",
       "      <td>7.25</td>\n",
       "      <td>7.06</td>\n",
       "      <td>8.11</td>\n",
       "      <td>7.88</td>\n",
       "      <td>7.50</td>\n",
       "    </tr>\n",
       "    <tr>\n",
       "      <th>6</th>\n",
       "      <th>A</th>\n",
       "      <td>7.20</td>\n",
       "      <td>6.50</td>\n",
       "      <td>7.03</td>\n",
       "      <td>7.95</td>\n",
       "      <td>6.69</td>\n",
       "      <td>7.86</td>\n",
       "      <td>8.22</td>\n",
       "      <td>5.83</td>\n",
       "    </tr>\n",
       "    <tr>\n",
       "      <th rowspan=\"2\" valign=\"top\">7</th>\n",
       "      <th>A</th>\n",
       "      <td>5.90</td>\n",
       "      <td>6.08</td>\n",
       "      <td>5.68</td>\n",
       "      <td>6.25</td>\n",
       "      <td>4.04</td>\n",
       "      <td>6.92</td>\n",
       "      <td>6.83</td>\n",
       "      <td>6.67</td>\n",
       "    </tr>\n",
       "    <tr>\n",
       "      <th>D</th>\n",
       "      <td>7.27</td>\n",
       "      <td>8.02</td>\n",
       "      <td>9.25</td>\n",
       "      <td>6.88</td>\n",
       "      <td>6.38</td>\n",
       "      <td>7.01</td>\n",
       "      <td>7.24</td>\n",
       "      <td>5.00</td>\n",
       "    </tr>\n",
       "  </tbody>\n",
       "</table>\n",
       "<p>201 rows × 8 columns</p>\n",
       "</div>"
      ],
      "text/plain": [
       "                         INDE_MEDIO_ANO_FASE_TURMA  IAA_MEDIO_ANO_FASE_TURMA  \\\n",
       "ANO_PESQUISA FASE TURMA                                                        \n",
       "2020         0    A                           7.97                      8.68   \n",
       "                  B                           8.66                      9.17   \n",
       "                  C                           8.32                      9.20   \n",
       "                  D                           7.76                      8.77   \n",
       "                  E                           7.79                      8.89   \n",
       "...                                            ...                       ...   \n",
       "2022         5    K                           7.22                      8.12   \n",
       "                  L                           7.77                      8.75   \n",
       "             6    A                           7.20                      6.50   \n",
       "             7    A                           5.90                      6.08   \n",
       "                  D                           7.27                      8.02   \n",
       "\n",
       "                         IEG_MEDIO_ANO_FASE_TURMA  IPS_MEDIO_ANO_FASE_TURMA  \\\n",
       "ANO_PESQUISA FASE TURMA                                                       \n",
       "2020         0    A                          9.85                      6.72   \n",
       "                  B                         10.00                      7.67   \n",
       "                  C                         10.00                      7.86   \n",
       "                  D                          9.75                      5.77   \n",
       "                  E                          9.99                      6.19   \n",
       "...                                           ...                       ...   \n",
       "2022         5    K                          8.33                      6.12   \n",
       "                  L                          8.12                      7.25   \n",
       "             6    A                          7.03                      7.95   \n",
       "             7    A                          5.68                      6.25   \n",
       "                  D                          9.25                      6.88   \n",
       "\n",
       "                         IDA_MEDIO_ANO_FASE_TURMA  IPP_MEDIO_ANO_FASE_TURMA  \\\n",
       "ANO_PESQUISA FASE TURMA                                                       \n",
       "2020         0    A                          9.19                      4.69   \n",
       "                  B                          9.30                      7.05   \n",
       "                  C                          7.11                      7.10   \n",
       "                  D                          9.17                      5.96   \n",
       "                  E                          9.18                      4.12   \n",
       "...                                           ...                       ...   \n",
       "2022         5    K                          6.34                      7.33   \n",
       "                  L                          7.06                      8.11   \n",
       "             6    A                          6.69                      7.86   \n",
       "             7    A                          4.04                      6.92   \n",
       "                  D                          6.38                      7.01   \n",
       "\n",
       "                         IPV_MEDIO_ANO_FASE_TURMA  IAN_MEDIO_ANO_FASE_TURMA  \n",
       "ANO_PESQUISA FASE TURMA                                                      \n",
       "2020         0    A                          6.69                      8.12  \n",
       "                  B                          7.73                      8.64  \n",
       "                  C                          7.75                      9.29  \n",
       "                  D                          6.74                      5.77  \n",
       "                  E                          6.56                      7.27  \n",
       "...                                           ...                       ...  \n",
       "2022         5    K                          7.42                      6.50  \n",
       "                  L                          7.88                      7.50  \n",
       "             6    A                          8.22                      5.83  \n",
       "             7    A                          6.83                      6.67  \n",
       "                  D                          7.24                      5.00  \n",
       "\n",
       "[201 rows x 8 columns]"
      ]
     },
     "execution_count": 25,
     "metadata": {},
     "output_type": "execute_result"
    }
   ],
   "source": [
    "df_media_ano_fase_turma = df.groupby(['ANO_PESQUISA', 'FASE', 'TURMA'])[['INDE', 'IAA', 'IEG', 'IPS', 'IDA', 'IPP', 'IPV','IAN']].mean().round(2)\n",
    "df_media_ano_fase_turma.columns = ['INDE_MEDIO_ANO_FASE_TURMA', 'IAA_MEDIO_ANO_FASE_TURMA', 'IEG_MEDIO_ANO_FASE_TURMA', 'IPS_MEDIO_ANO_FASE_TURMA', 'IDA_MEDIO_ANO_FASE_TURMA', 'IPP_MEDIO_ANO_FASE_TURMA', 'IPV_MEDIO_ANO_FASE_TURMA', 'IAN_MEDIO_ANO_FASE_TURMA']\n",
    "df_media_ano_fase_turma"
   ]
  },
  {
   "cell_type": "code",
   "execution_count": 26,
   "id": "521580c2f4fed4b6",
   "metadata": {
    "ExecuteTime": {
     "end_time": "2024-08-06T23:58:42.464415Z",
     "start_time": "2024-08-06T23:58:42.435740Z"
    }
   },
   "outputs": [
    {
     "data": {
      "text/html": [
       "<div>\n",
       "<style scoped>\n",
       "    .dataframe tbody tr th:only-of-type {\n",
       "        vertical-align: middle;\n",
       "    }\n",
       "\n",
       "    .dataframe tbody tr th {\n",
       "        vertical-align: top;\n",
       "    }\n",
       "\n",
       "    .dataframe thead th {\n",
       "        text-align: right;\n",
       "    }\n",
       "</style>\n",
       "<table border=\"1\" class=\"dataframe\">\n",
       "  <thead>\n",
       "    <tr style=\"text-align: right;\">\n",
       "      <th></th>\n",
       "      <th>ANO_PESQUISA</th>\n",
       "      <th>ID_ALUNO</th>\n",
       "      <th>NOME</th>\n",
       "      <th>FASE</th>\n",
       "      <th>TURMA</th>\n",
       "      <th>PONTO_VIRADA</th>\n",
       "      <th>INDE</th>\n",
       "      <th>PEDRA</th>\n",
       "      <th>IAA</th>\n",
       "      <th>IEG</th>\n",
       "      <th>IPS</th>\n",
       "      <th>IDA</th>\n",
       "      <th>IPP</th>\n",
       "      <th>IPV</th>\n",
       "      <th>IAN</th>\n",
       "      <th>INDE_MEDIO_ANO_FASE</th>\n",
       "      <th>IAA_MEDIO_ANO_FASE</th>\n",
       "      <th>IEG_MEDIO_ANO_FASE</th>\n",
       "      <th>IPS_MEDIO_ANO_FASE</th>\n",
       "      <th>IDA_MEDIO_ANO_FASE</th>\n",
       "      <th>IPP_MEDIO_ANO_FASE</th>\n",
       "      <th>IPV_MEDIO_ANO_FASE</th>\n",
       "      <th>IAN_MEDIO_ANO_FASE</th>\n",
       "    </tr>\n",
       "  </thead>\n",
       "  <tbody>\n",
       "    <tr>\n",
       "      <th>0</th>\n",
       "      <td>2020</td>\n",
       "      <td>1</td>\n",
       "      <td>ALUNO-1</td>\n",
       "      <td>2</td>\n",
       "      <td>H</td>\n",
       "      <td>Não</td>\n",
       "      <td>7.88</td>\n",
       "      <td>Ametista</td>\n",
       "      <td>8.50</td>\n",
       "      <td>8.70</td>\n",
       "      <td>7.50</td>\n",
       "      <td>7.00</td>\n",
       "      <td>5.94</td>\n",
       "      <td>7.75</td>\n",
       "      <td>10.0</td>\n",
       "      <td>7.11</td>\n",
       "      <td>8.26</td>\n",
       "      <td>7.92</td>\n",
       "      <td>6.73</td>\n",
       "      <td>5.13</td>\n",
       "      <td>7.37</td>\n",
       "      <td>7.67</td>\n",
       "      <td>7.34</td>\n",
       "    </tr>\n",
       "    <tr>\n",
       "      <th>1</th>\n",
       "      <td>2020</td>\n",
       "      <td>3</td>\n",
       "      <td>ALUNO-3</td>\n",
       "      <td>3</td>\n",
       "      <td>H</td>\n",
       "      <td>Não</td>\n",
       "      <td>7.86</td>\n",
       "      <td>Ametista</td>\n",
       "      <td>7.92</td>\n",
       "      <td>8.90</td>\n",
       "      <td>7.50</td>\n",
       "      <td>5.50</td>\n",
       "      <td>8.12</td>\n",
       "      <td>8.11</td>\n",
       "      <td>10.0</td>\n",
       "      <td>7.34</td>\n",
       "      <td>8.55</td>\n",
       "      <td>7.41</td>\n",
       "      <td>6.60</td>\n",
       "      <td>6.40</td>\n",
       "      <td>7.91</td>\n",
       "      <td>7.47</td>\n",
       "      <td>7.81</td>\n",
       "    </tr>\n",
       "    <tr>\n",
       "      <th>2</th>\n",
       "      <td>2020</td>\n",
       "      <td>4</td>\n",
       "      <td>ALUNO-4</td>\n",
       "      <td>1</td>\n",
       "      <td>D</td>\n",
       "      <td>Não</td>\n",
       "      <td>5.08</td>\n",
       "      <td>Quartzo</td>\n",
       "      <td>8.00</td>\n",
       "      <td>4.10</td>\n",
       "      <td>6.88</td>\n",
       "      <td>0.00</td>\n",
       "      <td>7.19</td>\n",
       "      <td>7.75</td>\n",
       "      <td>5.0</td>\n",
       "      <td>7.42</td>\n",
       "      <td>8.72</td>\n",
       "      <td>7.83</td>\n",
       "      <td>6.89</td>\n",
       "      <td>7.07</td>\n",
       "      <td>7.13</td>\n",
       "      <td>7.68</td>\n",
       "      <td>6.34</td>\n",
       "    </tr>\n",
       "    <tr>\n",
       "      <th>3</th>\n",
       "      <td>2020</td>\n",
       "      <td>5</td>\n",
       "      <td>ALUNO-5</td>\n",
       "      <td>2</td>\n",
       "      <td>M</td>\n",
       "      <td>Não</td>\n",
       "      <td>8.08</td>\n",
       "      <td>Ametista</td>\n",
       "      <td>7.50</td>\n",
       "      <td>8.00</td>\n",
       "      <td>7.50</td>\n",
       "      <td>7.50</td>\n",
       "      <td>8.44</td>\n",
       "      <td>8.17</td>\n",
       "      <td>10.0</td>\n",
       "      <td>7.11</td>\n",
       "      <td>8.26</td>\n",
       "      <td>7.92</td>\n",
       "      <td>6.73</td>\n",
       "      <td>5.13</td>\n",
       "      <td>7.37</td>\n",
       "      <td>7.67</td>\n",
       "      <td>7.34</td>\n",
       "    </tr>\n",
       "    <tr>\n",
       "      <th>4</th>\n",
       "      <td>2020</td>\n",
       "      <td>8</td>\n",
       "      <td>ALUNO-8</td>\n",
       "      <td>4</td>\n",
       "      <td>L</td>\n",
       "      <td>Sim</td>\n",
       "      <td>8.38</td>\n",
       "      <td>Ametista</td>\n",
       "      <td>8.33</td>\n",
       "      <td>9.90</td>\n",
       "      <td>4.38</td>\n",
       "      <td>7.33</td>\n",
       "      <td>8.75</td>\n",
       "      <td>8.94</td>\n",
       "      <td>10.0</td>\n",
       "      <td>7.08</td>\n",
       "      <td>8.63</td>\n",
       "      <td>6.93</td>\n",
       "      <td>7.08</td>\n",
       "      <td>5.02</td>\n",
       "      <td>8.25</td>\n",
       "      <td>7.73</td>\n",
       "      <td>7.45</td>\n",
       "    </tr>\n",
       "    <tr>\n",
       "      <th>...</th>\n",
       "      <td>...</td>\n",
       "      <td>...</td>\n",
       "      <td>...</td>\n",
       "      <td>...</td>\n",
       "      <td>...</td>\n",
       "      <td>...</td>\n",
       "      <td>...</td>\n",
       "      <td>...</td>\n",
       "      <td>...</td>\n",
       "      <td>...</td>\n",
       "      <td>...</td>\n",
       "      <td>...</td>\n",
       "      <td>...</td>\n",
       "      <td>...</td>\n",
       "      <td>...</td>\n",
       "      <td>...</td>\n",
       "      <td>...</td>\n",
       "      <td>...</td>\n",
       "      <td>...</td>\n",
       "      <td>...</td>\n",
       "      <td>...</td>\n",
       "      <td>...</td>\n",
       "      <td>...</td>\n",
       "    </tr>\n",
       "    <tr>\n",
       "      <th>2270</th>\n",
       "      <td>2022</td>\n",
       "      <td>1342</td>\n",
       "      <td>ALUNO-1342</td>\n",
       "      <td>2</td>\n",
       "      <td>K</td>\n",
       "      <td>Não</td>\n",
       "      <td>8.15</td>\n",
       "      <td>Topázio</td>\n",
       "      <td>7.92</td>\n",
       "      <td>9.67</td>\n",
       "      <td>7.50</td>\n",
       "      <td>7.75</td>\n",
       "      <td>6.25</td>\n",
       "      <td>7.50</td>\n",
       "      <td>10.0</td>\n",
       "      <td>6.96</td>\n",
       "      <td>8.41</td>\n",
       "      <td>8.16</td>\n",
       "      <td>6.82</td>\n",
       "      <td>5.40</td>\n",
       "      <td>6.16</td>\n",
       "      <td>7.34</td>\n",
       "      <td>6.40</td>\n",
       "    </tr>\n",
       "    <tr>\n",
       "      <th>2271</th>\n",
       "      <td>2022</td>\n",
       "      <td>1343</td>\n",
       "      <td>ALUNO-1343</td>\n",
       "      <td>2</td>\n",
       "      <td>K</td>\n",
       "      <td>Não</td>\n",
       "      <td>5.67</td>\n",
       "      <td>Quartzo</td>\n",
       "      <td>7.42</td>\n",
       "      <td>6.47</td>\n",
       "      <td>6.25</td>\n",
       "      <td>2.00</td>\n",
       "      <td>6.25</td>\n",
       "      <td>7.44</td>\n",
       "      <td>5.0</td>\n",
       "      <td>6.96</td>\n",
       "      <td>8.41</td>\n",
       "      <td>8.16</td>\n",
       "      <td>6.82</td>\n",
       "      <td>5.40</td>\n",
       "      <td>6.16</td>\n",
       "      <td>7.34</td>\n",
       "      <td>6.40</td>\n",
       "    </tr>\n",
       "    <tr>\n",
       "      <th>2272</th>\n",
       "      <td>2022</td>\n",
       "      <td>1346</td>\n",
       "      <td>ALUNO-1346</td>\n",
       "      <td>0</td>\n",
       "      <td>U</td>\n",
       "      <td>Sim</td>\n",
       "      <td>8.14</td>\n",
       "      <td>Topázio</td>\n",
       "      <td>9.00</td>\n",
       "      <td>9.03</td>\n",
       "      <td>7.50</td>\n",
       "      <td>9.00</td>\n",
       "      <td>5.62</td>\n",
       "      <td>9.08</td>\n",
       "      <td>5.0</td>\n",
       "      <td>7.37</td>\n",
       "      <td>8.98</td>\n",
       "      <td>8.09</td>\n",
       "      <td>7.01</td>\n",
       "      <td>7.13</td>\n",
       "      <td>5.31</td>\n",
       "      <td>7.56</td>\n",
       "      <td>6.80</td>\n",
       "    </tr>\n",
       "    <tr>\n",
       "      <th>2273</th>\n",
       "      <td>2022</td>\n",
       "      <td>1348</td>\n",
       "      <td>ALUNO-1348</td>\n",
       "      <td>4</td>\n",
       "      <td>P</td>\n",
       "      <td>Não</td>\n",
       "      <td>6.75</td>\n",
       "      <td>Ágata</td>\n",
       "      <td>8.33</td>\n",
       "      <td>9.18</td>\n",
       "      <td>5.62</td>\n",
       "      <td>5.90</td>\n",
       "      <td>6.72</td>\n",
       "      <td>5.83</td>\n",
       "      <td>5.0</td>\n",
       "      <td>7.01</td>\n",
       "      <td>7.71</td>\n",
       "      <td>7.66</td>\n",
       "      <td>6.61</td>\n",
       "      <td>6.05</td>\n",
       "      <td>7.42</td>\n",
       "      <td>7.21</td>\n",
       "      <td>6.48</td>\n",
       "    </tr>\n",
       "    <tr>\n",
       "      <th>2274</th>\n",
       "      <td>2022</td>\n",
       "      <td>1349</td>\n",
       "      <td>ALUNO-1349</td>\n",
       "      <td>3</td>\n",
       "      <td>M</td>\n",
       "      <td>Não</td>\n",
       "      <td>6.40</td>\n",
       "      <td>Ágata</td>\n",
       "      <td>7.92</td>\n",
       "      <td>7.54</td>\n",
       "      <td>7.50</td>\n",
       "      <td>4.50</td>\n",
       "      <td>7.50</td>\n",
       "      <td>6.00</td>\n",
       "      <td>5.0</td>\n",
       "      <td>6.60</td>\n",
       "      <td>7.48</td>\n",
       "      <td>7.07</td>\n",
       "      <td>6.72</td>\n",
       "      <td>5.13</td>\n",
       "      <td>7.30</td>\n",
       "      <td>6.55</td>\n",
       "      <td>6.99</td>\n",
       "    </tr>\n",
       "  </tbody>\n",
       "</table>\n",
       "<p>2275 rows × 23 columns</p>\n",
       "</div>"
      ],
      "text/plain": [
       "      ANO_PESQUISA  ID_ALUNO        NOME  FASE TURMA PONTO_VIRADA  INDE  \\\n",
       "0             2020         1     ALUNO-1     2     H          Não  7.88   \n",
       "1             2020         3     ALUNO-3     3     H          Não  7.86   \n",
       "2             2020         4     ALUNO-4     1     D          Não  5.08   \n",
       "3             2020         5     ALUNO-5     2     M          Não  8.08   \n",
       "4             2020         8     ALUNO-8     4     L          Sim  8.38   \n",
       "...            ...       ...         ...   ...   ...          ...   ...   \n",
       "2270          2022      1342  ALUNO-1342     2     K          Não  8.15   \n",
       "2271          2022      1343  ALUNO-1343     2     K          Não  5.67   \n",
       "2272          2022      1346  ALUNO-1346     0     U          Sim  8.14   \n",
       "2273          2022      1348  ALUNO-1348     4     P          Não  6.75   \n",
       "2274          2022      1349  ALUNO-1349     3     M          Não  6.40   \n",
       "\n",
       "         PEDRA   IAA   IEG   IPS   IDA   IPP   IPV   IAN  INDE_MEDIO_ANO_FASE  \\\n",
       "0     Ametista  8.50  8.70  7.50  7.00  5.94  7.75  10.0                 7.11   \n",
       "1     Ametista  7.92  8.90  7.50  5.50  8.12  8.11  10.0                 7.34   \n",
       "2      Quartzo  8.00  4.10  6.88  0.00  7.19  7.75   5.0                 7.42   \n",
       "3     Ametista  7.50  8.00  7.50  7.50  8.44  8.17  10.0                 7.11   \n",
       "4     Ametista  8.33  9.90  4.38  7.33  8.75  8.94  10.0                 7.08   \n",
       "...        ...   ...   ...   ...   ...   ...   ...   ...                  ...   \n",
       "2270   Topázio  7.92  9.67  7.50  7.75  6.25  7.50  10.0                 6.96   \n",
       "2271   Quartzo  7.42  6.47  6.25  2.00  6.25  7.44   5.0                 6.96   \n",
       "2272   Topázio  9.00  9.03  7.50  9.00  5.62  9.08   5.0                 7.37   \n",
       "2273     Ágata  8.33  9.18  5.62  5.90  6.72  5.83   5.0                 7.01   \n",
       "2274     Ágata  7.92  7.54  7.50  4.50  7.50  6.00   5.0                 6.60   \n",
       "\n",
       "      IAA_MEDIO_ANO_FASE  IEG_MEDIO_ANO_FASE  IPS_MEDIO_ANO_FASE  \\\n",
       "0                   8.26                7.92                6.73   \n",
       "1                   8.55                7.41                6.60   \n",
       "2                   8.72                7.83                6.89   \n",
       "3                   8.26                7.92                6.73   \n",
       "4                   8.63                6.93                7.08   \n",
       "...                  ...                 ...                 ...   \n",
       "2270                8.41                8.16                6.82   \n",
       "2271                8.41                8.16                6.82   \n",
       "2272                8.98                8.09                7.01   \n",
       "2273                7.71                7.66                6.61   \n",
       "2274                7.48                7.07                6.72   \n",
       "\n",
       "      IDA_MEDIO_ANO_FASE  IPP_MEDIO_ANO_FASE  IPV_MEDIO_ANO_FASE  \\\n",
       "0                   5.13                7.37                7.67   \n",
       "1                   6.40                7.91                7.47   \n",
       "2                   7.07                7.13                7.68   \n",
       "3                   5.13                7.37                7.67   \n",
       "4                   5.02                8.25                7.73   \n",
       "...                  ...                 ...                 ...   \n",
       "2270                5.40                6.16                7.34   \n",
       "2271                5.40                6.16                7.34   \n",
       "2272                7.13                5.31                7.56   \n",
       "2273                6.05                7.42                7.21   \n",
       "2274                5.13                7.30                6.55   \n",
       "\n",
       "      IAN_MEDIO_ANO_FASE  \n",
       "0                   7.34  \n",
       "1                   7.81  \n",
       "2                   6.34  \n",
       "3                   7.34  \n",
       "4                   7.45  \n",
       "...                  ...  \n",
       "2270                6.40  \n",
       "2271                6.40  \n",
       "2272                6.80  \n",
       "2273                6.48  \n",
       "2274                6.99  \n",
       "\n",
       "[2275 rows x 23 columns]"
      ]
     },
     "execution_count": 26,
     "metadata": {},
     "output_type": "execute_result"
    }
   ],
   "source": [
    "join_media_ano_fase = pd.merge(\n",
    "    left=df,\n",
    "    right=df_media_ano_fase,\n",
    "    how='left',\n",
    "    left_on=['ANO_PESQUISA', 'FASE'],\n",
    "    right_on=['ANO_PESQUISA', 'FASE'],\n",
    ")\n",
    "join_media_ano_fase"
   ]
  },
  {
   "cell_type": "code",
   "execution_count": 27,
   "id": "89acf5c9529d9f5d",
   "metadata": {
    "ExecuteTime": {
     "end_time": "2024-08-06T23:58:42.649071Z",
     "start_time": "2024-08-06T23:58:42.615211Z"
    }
   },
   "outputs": [
    {
     "data": {
      "text/html": [
       "<div>\n",
       "<style scoped>\n",
       "    .dataframe tbody tr th:only-of-type {\n",
       "        vertical-align: middle;\n",
       "    }\n",
       "\n",
       "    .dataframe tbody tr th {\n",
       "        vertical-align: top;\n",
       "    }\n",
       "\n",
       "    .dataframe thead th {\n",
       "        text-align: right;\n",
       "    }\n",
       "</style>\n",
       "<table border=\"1\" class=\"dataframe\">\n",
       "  <thead>\n",
       "    <tr style=\"text-align: right;\">\n",
       "      <th></th>\n",
       "      <th>ANO_PESQUISA</th>\n",
       "      <th>ID_ALUNO</th>\n",
       "      <th>NOME</th>\n",
       "      <th>FASE</th>\n",
       "      <th>TURMA</th>\n",
       "      <th>PONTO_VIRADA</th>\n",
       "      <th>INDE</th>\n",
       "      <th>PEDRA</th>\n",
       "      <th>IAA</th>\n",
       "      <th>IEG</th>\n",
       "      <th>IPS</th>\n",
       "      <th>IDA</th>\n",
       "      <th>IPP</th>\n",
       "      <th>IPV</th>\n",
       "      <th>IAN</th>\n",
       "      <th>INDE_MEDIO_ANO_FASE</th>\n",
       "      <th>IAA_MEDIO_ANO_FASE</th>\n",
       "      <th>IEG_MEDIO_ANO_FASE</th>\n",
       "      <th>IPS_MEDIO_ANO_FASE</th>\n",
       "      <th>IDA_MEDIO_ANO_FASE</th>\n",
       "      <th>IPP_MEDIO_ANO_FASE</th>\n",
       "      <th>IPV_MEDIO_ANO_FASE</th>\n",
       "      <th>IAN_MEDIO_ANO_FASE</th>\n",
       "      <th>INDE_MEDIO_ANO_FASE_TURMA</th>\n",
       "      <th>IAA_MEDIO_ANO_FASE_TURMA</th>\n",
       "      <th>IEG_MEDIO_ANO_FASE_TURMA</th>\n",
       "      <th>IPS_MEDIO_ANO_FASE_TURMA</th>\n",
       "      <th>IDA_MEDIO_ANO_FASE_TURMA</th>\n",
       "      <th>IPP_MEDIO_ANO_FASE_TURMA</th>\n",
       "      <th>IPV_MEDIO_ANO_FASE_TURMA</th>\n",
       "      <th>IAN_MEDIO_ANO_FASE_TURMA</th>\n",
       "    </tr>\n",
       "  </thead>\n",
       "  <tbody>\n",
       "    <tr>\n",
       "      <th>0</th>\n",
       "      <td>2020</td>\n",
       "      <td>1</td>\n",
       "      <td>ALUNO-1</td>\n",
       "      <td>2</td>\n",
       "      <td>H</td>\n",
       "      <td>Não</td>\n",
       "      <td>7.88</td>\n",
       "      <td>Ametista</td>\n",
       "      <td>8.50</td>\n",
       "      <td>8.70</td>\n",
       "      <td>7.50</td>\n",
       "      <td>7.00</td>\n",
       "      <td>5.94</td>\n",
       "      <td>7.75</td>\n",
       "      <td>10.0</td>\n",
       "      <td>7.11</td>\n",
       "      <td>8.26</td>\n",
       "      <td>7.92</td>\n",
       "      <td>6.73</td>\n",
       "      <td>5.13</td>\n",
       "      <td>7.37</td>\n",
       "      <td>7.67</td>\n",
       "      <td>7.34</td>\n",
       "      <td>6.75</td>\n",
       "      <td>8.65</td>\n",
       "      <td>7.72</td>\n",
       "      <td>6.15</td>\n",
       "      <td>3.98</td>\n",
       "      <td>6.04</td>\n",
       "      <td>8.10</td>\n",
       "      <td>7.08</td>\n",
       "    </tr>\n",
       "    <tr>\n",
       "      <th>1</th>\n",
       "      <td>2020</td>\n",
       "      <td>3</td>\n",
       "      <td>ALUNO-3</td>\n",
       "      <td>3</td>\n",
       "      <td>H</td>\n",
       "      <td>Não</td>\n",
       "      <td>7.86</td>\n",
       "      <td>Ametista</td>\n",
       "      <td>7.92</td>\n",
       "      <td>8.90</td>\n",
       "      <td>7.50</td>\n",
       "      <td>5.50</td>\n",
       "      <td>8.12</td>\n",
       "      <td>8.11</td>\n",
       "      <td>10.0</td>\n",
       "      <td>7.34</td>\n",
       "      <td>8.55</td>\n",
       "      <td>7.41</td>\n",
       "      <td>6.60</td>\n",
       "      <td>6.40</td>\n",
       "      <td>7.91</td>\n",
       "      <td>7.47</td>\n",
       "      <td>7.81</td>\n",
       "      <td>6.23</td>\n",
       "      <td>8.66</td>\n",
       "      <td>5.57</td>\n",
       "      <td>5.97</td>\n",
       "      <td>5.09</td>\n",
       "      <td>7.13</td>\n",
       "      <td>6.02</td>\n",
       "      <td>7.22</td>\n",
       "    </tr>\n",
       "    <tr>\n",
       "      <th>2</th>\n",
       "      <td>2020</td>\n",
       "      <td>4</td>\n",
       "      <td>ALUNO-4</td>\n",
       "      <td>1</td>\n",
       "      <td>D</td>\n",
       "      <td>Não</td>\n",
       "      <td>5.08</td>\n",
       "      <td>Quartzo</td>\n",
       "      <td>8.00</td>\n",
       "      <td>4.10</td>\n",
       "      <td>6.88</td>\n",
       "      <td>0.00</td>\n",
       "      <td>7.19</td>\n",
       "      <td>7.75</td>\n",
       "      <td>5.0</td>\n",
       "      <td>7.42</td>\n",
       "      <td>8.72</td>\n",
       "      <td>7.83</td>\n",
       "      <td>6.89</td>\n",
       "      <td>7.07</td>\n",
       "      <td>7.13</td>\n",
       "      <td>7.68</td>\n",
       "      <td>6.34</td>\n",
       "      <td>7.45</td>\n",
       "      <td>8.66</td>\n",
       "      <td>8.01</td>\n",
       "      <td>6.79</td>\n",
       "      <td>7.55</td>\n",
       "      <td>6.79</td>\n",
       "      <td>7.76</td>\n",
       "      <td>5.67</td>\n",
       "    </tr>\n",
       "    <tr>\n",
       "      <th>3</th>\n",
       "      <td>2020</td>\n",
       "      <td>5</td>\n",
       "      <td>ALUNO-5</td>\n",
       "      <td>2</td>\n",
       "      <td>M</td>\n",
       "      <td>Não</td>\n",
       "      <td>8.08</td>\n",
       "      <td>Ametista</td>\n",
       "      <td>7.50</td>\n",
       "      <td>8.00</td>\n",
       "      <td>7.50</td>\n",
       "      <td>7.50</td>\n",
       "      <td>8.44</td>\n",
       "      <td>8.17</td>\n",
       "      <td>10.0</td>\n",
       "      <td>7.11</td>\n",
       "      <td>8.26</td>\n",
       "      <td>7.92</td>\n",
       "      <td>6.73</td>\n",
       "      <td>5.13</td>\n",
       "      <td>7.37</td>\n",
       "      <td>7.67</td>\n",
       "      <td>7.34</td>\n",
       "      <td>6.75</td>\n",
       "      <td>7.93</td>\n",
       "      <td>7.35</td>\n",
       "      <td>6.47</td>\n",
       "      <td>4.18</td>\n",
       "      <td>7.45</td>\n",
       "      <td>7.65</td>\n",
       "      <td>7.35</td>\n",
       "    </tr>\n",
       "    <tr>\n",
       "      <th>4</th>\n",
       "      <td>2020</td>\n",
       "      <td>8</td>\n",
       "      <td>ALUNO-8</td>\n",
       "      <td>4</td>\n",
       "      <td>L</td>\n",
       "      <td>Sim</td>\n",
       "      <td>8.38</td>\n",
       "      <td>Ametista</td>\n",
       "      <td>8.33</td>\n",
       "      <td>9.90</td>\n",
       "      <td>4.38</td>\n",
       "      <td>7.33</td>\n",
       "      <td>8.75</td>\n",
       "      <td>8.94</td>\n",
       "      <td>10.0</td>\n",
       "      <td>7.08</td>\n",
       "      <td>8.63</td>\n",
       "      <td>6.93</td>\n",
       "      <td>7.08</td>\n",
       "      <td>5.02</td>\n",
       "      <td>8.25</td>\n",
       "      <td>7.73</td>\n",
       "      <td>7.45</td>\n",
       "      <td>6.71</td>\n",
       "      <td>8.45</td>\n",
       "      <td>6.29</td>\n",
       "      <td>6.43</td>\n",
       "      <td>4.36</td>\n",
       "      <td>8.17</td>\n",
       "      <td>7.29</td>\n",
       "      <td>8.21</td>\n",
       "    </tr>\n",
       "    <tr>\n",
       "      <th>...</th>\n",
       "      <td>...</td>\n",
       "      <td>...</td>\n",
       "      <td>...</td>\n",
       "      <td>...</td>\n",
       "      <td>...</td>\n",
       "      <td>...</td>\n",
       "      <td>...</td>\n",
       "      <td>...</td>\n",
       "      <td>...</td>\n",
       "      <td>...</td>\n",
       "      <td>...</td>\n",
       "      <td>...</td>\n",
       "      <td>...</td>\n",
       "      <td>...</td>\n",
       "      <td>...</td>\n",
       "      <td>...</td>\n",
       "      <td>...</td>\n",
       "      <td>...</td>\n",
       "      <td>...</td>\n",
       "      <td>...</td>\n",
       "      <td>...</td>\n",
       "      <td>...</td>\n",
       "      <td>...</td>\n",
       "      <td>...</td>\n",
       "      <td>...</td>\n",
       "      <td>...</td>\n",
       "      <td>...</td>\n",
       "      <td>...</td>\n",
       "      <td>...</td>\n",
       "      <td>...</td>\n",
       "      <td>...</td>\n",
       "    </tr>\n",
       "    <tr>\n",
       "      <th>2270</th>\n",
       "      <td>2022</td>\n",
       "      <td>1342</td>\n",
       "      <td>ALUNO-1342</td>\n",
       "      <td>2</td>\n",
       "      <td>K</td>\n",
       "      <td>Não</td>\n",
       "      <td>8.15</td>\n",
       "      <td>Topázio</td>\n",
       "      <td>7.92</td>\n",
       "      <td>9.67</td>\n",
       "      <td>7.50</td>\n",
       "      <td>7.75</td>\n",
       "      <td>6.25</td>\n",
       "      <td>7.50</td>\n",
       "      <td>10.0</td>\n",
       "      <td>6.96</td>\n",
       "      <td>8.41</td>\n",
       "      <td>8.16</td>\n",
       "      <td>6.82</td>\n",
       "      <td>5.40</td>\n",
       "      <td>6.16</td>\n",
       "      <td>7.34</td>\n",
       "      <td>6.40</td>\n",
       "      <td>6.71</td>\n",
       "      <td>8.47</td>\n",
       "      <td>8.30</td>\n",
       "      <td>6.68</td>\n",
       "      <td>4.55</td>\n",
       "      <td>6.14</td>\n",
       "      <td>7.19</td>\n",
       "      <td>5.77</td>\n",
       "    </tr>\n",
       "    <tr>\n",
       "      <th>2271</th>\n",
       "      <td>2022</td>\n",
       "      <td>1343</td>\n",
       "      <td>ALUNO-1343</td>\n",
       "      <td>2</td>\n",
       "      <td>K</td>\n",
       "      <td>Não</td>\n",
       "      <td>5.67</td>\n",
       "      <td>Quartzo</td>\n",
       "      <td>7.42</td>\n",
       "      <td>6.47</td>\n",
       "      <td>6.25</td>\n",
       "      <td>2.00</td>\n",
       "      <td>6.25</td>\n",
       "      <td>7.44</td>\n",
       "      <td>5.0</td>\n",
       "      <td>6.96</td>\n",
       "      <td>8.41</td>\n",
       "      <td>8.16</td>\n",
       "      <td>6.82</td>\n",
       "      <td>5.40</td>\n",
       "      <td>6.16</td>\n",
       "      <td>7.34</td>\n",
       "      <td>6.40</td>\n",
       "      <td>6.71</td>\n",
       "      <td>8.47</td>\n",
       "      <td>8.30</td>\n",
       "      <td>6.68</td>\n",
       "      <td>4.55</td>\n",
       "      <td>6.14</td>\n",
       "      <td>7.19</td>\n",
       "      <td>5.77</td>\n",
       "    </tr>\n",
       "    <tr>\n",
       "      <th>2272</th>\n",
       "      <td>2022</td>\n",
       "      <td>1346</td>\n",
       "      <td>ALUNO-1346</td>\n",
       "      <td>0</td>\n",
       "      <td>U</td>\n",
       "      <td>Sim</td>\n",
       "      <td>8.14</td>\n",
       "      <td>Topázio</td>\n",
       "      <td>9.00</td>\n",
       "      <td>9.03</td>\n",
       "      <td>7.50</td>\n",
       "      <td>9.00</td>\n",
       "      <td>5.62</td>\n",
       "      <td>9.08</td>\n",
       "      <td>5.0</td>\n",
       "      <td>7.37</td>\n",
       "      <td>8.98</td>\n",
       "      <td>8.09</td>\n",
       "      <td>7.01</td>\n",
       "      <td>7.13</td>\n",
       "      <td>5.31</td>\n",
       "      <td>7.56</td>\n",
       "      <td>6.80</td>\n",
       "      <td>7.68</td>\n",
       "      <td>9.56</td>\n",
       "      <td>8.66</td>\n",
       "      <td>7.50</td>\n",
       "      <td>7.40</td>\n",
       "      <td>5.55</td>\n",
       "      <td>7.96</td>\n",
       "      <td>6.11</td>\n",
       "    </tr>\n",
       "    <tr>\n",
       "      <th>2273</th>\n",
       "      <td>2022</td>\n",
       "      <td>1348</td>\n",
       "      <td>ALUNO-1348</td>\n",
       "      <td>4</td>\n",
       "      <td>P</td>\n",
       "      <td>Não</td>\n",
       "      <td>6.75</td>\n",
       "      <td>Ágata</td>\n",
       "      <td>8.33</td>\n",
       "      <td>9.18</td>\n",
       "      <td>5.62</td>\n",
       "      <td>5.90</td>\n",
       "      <td>6.72</td>\n",
       "      <td>5.83</td>\n",
       "      <td>5.0</td>\n",
       "      <td>7.01</td>\n",
       "      <td>7.71</td>\n",
       "      <td>7.66</td>\n",
       "      <td>6.61</td>\n",
       "      <td>6.05</td>\n",
       "      <td>7.42</td>\n",
       "      <td>7.21</td>\n",
       "      <td>6.48</td>\n",
       "      <td>6.98</td>\n",
       "      <td>8.24</td>\n",
       "      <td>8.07</td>\n",
       "      <td>6.74</td>\n",
       "      <td>5.87</td>\n",
       "      <td>7.19</td>\n",
       "      <td>6.93</td>\n",
       "      <td>5.83</td>\n",
       "    </tr>\n",
       "    <tr>\n",
       "      <th>2274</th>\n",
       "      <td>2022</td>\n",
       "      <td>1349</td>\n",
       "      <td>ALUNO-1349</td>\n",
       "      <td>3</td>\n",
       "      <td>M</td>\n",
       "      <td>Não</td>\n",
       "      <td>6.40</td>\n",
       "      <td>Ágata</td>\n",
       "      <td>7.92</td>\n",
       "      <td>7.54</td>\n",
       "      <td>7.50</td>\n",
       "      <td>4.50</td>\n",
       "      <td>7.50</td>\n",
       "      <td>6.00</td>\n",
       "      <td>5.0</td>\n",
       "      <td>6.60</td>\n",
       "      <td>7.48</td>\n",
       "      <td>7.07</td>\n",
       "      <td>6.72</td>\n",
       "      <td>5.13</td>\n",
       "      <td>7.30</td>\n",
       "      <td>6.55</td>\n",
       "      <td>6.99</td>\n",
       "      <td>6.31</td>\n",
       "      <td>7.89</td>\n",
       "      <td>6.70</td>\n",
       "      <td>6.88</td>\n",
       "      <td>4.94</td>\n",
       "      <td>6.99</td>\n",
       "      <td>5.81</td>\n",
       "      <td>6.41</td>\n",
       "    </tr>\n",
       "  </tbody>\n",
       "</table>\n",
       "<p>2275 rows × 31 columns</p>\n",
       "</div>"
      ],
      "text/plain": [
       "      ANO_PESQUISA  ID_ALUNO        NOME  FASE TURMA PONTO_VIRADA  INDE  \\\n",
       "0             2020         1     ALUNO-1     2     H          Não  7.88   \n",
       "1             2020         3     ALUNO-3     3     H          Não  7.86   \n",
       "2             2020         4     ALUNO-4     1     D          Não  5.08   \n",
       "3             2020         5     ALUNO-5     2     M          Não  8.08   \n",
       "4             2020         8     ALUNO-8     4     L          Sim  8.38   \n",
       "...            ...       ...         ...   ...   ...          ...   ...   \n",
       "2270          2022      1342  ALUNO-1342     2     K          Não  8.15   \n",
       "2271          2022      1343  ALUNO-1343     2     K          Não  5.67   \n",
       "2272          2022      1346  ALUNO-1346     0     U          Sim  8.14   \n",
       "2273          2022      1348  ALUNO-1348     4     P          Não  6.75   \n",
       "2274          2022      1349  ALUNO-1349     3     M          Não  6.40   \n",
       "\n",
       "         PEDRA   IAA   IEG   IPS   IDA   IPP   IPV   IAN  INDE_MEDIO_ANO_FASE  \\\n",
       "0     Ametista  8.50  8.70  7.50  7.00  5.94  7.75  10.0                 7.11   \n",
       "1     Ametista  7.92  8.90  7.50  5.50  8.12  8.11  10.0                 7.34   \n",
       "2      Quartzo  8.00  4.10  6.88  0.00  7.19  7.75   5.0                 7.42   \n",
       "3     Ametista  7.50  8.00  7.50  7.50  8.44  8.17  10.0                 7.11   \n",
       "4     Ametista  8.33  9.90  4.38  7.33  8.75  8.94  10.0                 7.08   \n",
       "...        ...   ...   ...   ...   ...   ...   ...   ...                  ...   \n",
       "2270   Topázio  7.92  9.67  7.50  7.75  6.25  7.50  10.0                 6.96   \n",
       "2271   Quartzo  7.42  6.47  6.25  2.00  6.25  7.44   5.0                 6.96   \n",
       "2272   Topázio  9.00  9.03  7.50  9.00  5.62  9.08   5.0                 7.37   \n",
       "2273     Ágata  8.33  9.18  5.62  5.90  6.72  5.83   5.0                 7.01   \n",
       "2274     Ágata  7.92  7.54  7.50  4.50  7.50  6.00   5.0                 6.60   \n",
       "\n",
       "      IAA_MEDIO_ANO_FASE  IEG_MEDIO_ANO_FASE  IPS_MEDIO_ANO_FASE  \\\n",
       "0                   8.26                7.92                6.73   \n",
       "1                   8.55                7.41                6.60   \n",
       "2                   8.72                7.83                6.89   \n",
       "3                   8.26                7.92                6.73   \n",
       "4                   8.63                6.93                7.08   \n",
       "...                  ...                 ...                 ...   \n",
       "2270                8.41                8.16                6.82   \n",
       "2271                8.41                8.16                6.82   \n",
       "2272                8.98                8.09                7.01   \n",
       "2273                7.71                7.66                6.61   \n",
       "2274                7.48                7.07                6.72   \n",
       "\n",
       "      IDA_MEDIO_ANO_FASE  IPP_MEDIO_ANO_FASE  IPV_MEDIO_ANO_FASE  \\\n",
       "0                   5.13                7.37                7.67   \n",
       "1                   6.40                7.91                7.47   \n",
       "2                   7.07                7.13                7.68   \n",
       "3                   5.13                7.37                7.67   \n",
       "4                   5.02                8.25                7.73   \n",
       "...                  ...                 ...                 ...   \n",
       "2270                5.40                6.16                7.34   \n",
       "2271                5.40                6.16                7.34   \n",
       "2272                7.13                5.31                7.56   \n",
       "2273                6.05                7.42                7.21   \n",
       "2274                5.13                7.30                6.55   \n",
       "\n",
       "      IAN_MEDIO_ANO_FASE  INDE_MEDIO_ANO_FASE_TURMA  IAA_MEDIO_ANO_FASE_TURMA  \\\n",
       "0                   7.34                       6.75                      8.65   \n",
       "1                   7.81                       6.23                      8.66   \n",
       "2                   6.34                       7.45                      8.66   \n",
       "3                   7.34                       6.75                      7.93   \n",
       "4                   7.45                       6.71                      8.45   \n",
       "...                  ...                        ...                       ...   \n",
       "2270                6.40                       6.71                      8.47   \n",
       "2271                6.40                       6.71                      8.47   \n",
       "2272                6.80                       7.68                      9.56   \n",
       "2273                6.48                       6.98                      8.24   \n",
       "2274                6.99                       6.31                      7.89   \n",
       "\n",
       "      IEG_MEDIO_ANO_FASE_TURMA  IPS_MEDIO_ANO_FASE_TURMA  \\\n",
       "0                         7.72                      6.15   \n",
       "1                         5.57                      5.97   \n",
       "2                         8.01                      6.79   \n",
       "3                         7.35                      6.47   \n",
       "4                         6.29                      6.43   \n",
       "...                        ...                       ...   \n",
       "2270                      8.30                      6.68   \n",
       "2271                      8.30                      6.68   \n",
       "2272                      8.66                      7.50   \n",
       "2273                      8.07                      6.74   \n",
       "2274                      6.70                      6.88   \n",
       "\n",
       "      IDA_MEDIO_ANO_FASE_TURMA  IPP_MEDIO_ANO_FASE_TURMA  \\\n",
       "0                         3.98                      6.04   \n",
       "1                         5.09                      7.13   \n",
       "2                         7.55                      6.79   \n",
       "3                         4.18                      7.45   \n",
       "4                         4.36                      8.17   \n",
       "...                        ...                       ...   \n",
       "2270                      4.55                      6.14   \n",
       "2271                      4.55                      6.14   \n",
       "2272                      7.40                      5.55   \n",
       "2273                      5.87                      7.19   \n",
       "2274                      4.94                      6.99   \n",
       "\n",
       "      IPV_MEDIO_ANO_FASE_TURMA  IAN_MEDIO_ANO_FASE_TURMA  \n",
       "0                         8.10                      7.08  \n",
       "1                         6.02                      7.22  \n",
       "2                         7.76                      5.67  \n",
       "3                         7.65                      7.35  \n",
       "4                         7.29                      8.21  \n",
       "...                        ...                       ...  \n",
       "2270                      7.19                      5.77  \n",
       "2271                      7.19                      5.77  \n",
       "2272                      7.96                      6.11  \n",
       "2273                      6.93                      5.83  \n",
       "2274                      5.81                      6.41  \n",
       "\n",
       "[2275 rows x 31 columns]"
      ]
     },
     "execution_count": 27,
     "metadata": {},
     "output_type": "execute_result"
    }
   ],
   "source": [
    "join_media_ano_fase_turma = pd.merge(\n",
    "    left=join_media_ano_fase,\n",
    "    right=df_media_ano_fase_turma,\n",
    "    how='left',\n",
    "    left_on=['ANO_PESQUISA', 'FASE','TURMA'],\n",
    "    right_on=['ANO_PESQUISA', 'FASE', 'TURMA'],\n",
    ")\n",
    "join_media_ano_fase_turma"
   ]
  },
  {
   "cell_type": "code",
   "execution_count": 28,
   "id": "1a51f3ae096743b8",
   "metadata": {
    "ExecuteTime": {
     "end_time": "2024-08-06T23:58:42.954256Z",
     "start_time": "2024-08-06T23:58:42.905424Z"
    }
   },
   "outputs": [],
   "source": [
    "join_media_ano_fase_turma.to_csv('dados_finais.csv', index=False)"
   ]
  },
  {
   "cell_type": "code",
   "execution_count": 29,
   "id": "108b3f2c61911ea6",
   "metadata": {
    "ExecuteTime": {
     "end_time": "2024-08-06T23:58:43.062199Z",
     "start_time": "2024-08-06T23:58:43.056898Z"
    }
   },
   "outputs": [],
   "source": [
    "df_aluno = join_media_ano_fase_turma[(join_media_ano_fase_turma['ID_ALUNO'] == 1)]"
   ]
  },
  {
   "cell_type": "code",
   "execution_count": 30,
   "id": "e78415c349d338c5",
   "metadata": {
    "ExecuteTime": {
     "end_time": "2024-08-06T23:58:43.278836Z",
     "start_time": "2024-08-06T23:58:43.254759Z"
    }
   },
   "outputs": [
    {
     "data": {
      "text/html": [
       "<div>\n",
       "<style scoped>\n",
       "    .dataframe tbody tr th:only-of-type {\n",
       "        vertical-align: middle;\n",
       "    }\n",
       "\n",
       "    .dataframe tbody tr th {\n",
       "        vertical-align: top;\n",
       "    }\n",
       "\n",
       "    .dataframe thead th {\n",
       "        text-align: right;\n",
       "    }\n",
       "</style>\n",
       "<table border=\"1\" class=\"dataframe\">\n",
       "  <thead>\n",
       "    <tr style=\"text-align: right;\">\n",
       "      <th></th>\n",
       "      <th>ANO_PESQUISA</th>\n",
       "      <th>ID_ALUNO</th>\n",
       "      <th>NOME</th>\n",
       "      <th>FASE</th>\n",
       "      <th>TURMA</th>\n",
       "      <th>PONTO_VIRADA</th>\n",
       "      <th>INDE</th>\n",
       "      <th>PEDRA</th>\n",
       "      <th>IAA</th>\n",
       "      <th>IEG</th>\n",
       "      <th>IPS</th>\n",
       "      <th>IDA</th>\n",
       "      <th>IPP</th>\n",
       "      <th>IPV</th>\n",
       "      <th>IAN</th>\n",
       "      <th>INDE_MEDIO_ANO_FASE</th>\n",
       "      <th>IAA_MEDIO_ANO_FASE</th>\n",
       "      <th>IEG_MEDIO_ANO_FASE</th>\n",
       "      <th>IPS_MEDIO_ANO_FASE</th>\n",
       "      <th>IDA_MEDIO_ANO_FASE</th>\n",
       "      <th>IPP_MEDIO_ANO_FASE</th>\n",
       "      <th>IPV_MEDIO_ANO_FASE</th>\n",
       "      <th>IAN_MEDIO_ANO_FASE</th>\n",
       "      <th>INDE_MEDIO_ANO_FASE_TURMA</th>\n",
       "      <th>IAA_MEDIO_ANO_FASE_TURMA</th>\n",
       "      <th>IEG_MEDIO_ANO_FASE_TURMA</th>\n",
       "      <th>IPS_MEDIO_ANO_FASE_TURMA</th>\n",
       "      <th>IDA_MEDIO_ANO_FASE_TURMA</th>\n",
       "      <th>IPP_MEDIO_ANO_FASE_TURMA</th>\n",
       "      <th>IPV_MEDIO_ANO_FASE_TURMA</th>\n",
       "      <th>IAN_MEDIO_ANO_FASE_TURMA</th>\n",
       "    </tr>\n",
       "  </thead>\n",
       "  <tbody>\n",
       "    <tr>\n",
       "      <th>0</th>\n",
       "      <td>2020</td>\n",
       "      <td>1</td>\n",
       "      <td>ALUNO-1</td>\n",
       "      <td>2</td>\n",
       "      <td>H</td>\n",
       "      <td>Não</td>\n",
       "      <td>7.88</td>\n",
       "      <td>Ametista</td>\n",
       "      <td>8.5</td>\n",
       "      <td>8.7</td>\n",
       "      <td>7.5</td>\n",
       "      <td>7.0</td>\n",
       "      <td>5.94</td>\n",
       "      <td>7.75</td>\n",
       "      <td>10.0</td>\n",
       "      <td>7.11</td>\n",
       "      <td>8.26</td>\n",
       "      <td>7.92</td>\n",
       "      <td>6.73</td>\n",
       "      <td>5.13</td>\n",
       "      <td>7.37</td>\n",
       "      <td>7.67</td>\n",
       "      <td>7.34</td>\n",
       "      <td>6.75</td>\n",
       "      <td>8.65</td>\n",
       "      <td>7.72</td>\n",
       "      <td>6.15</td>\n",
       "      <td>3.98</td>\n",
       "      <td>6.04</td>\n",
       "      <td>8.10</td>\n",
       "      <td>7.08</td>\n",
       "    </tr>\n",
       "    <tr>\n",
       "      <th>727</th>\n",
       "      <td>2021</td>\n",
       "      <td>1</td>\n",
       "      <td>ALUNO-1</td>\n",
       "      <td>2</td>\n",
       "      <td>G</td>\n",
       "      <td>Não</td>\n",
       "      <td>7.32</td>\n",
       "      <td>Ametista</td>\n",
       "      <td>7.5</td>\n",
       "      <td>6.3</td>\n",
       "      <td>6.9</td>\n",
       "      <td>8.8</td>\n",
       "      <td>7.70</td>\n",
       "      <td>8.10</td>\n",
       "      <td>5.0</td>\n",
       "      <td>6.61</td>\n",
       "      <td>7.29</td>\n",
       "      <td>6.20</td>\n",
       "      <td>7.04</td>\n",
       "      <td>5.11</td>\n",
       "      <td>7.67</td>\n",
       "      <td>7.39</td>\n",
       "      <td>6.70</td>\n",
       "      <td>6.73</td>\n",
       "      <td>6.08</td>\n",
       "      <td>6.30</td>\n",
       "      <td>7.14</td>\n",
       "      <td>5.97</td>\n",
       "      <td>7.54</td>\n",
       "      <td>7.28</td>\n",
       "      <td>7.50</td>\n",
       "    </tr>\n",
       "  </tbody>\n",
       "</table>\n",
       "</div>"
      ],
      "text/plain": [
       "     ANO_PESQUISA  ID_ALUNO     NOME  FASE TURMA PONTO_VIRADA  INDE     PEDRA  \\\n",
       "0            2020         1  ALUNO-1     2     H          Não  7.88  Ametista   \n",
       "727          2021         1  ALUNO-1     2     G          Não  7.32  Ametista   \n",
       "\n",
       "     IAA  IEG  IPS  IDA   IPP   IPV   IAN  INDE_MEDIO_ANO_FASE  \\\n",
       "0    8.5  8.7  7.5  7.0  5.94  7.75  10.0                 7.11   \n",
       "727  7.5  6.3  6.9  8.8  7.70  8.10   5.0                 6.61   \n",
       "\n",
       "     IAA_MEDIO_ANO_FASE  IEG_MEDIO_ANO_FASE  IPS_MEDIO_ANO_FASE  \\\n",
       "0                  8.26                7.92                6.73   \n",
       "727                7.29                6.20                7.04   \n",
       "\n",
       "     IDA_MEDIO_ANO_FASE  IPP_MEDIO_ANO_FASE  IPV_MEDIO_ANO_FASE  \\\n",
       "0                  5.13                7.37                7.67   \n",
       "727                5.11                7.67                7.39   \n",
       "\n",
       "     IAN_MEDIO_ANO_FASE  INDE_MEDIO_ANO_FASE_TURMA  IAA_MEDIO_ANO_FASE_TURMA  \\\n",
       "0                  7.34                       6.75                      8.65   \n",
       "727                6.70                       6.73                      6.08   \n",
       "\n",
       "     IEG_MEDIO_ANO_FASE_TURMA  IPS_MEDIO_ANO_FASE_TURMA  \\\n",
       "0                        7.72                      6.15   \n",
       "727                      6.30                      7.14   \n",
       "\n",
       "     IDA_MEDIO_ANO_FASE_TURMA  IPP_MEDIO_ANO_FASE_TURMA  \\\n",
       "0                        3.98                      6.04   \n",
       "727                      5.97                      7.54   \n",
       "\n",
       "     IPV_MEDIO_ANO_FASE_TURMA  IAN_MEDIO_ANO_FASE_TURMA  \n",
       "0                        8.10                      7.08  \n",
       "727                      7.28                      7.50  "
      ]
     },
     "execution_count": 30,
     "metadata": {},
     "output_type": "execute_result"
    }
   ],
   "source": [
    "df_aluno"
   ]
  },
  {
   "cell_type": "markdown",
   "id": "3c4f728c",
   "metadata": {},
   "source": [
    "## Visualizações iniciais"
   ]
  },
  {
   "cell_type": "markdown",
   "id": "2f045488",
   "metadata": {},
   "source": [
    "Mantendo em mente nossa visão 360, vamos gerar alguns dash iniciais que serão apresentados no streamlit"
   ]
  },
  {
   "cell_type": "code",
   "execution_count": 31,
   "id": "8a4ee3d6ee15c3aa",
   "metadata": {
    "ExecuteTime": {
     "end_time": "2024-08-06T23:58:43.794051Z",
     "start_time": "2024-08-06T23:58:43.786561Z"
    }
   },
   "outputs": [],
   "source": [
    "def split_df_por_ano(df):\n",
    "    dataframes = {}\n",
    "    for index, row in df.iterrows():\n",
    "        ano_pesquisa = row['ANO_PESQUISA']\n",
    "        data = {\n",
    "            'INDICE': ['IAA', 'IEG', 'IPS', 'IDA', 'IPP', 'IPV','IAN', 'IAA', 'IEG', 'IPS', 'IDA', 'IPP', 'IPV','IAN', 'IAA', 'IEG', 'IPS', 'IDA', 'IPP', 'IPV','IAN',],\n",
    "            'TIPO': ['ALUNO', 'ALUNO', 'ALUNO', 'ALUNO', 'ALUNO', 'ALUNO', 'ALUNO', 'MEDIA_FASE', 'MEDIA_FASE', 'MEDIA_FASE', 'MEDIA_FASE', 'MEDIA_FASE', 'MEDIA_FASE', 'MEDIA_FASE', 'MEDIA_TURMA', 'MEDIA_TURMA', 'MEDIA_TURMA', 'MEDIA_TURMA', 'MEDIA_TURMA', 'MEDIA_TURMA', 'MEDIA_TURMA'],\n",
    "            'NOTA': [df['IAA'][index], df['IEG'][index], df['IPS'][index], df['IDA'][index], df['IPP'][index], df['IPV'][index], df['IAN'][index], df['IAA_MEDIO_ANO_FASE'][index], df['IEG_MEDIO_ANO_FASE'][index], df['IPS_MEDIO_ANO_FASE'][index], df['IDA_MEDIO_ANO_FASE'][index], df['IPP_MEDIO_ANO_FASE'][index], df['IPV_MEDIO_ANO_FASE'][index], df['IAN_MEDIO_ANO_FASE'][index], df['IAA_MEDIO_ANO_FASE_TURMA'][index], df['IEG_MEDIO_ANO_FASE_TURMA'][index], df['IPS_MEDIO_ANO_FASE_TURMA'][index], df['IDA_MEDIO_ANO_FASE_TURMA'][index], df['IPP_MEDIO_ANO_FASE_TURMA'][index], df['IPV_MEDIO_ANO_FASE_TURMA'][index], df['IAN_MEDIO_ANO_FASE_TURMA'][index]]\n",
    "        }\n",
    "        novo_df = pd.DataFrame(data)\n",
    "        dataframes[ano_pesquisa] = novo_df\n",
    "    return dataframes"
   ]
  },
  {
   "cell_type": "code",
   "execution_count": 32,
   "id": "2dc3e4eb053baf0a",
   "metadata": {
    "ExecuteTime": {
     "end_time": "2024-08-06T23:58:43.829952Z",
     "start_time": "2024-08-06T23:58:43.824602Z"
    }
   },
   "outputs": [],
   "source": [
    "teste = split_df_por_ano(df_aluno)"
   ]
  },
  {
   "cell_type": "code",
   "execution_count": 33,
   "id": "b6cfb43a0ed7d540",
   "metadata": {
    "ExecuteTime": {
     "end_time": "2024-08-06T23:58:43.919195Z",
     "start_time": "2024-08-06T23:58:43.915193Z"
    }
   },
   "outputs": [],
   "source": [
    "teste1 = teste.get(2020)"
   ]
  },
  {
   "cell_type": "code",
   "execution_count": 34,
   "id": "a2b899ece74c9987",
   "metadata": {
    "ExecuteTime": {
     "end_time": "2024-08-06T23:58:44.025741Z",
     "start_time": "2024-08-06T23:58:43.966292Z"
    }
   },
   "outputs": [
    {
     "data": {
      "application/vnd.plotly.v1+json": {
       "config": {
        "plotlyServerURL": "https://plot.ly"
       },
       "data": [
        {
         "hovertemplate": "TIPO=ALUNO<br>NOTA=%{r}<br>INDICE=%{theta}<extra></extra>",
         "legendgroup": "ALUNO",
         "line": {
          "color": "#f0f921",
          "dash": "solid"
         },
         "marker": {
          "symbol": "circle"
         },
         "mode": "lines",
         "name": "ALUNO",
         "r": [
          8.5,
          8.7,
          7.5,
          7,
          5.94,
          7.75,
          10,
          8.5
         ],
         "showlegend": true,
         "subplot": "polar",
         "theta": [
          "IAA",
          "IEG",
          "IPS",
          "IDA",
          "IPP",
          "IPV",
          "IAN",
          "IAA"
         ],
         "type": "scatterpolar"
        },
        {
         "hovertemplate": "TIPO=MEDIA_FASE<br>NOTA=%{r}<br>INDICE=%{theta}<extra></extra>",
         "legendgroup": "MEDIA_FASE",
         "line": {
          "color": "#fdca26",
          "dash": "solid"
         },
         "marker": {
          "symbol": "circle"
         },
         "mode": "lines",
         "name": "MEDIA_FASE",
         "r": [
          8.26,
          7.92,
          6.73,
          5.13,
          7.37,
          7.67,
          7.34,
          8.26
         ],
         "showlegend": true,
         "subplot": "polar",
         "theta": [
          "IAA",
          "IEG",
          "IPS",
          "IDA",
          "IPP",
          "IPV",
          "IAN",
          "IAA"
         ],
         "type": "scatterpolar"
        },
        {
         "hovertemplate": "TIPO=MEDIA_TURMA<br>NOTA=%{r}<br>INDICE=%{theta}<extra></extra>",
         "legendgroup": "MEDIA_TURMA",
         "line": {
          "color": "#fb9f3a",
          "dash": "solid"
         },
         "marker": {
          "symbol": "circle"
         },
         "mode": "lines",
         "name": "MEDIA_TURMA",
         "r": [
          8.65,
          7.72,
          6.15,
          3.98,
          6.04,
          8.1,
          7.08,
          8.65
         ],
         "showlegend": true,
         "subplot": "polar",
         "theta": [
          "IAA",
          "IEG",
          "IPS",
          "IDA",
          "IPP",
          "IPV",
          "IAN",
          "IAA"
         ],
         "type": "scatterpolar"
        }
       ],
       "layout": {
        "legend": {
         "title": {
          "text": "TIPO"
         },
         "tracegroupgap": 0
        },
        "margin": {
         "t": 60
        },
        "polar": {
         "angularaxis": {
          "direction": "clockwise",
          "rotation": 90
         },
         "domain": {
          "x": [
           0,
           1
          ],
          "y": [
           0,
           1
          ]
         }
        },
        "template": {
         "data": {
          "bar": [
           {
            "error_x": {
             "color": "#f2f5fa"
            },
            "error_y": {
             "color": "#f2f5fa"
            },
            "marker": {
             "line": {
              "color": "rgb(17,17,17)",
              "width": 0.5
             },
             "pattern": {
              "fillmode": "overlay",
              "size": 10,
              "solidity": 0.2
             }
            },
            "type": "bar"
           }
          ],
          "barpolar": [
           {
            "marker": {
             "line": {
              "color": "rgb(17,17,17)",
              "width": 0.5
             },
             "pattern": {
              "fillmode": "overlay",
              "size": 10,
              "solidity": 0.2
             }
            },
            "type": "barpolar"
           }
          ],
          "carpet": [
           {
            "aaxis": {
             "endlinecolor": "#A2B1C6",
             "gridcolor": "#506784",
             "linecolor": "#506784",
             "minorgridcolor": "#506784",
             "startlinecolor": "#A2B1C6"
            },
            "baxis": {
             "endlinecolor": "#A2B1C6",
             "gridcolor": "#506784",
             "linecolor": "#506784",
             "minorgridcolor": "#506784",
             "startlinecolor": "#A2B1C6"
            },
            "type": "carpet"
           }
          ],
          "choropleth": [
           {
            "colorbar": {
             "outlinewidth": 0,
             "ticks": ""
            },
            "type": "choropleth"
           }
          ],
          "contour": [
           {
            "colorbar": {
             "outlinewidth": 0,
             "ticks": ""
            },
            "colorscale": [
             [
              0,
              "#0d0887"
             ],
             [
              0.1111111111111111,
              "#46039f"
             ],
             [
              0.2222222222222222,
              "#7201a8"
             ],
             [
              0.3333333333333333,
              "#9c179e"
             ],
             [
              0.4444444444444444,
              "#bd3786"
             ],
             [
              0.5555555555555556,
              "#d8576b"
             ],
             [
              0.6666666666666666,
              "#ed7953"
             ],
             [
              0.7777777777777778,
              "#fb9f3a"
             ],
             [
              0.8888888888888888,
              "#fdca26"
             ],
             [
              1,
              "#f0f921"
             ]
            ],
            "type": "contour"
           }
          ],
          "contourcarpet": [
           {
            "colorbar": {
             "outlinewidth": 0,
             "ticks": ""
            },
            "type": "contourcarpet"
           }
          ],
          "heatmap": [
           {
            "colorbar": {
             "outlinewidth": 0,
             "ticks": ""
            },
            "colorscale": [
             [
              0,
              "#0d0887"
             ],
             [
              0.1111111111111111,
              "#46039f"
             ],
             [
              0.2222222222222222,
              "#7201a8"
             ],
             [
              0.3333333333333333,
              "#9c179e"
             ],
             [
              0.4444444444444444,
              "#bd3786"
             ],
             [
              0.5555555555555556,
              "#d8576b"
             ],
             [
              0.6666666666666666,
              "#ed7953"
             ],
             [
              0.7777777777777778,
              "#fb9f3a"
             ],
             [
              0.8888888888888888,
              "#fdca26"
             ],
             [
              1,
              "#f0f921"
             ]
            ],
            "type": "heatmap"
           }
          ],
          "heatmapgl": [
           {
            "colorbar": {
             "outlinewidth": 0,
             "ticks": ""
            },
            "colorscale": [
             [
              0,
              "#0d0887"
             ],
             [
              0.1111111111111111,
              "#46039f"
             ],
             [
              0.2222222222222222,
              "#7201a8"
             ],
             [
              0.3333333333333333,
              "#9c179e"
             ],
             [
              0.4444444444444444,
              "#bd3786"
             ],
             [
              0.5555555555555556,
              "#d8576b"
             ],
             [
              0.6666666666666666,
              "#ed7953"
             ],
             [
              0.7777777777777778,
              "#fb9f3a"
             ],
             [
              0.8888888888888888,
              "#fdca26"
             ],
             [
              1,
              "#f0f921"
             ]
            ],
            "type": "heatmapgl"
           }
          ],
          "histogram": [
           {
            "marker": {
             "pattern": {
              "fillmode": "overlay",
              "size": 10,
              "solidity": 0.2
             }
            },
            "type": "histogram"
           }
          ],
          "histogram2d": [
           {
            "colorbar": {
             "outlinewidth": 0,
             "ticks": ""
            },
            "colorscale": [
             [
              0,
              "#0d0887"
             ],
             [
              0.1111111111111111,
              "#46039f"
             ],
             [
              0.2222222222222222,
              "#7201a8"
             ],
             [
              0.3333333333333333,
              "#9c179e"
             ],
             [
              0.4444444444444444,
              "#bd3786"
             ],
             [
              0.5555555555555556,
              "#d8576b"
             ],
             [
              0.6666666666666666,
              "#ed7953"
             ],
             [
              0.7777777777777778,
              "#fb9f3a"
             ],
             [
              0.8888888888888888,
              "#fdca26"
             ],
             [
              1,
              "#f0f921"
             ]
            ],
            "type": "histogram2d"
           }
          ],
          "histogram2dcontour": [
           {
            "colorbar": {
             "outlinewidth": 0,
             "ticks": ""
            },
            "colorscale": [
             [
              0,
              "#0d0887"
             ],
             [
              0.1111111111111111,
              "#46039f"
             ],
             [
              0.2222222222222222,
              "#7201a8"
             ],
             [
              0.3333333333333333,
              "#9c179e"
             ],
             [
              0.4444444444444444,
              "#bd3786"
             ],
             [
              0.5555555555555556,
              "#d8576b"
             ],
             [
              0.6666666666666666,
              "#ed7953"
             ],
             [
              0.7777777777777778,
              "#fb9f3a"
             ],
             [
              0.8888888888888888,
              "#fdca26"
             ],
             [
              1,
              "#f0f921"
             ]
            ],
            "type": "histogram2dcontour"
           }
          ],
          "mesh3d": [
           {
            "colorbar": {
             "outlinewidth": 0,
             "ticks": ""
            },
            "type": "mesh3d"
           }
          ],
          "parcoords": [
           {
            "line": {
             "colorbar": {
              "outlinewidth": 0,
              "ticks": ""
             }
            },
            "type": "parcoords"
           }
          ],
          "pie": [
           {
            "automargin": true,
            "type": "pie"
           }
          ],
          "scatter": [
           {
            "marker": {
             "line": {
              "color": "#283442"
             }
            },
            "type": "scatter"
           }
          ],
          "scatter3d": [
           {
            "line": {
             "colorbar": {
              "outlinewidth": 0,
              "ticks": ""
             }
            },
            "marker": {
             "colorbar": {
              "outlinewidth": 0,
              "ticks": ""
             }
            },
            "type": "scatter3d"
           }
          ],
          "scattercarpet": [
           {
            "marker": {
             "colorbar": {
              "outlinewidth": 0,
              "ticks": ""
             }
            },
            "type": "scattercarpet"
           }
          ],
          "scattergeo": [
           {
            "marker": {
             "colorbar": {
              "outlinewidth": 0,
              "ticks": ""
             }
            },
            "type": "scattergeo"
           }
          ],
          "scattergl": [
           {
            "marker": {
             "line": {
              "color": "#283442"
             }
            },
            "type": "scattergl"
           }
          ],
          "scattermapbox": [
           {
            "marker": {
             "colorbar": {
              "outlinewidth": 0,
              "ticks": ""
             }
            },
            "type": "scattermapbox"
           }
          ],
          "scatterpolar": [
           {
            "marker": {
             "colorbar": {
              "outlinewidth": 0,
              "ticks": ""
             }
            },
            "type": "scatterpolar"
           }
          ],
          "scatterpolargl": [
           {
            "marker": {
             "colorbar": {
              "outlinewidth": 0,
              "ticks": ""
             }
            },
            "type": "scatterpolargl"
           }
          ],
          "scatterternary": [
           {
            "marker": {
             "colorbar": {
              "outlinewidth": 0,
              "ticks": ""
             }
            },
            "type": "scatterternary"
           }
          ],
          "surface": [
           {
            "colorbar": {
             "outlinewidth": 0,
             "ticks": ""
            },
            "colorscale": [
             [
              0,
              "#0d0887"
             ],
             [
              0.1111111111111111,
              "#46039f"
             ],
             [
              0.2222222222222222,
              "#7201a8"
             ],
             [
              0.3333333333333333,
              "#9c179e"
             ],
             [
              0.4444444444444444,
              "#bd3786"
             ],
             [
              0.5555555555555556,
              "#d8576b"
             ],
             [
              0.6666666666666666,
              "#ed7953"
             ],
             [
              0.7777777777777778,
              "#fb9f3a"
             ],
             [
              0.8888888888888888,
              "#fdca26"
             ],
             [
              1,
              "#f0f921"
             ]
            ],
            "type": "surface"
           }
          ],
          "table": [
           {
            "cells": {
             "fill": {
              "color": "#506784"
             },
             "line": {
              "color": "rgb(17,17,17)"
             }
            },
            "header": {
             "fill": {
              "color": "#2a3f5f"
             },
             "line": {
              "color": "rgb(17,17,17)"
             }
            },
            "type": "table"
           }
          ]
         },
         "layout": {
          "annotationdefaults": {
           "arrowcolor": "#f2f5fa",
           "arrowhead": 0,
           "arrowwidth": 1
          },
          "autotypenumbers": "strict",
          "coloraxis": {
           "colorbar": {
            "outlinewidth": 0,
            "ticks": ""
           }
          },
          "colorscale": {
           "diverging": [
            [
             0,
             "#8e0152"
            ],
            [
             0.1,
             "#c51b7d"
            ],
            [
             0.2,
             "#de77ae"
            ],
            [
             0.3,
             "#f1b6da"
            ],
            [
             0.4,
             "#fde0ef"
            ],
            [
             0.5,
             "#f7f7f7"
            ],
            [
             0.6,
             "#e6f5d0"
            ],
            [
             0.7,
             "#b8e186"
            ],
            [
             0.8,
             "#7fbc41"
            ],
            [
             0.9,
             "#4d9221"
            ],
            [
             1,
             "#276419"
            ]
           ],
           "sequential": [
            [
             0,
             "#0d0887"
            ],
            [
             0.1111111111111111,
             "#46039f"
            ],
            [
             0.2222222222222222,
             "#7201a8"
            ],
            [
             0.3333333333333333,
             "#9c179e"
            ],
            [
             0.4444444444444444,
             "#bd3786"
            ],
            [
             0.5555555555555556,
             "#d8576b"
            ],
            [
             0.6666666666666666,
             "#ed7953"
            ],
            [
             0.7777777777777778,
             "#fb9f3a"
            ],
            [
             0.8888888888888888,
             "#fdca26"
            ],
            [
             1,
             "#f0f921"
            ]
           ],
           "sequentialminus": [
            [
             0,
             "#0d0887"
            ],
            [
             0.1111111111111111,
             "#46039f"
            ],
            [
             0.2222222222222222,
             "#7201a8"
            ],
            [
             0.3333333333333333,
             "#9c179e"
            ],
            [
             0.4444444444444444,
             "#bd3786"
            ],
            [
             0.5555555555555556,
             "#d8576b"
            ],
            [
             0.6666666666666666,
             "#ed7953"
            ],
            [
             0.7777777777777778,
             "#fb9f3a"
            ],
            [
             0.8888888888888888,
             "#fdca26"
            ],
            [
             1,
             "#f0f921"
            ]
           ]
          },
          "colorway": [
           "#636efa",
           "#EF553B",
           "#00cc96",
           "#ab63fa",
           "#FFA15A",
           "#19d3f3",
           "#FF6692",
           "#B6E880",
           "#FF97FF",
           "#FECB52"
          ],
          "font": {
           "color": "#f2f5fa"
          },
          "geo": {
           "bgcolor": "rgb(17,17,17)",
           "lakecolor": "rgb(17,17,17)",
           "landcolor": "rgb(17,17,17)",
           "showlakes": true,
           "showland": true,
           "subunitcolor": "#506784"
          },
          "hoverlabel": {
           "align": "left"
          },
          "hovermode": "closest",
          "mapbox": {
           "style": "dark"
          },
          "paper_bgcolor": "rgb(17,17,17)",
          "plot_bgcolor": "rgb(17,17,17)",
          "polar": {
           "angularaxis": {
            "gridcolor": "#506784",
            "linecolor": "#506784",
            "ticks": ""
           },
           "bgcolor": "rgb(17,17,17)",
           "radialaxis": {
            "gridcolor": "#506784",
            "linecolor": "#506784",
            "ticks": ""
           }
          },
          "scene": {
           "xaxis": {
            "backgroundcolor": "rgb(17,17,17)",
            "gridcolor": "#506784",
            "gridwidth": 2,
            "linecolor": "#506784",
            "showbackground": true,
            "ticks": "",
            "zerolinecolor": "#C8D4E3"
           },
           "yaxis": {
            "backgroundcolor": "rgb(17,17,17)",
            "gridcolor": "#506784",
            "gridwidth": 2,
            "linecolor": "#506784",
            "showbackground": true,
            "ticks": "",
            "zerolinecolor": "#C8D4E3"
           },
           "zaxis": {
            "backgroundcolor": "rgb(17,17,17)",
            "gridcolor": "#506784",
            "gridwidth": 2,
            "linecolor": "#506784",
            "showbackground": true,
            "ticks": "",
            "zerolinecolor": "#C8D4E3"
           }
          },
          "shapedefaults": {
           "line": {
            "color": "#f2f5fa"
           }
          },
          "sliderdefaults": {
           "bgcolor": "#C8D4E3",
           "bordercolor": "rgb(17,17,17)",
           "borderwidth": 1,
           "tickwidth": 0
          },
          "ternary": {
           "aaxis": {
            "gridcolor": "#506784",
            "linecolor": "#506784",
            "ticks": ""
           },
           "baxis": {
            "gridcolor": "#506784",
            "linecolor": "#506784",
            "ticks": ""
           },
           "bgcolor": "rgb(17,17,17)",
           "caxis": {
            "gridcolor": "#506784",
            "linecolor": "#506784",
            "ticks": ""
           }
          },
          "title": {
           "x": 0.05
          },
          "updatemenudefaults": {
           "bgcolor": "#506784",
           "borderwidth": 0
          },
          "xaxis": {
           "automargin": true,
           "gridcolor": "#283442",
           "linecolor": "#506784",
           "ticks": "",
           "title": {
            "standoff": 15
           },
           "zerolinecolor": "#283442",
           "zerolinewidth": 2
          },
          "yaxis": {
           "automargin": true,
           "gridcolor": "#283442",
           "linecolor": "#506784",
           "ticks": "",
           "title": {
            "standoff": 15
           },
           "zerolinecolor": "#283442",
           "zerolinewidth": 2
          }
         }
        }
       }
      }
     },
     "metadata": {},
     "output_type": "display_data"
    }
   ],
   "source": [
    "fig = px.line_polar(teste1, r=\"NOTA\", theta=\"INDICE\", color=\"TIPO\",\n",
    "                    line_close=True, color_discrete_sequence=px.colors.sequential.Plasma_r,\n",
    "                    template=\"plotly_dark\")\n",
    "fig.show()"
   ]
  },
  {
   "cell_type": "code",
   "execution_count": 35,
   "id": "f1a20d9325c553a6",
   "metadata": {
    "ExecuteTime": {
     "end_time": "2024-08-06T23:58:44.298502Z",
     "start_time": "2024-08-06T23:58:44.292659Z"
    }
   },
   "outputs": [],
   "source": [
    "def gera_yoy_df(df):\n",
    "    data = {\n",
    "        'INDICE': [],\n",
    "        'ANO_PESQUISA': [],\n",
    "        'NOTA': []\n",
    "    }\n",
    "    for index, row in df.iterrows():\n",
    "        data['INDICE'] += ['IAA', 'IEG', 'IPS', 'IDA', 'IPP', 'IPV','IAN']\n",
    "        data['ANO_PESQUISA'] += [df['ANO_PESQUISA'][index], df['ANO_PESQUISA'][index], df['ANO_PESQUISA'][index], df['ANO_PESQUISA'][index], df['ANO_PESQUISA'][index], df['ANO_PESQUISA'][index], df['ANO_PESQUISA'][index]]\n",
    "        data['NOTA'] += [df['IAA'][index],df['IEG'][index],df['IPS'][index],df['IDA'][index],df['IPP'][index],df['IPV'][index],df['IAN'][index]]\n",
    "        \n",
    "    print(data)\n",
    "    novo_df = pd.DataFrame(data)\n",
    "    return novo_df"
   ]
  },
  {
   "cell_type": "code",
   "execution_count": 36,
   "id": "d51d47b10e56d33a",
   "metadata": {
    "ExecuteTime": {
     "end_time": "2024-08-06T23:58:44.326187Z",
     "start_time": "2024-08-06T23:58:44.320331Z"
    }
   },
   "outputs": [
    {
     "name": "stdout",
     "output_type": "stream",
     "text": [
      "{'INDICE': ['IAA', 'IEG', 'IPS', 'IDA', 'IPP', 'IPV', 'IAN', 'IAA', 'IEG', 'IPS', 'IDA', 'IPP', 'IPV', 'IAN'], 'ANO_PESQUISA': [2020, 2020, 2020, 2020, 2020, 2020, 2020, 2021, 2021, 2021, 2021, 2021, 2021, 2021], 'NOTA': [8.5, 8.7, 7.5, 7.0, 5.94, 7.75, 10.0, 7.5, 6.3, 6.9, 8.8, 7.7, 8.1, 5.0]}\n"
     ]
    }
   ],
   "source": [
    "teste2 = gera_yoy_df(df_aluno)"
   ]
  },
  {
   "cell_type": "code",
   "execution_count": 37,
   "id": "a32a94ca11209d74",
   "metadata": {
    "ExecuteTime": {
     "end_time": "2024-08-06T23:58:53.971182Z",
     "start_time": "2024-08-06T23:58:53.923375Z"
    }
   },
   "outputs": [
    {
     "data": {
      "application/vnd.plotly.v1+json": {
       "config": {
        "plotlyServerURL": "https://plot.ly"
       },
       "data": [
        {
         "hovertemplate": "ANO_PESQUISA=2020<br>NOTA=%{r}<br>INDICE=%{theta}<extra></extra>",
         "legendgroup": "2020",
         "line": {
          "color": "#f0f921",
          "dash": "solid"
         },
         "marker": {
          "symbol": "circle"
         },
         "mode": "lines",
         "name": "2020",
         "r": [
          8.5,
          8.7,
          7.5,
          7,
          5.94,
          7.75,
          10,
          8.5
         ],
         "showlegend": true,
         "subplot": "polar",
         "theta": [
          "IAA",
          "IEG",
          "IPS",
          "IDA",
          "IPP",
          "IPV",
          "IAN",
          "IAA"
         ],
         "type": "scatterpolar"
        },
        {
         "hovertemplate": "ANO_PESQUISA=2021<br>NOTA=%{r}<br>INDICE=%{theta}<extra></extra>",
         "legendgroup": "2021",
         "line": {
          "color": "#fdca26",
          "dash": "solid"
         },
         "marker": {
          "symbol": "circle"
         },
         "mode": "lines",
         "name": "2021",
         "r": [
          7.5,
          6.3,
          6.9,
          8.8,
          7.7,
          8.1,
          5,
          7.5
         ],
         "showlegend": true,
         "subplot": "polar",
         "theta": [
          "IAA",
          "IEG",
          "IPS",
          "IDA",
          "IPP",
          "IPV",
          "IAN",
          "IAA"
         ],
         "type": "scatterpolar"
        }
       ],
       "layout": {
        "legend": {
         "title": {
          "text": "ANO_PESQUISA"
         },
         "tracegroupgap": 0
        },
        "margin": {
         "t": 60
        },
        "polar": {
         "angularaxis": {
          "direction": "clockwise",
          "rotation": 90
         },
         "domain": {
          "x": [
           0,
           1
          ],
          "y": [
           0,
           1
          ]
         }
        },
        "template": {
         "data": {
          "bar": [
           {
            "error_x": {
             "color": "#f2f5fa"
            },
            "error_y": {
             "color": "#f2f5fa"
            },
            "marker": {
             "line": {
              "color": "rgb(17,17,17)",
              "width": 0.5
             },
             "pattern": {
              "fillmode": "overlay",
              "size": 10,
              "solidity": 0.2
             }
            },
            "type": "bar"
           }
          ],
          "barpolar": [
           {
            "marker": {
             "line": {
              "color": "rgb(17,17,17)",
              "width": 0.5
             },
             "pattern": {
              "fillmode": "overlay",
              "size": 10,
              "solidity": 0.2
             }
            },
            "type": "barpolar"
           }
          ],
          "carpet": [
           {
            "aaxis": {
             "endlinecolor": "#A2B1C6",
             "gridcolor": "#506784",
             "linecolor": "#506784",
             "minorgridcolor": "#506784",
             "startlinecolor": "#A2B1C6"
            },
            "baxis": {
             "endlinecolor": "#A2B1C6",
             "gridcolor": "#506784",
             "linecolor": "#506784",
             "minorgridcolor": "#506784",
             "startlinecolor": "#A2B1C6"
            },
            "type": "carpet"
           }
          ],
          "choropleth": [
           {
            "colorbar": {
             "outlinewidth": 0,
             "ticks": ""
            },
            "type": "choropleth"
           }
          ],
          "contour": [
           {
            "colorbar": {
             "outlinewidth": 0,
             "ticks": ""
            },
            "colorscale": [
             [
              0,
              "#0d0887"
             ],
             [
              0.1111111111111111,
              "#46039f"
             ],
             [
              0.2222222222222222,
              "#7201a8"
             ],
             [
              0.3333333333333333,
              "#9c179e"
             ],
             [
              0.4444444444444444,
              "#bd3786"
             ],
             [
              0.5555555555555556,
              "#d8576b"
             ],
             [
              0.6666666666666666,
              "#ed7953"
             ],
             [
              0.7777777777777778,
              "#fb9f3a"
             ],
             [
              0.8888888888888888,
              "#fdca26"
             ],
             [
              1,
              "#f0f921"
             ]
            ],
            "type": "contour"
           }
          ],
          "contourcarpet": [
           {
            "colorbar": {
             "outlinewidth": 0,
             "ticks": ""
            },
            "type": "contourcarpet"
           }
          ],
          "heatmap": [
           {
            "colorbar": {
             "outlinewidth": 0,
             "ticks": ""
            },
            "colorscale": [
             [
              0,
              "#0d0887"
             ],
             [
              0.1111111111111111,
              "#46039f"
             ],
             [
              0.2222222222222222,
              "#7201a8"
             ],
             [
              0.3333333333333333,
              "#9c179e"
             ],
             [
              0.4444444444444444,
              "#bd3786"
             ],
             [
              0.5555555555555556,
              "#d8576b"
             ],
             [
              0.6666666666666666,
              "#ed7953"
             ],
             [
              0.7777777777777778,
              "#fb9f3a"
             ],
             [
              0.8888888888888888,
              "#fdca26"
             ],
             [
              1,
              "#f0f921"
             ]
            ],
            "type": "heatmap"
           }
          ],
          "heatmapgl": [
           {
            "colorbar": {
             "outlinewidth": 0,
             "ticks": ""
            },
            "colorscale": [
             [
              0,
              "#0d0887"
             ],
             [
              0.1111111111111111,
              "#46039f"
             ],
             [
              0.2222222222222222,
              "#7201a8"
             ],
             [
              0.3333333333333333,
              "#9c179e"
             ],
             [
              0.4444444444444444,
              "#bd3786"
             ],
             [
              0.5555555555555556,
              "#d8576b"
             ],
             [
              0.6666666666666666,
              "#ed7953"
             ],
             [
              0.7777777777777778,
              "#fb9f3a"
             ],
             [
              0.8888888888888888,
              "#fdca26"
             ],
             [
              1,
              "#f0f921"
             ]
            ],
            "type": "heatmapgl"
           }
          ],
          "histogram": [
           {
            "marker": {
             "pattern": {
              "fillmode": "overlay",
              "size": 10,
              "solidity": 0.2
             }
            },
            "type": "histogram"
           }
          ],
          "histogram2d": [
           {
            "colorbar": {
             "outlinewidth": 0,
             "ticks": ""
            },
            "colorscale": [
             [
              0,
              "#0d0887"
             ],
             [
              0.1111111111111111,
              "#46039f"
             ],
             [
              0.2222222222222222,
              "#7201a8"
             ],
             [
              0.3333333333333333,
              "#9c179e"
             ],
             [
              0.4444444444444444,
              "#bd3786"
             ],
             [
              0.5555555555555556,
              "#d8576b"
             ],
             [
              0.6666666666666666,
              "#ed7953"
             ],
             [
              0.7777777777777778,
              "#fb9f3a"
             ],
             [
              0.8888888888888888,
              "#fdca26"
             ],
             [
              1,
              "#f0f921"
             ]
            ],
            "type": "histogram2d"
           }
          ],
          "histogram2dcontour": [
           {
            "colorbar": {
             "outlinewidth": 0,
             "ticks": ""
            },
            "colorscale": [
             [
              0,
              "#0d0887"
             ],
             [
              0.1111111111111111,
              "#46039f"
             ],
             [
              0.2222222222222222,
              "#7201a8"
             ],
             [
              0.3333333333333333,
              "#9c179e"
             ],
             [
              0.4444444444444444,
              "#bd3786"
             ],
             [
              0.5555555555555556,
              "#d8576b"
             ],
             [
              0.6666666666666666,
              "#ed7953"
             ],
             [
              0.7777777777777778,
              "#fb9f3a"
             ],
             [
              0.8888888888888888,
              "#fdca26"
             ],
             [
              1,
              "#f0f921"
             ]
            ],
            "type": "histogram2dcontour"
           }
          ],
          "mesh3d": [
           {
            "colorbar": {
             "outlinewidth": 0,
             "ticks": ""
            },
            "type": "mesh3d"
           }
          ],
          "parcoords": [
           {
            "line": {
             "colorbar": {
              "outlinewidth": 0,
              "ticks": ""
             }
            },
            "type": "parcoords"
           }
          ],
          "pie": [
           {
            "automargin": true,
            "type": "pie"
           }
          ],
          "scatter": [
           {
            "marker": {
             "line": {
              "color": "#283442"
             }
            },
            "type": "scatter"
           }
          ],
          "scatter3d": [
           {
            "line": {
             "colorbar": {
              "outlinewidth": 0,
              "ticks": ""
             }
            },
            "marker": {
             "colorbar": {
              "outlinewidth": 0,
              "ticks": ""
             }
            },
            "type": "scatter3d"
           }
          ],
          "scattercarpet": [
           {
            "marker": {
             "colorbar": {
              "outlinewidth": 0,
              "ticks": ""
             }
            },
            "type": "scattercarpet"
           }
          ],
          "scattergeo": [
           {
            "marker": {
             "colorbar": {
              "outlinewidth": 0,
              "ticks": ""
             }
            },
            "type": "scattergeo"
           }
          ],
          "scattergl": [
           {
            "marker": {
             "line": {
              "color": "#283442"
             }
            },
            "type": "scattergl"
           }
          ],
          "scattermapbox": [
           {
            "marker": {
             "colorbar": {
              "outlinewidth": 0,
              "ticks": ""
             }
            },
            "type": "scattermapbox"
           }
          ],
          "scatterpolar": [
           {
            "marker": {
             "colorbar": {
              "outlinewidth": 0,
              "ticks": ""
             }
            },
            "type": "scatterpolar"
           }
          ],
          "scatterpolargl": [
           {
            "marker": {
             "colorbar": {
              "outlinewidth": 0,
              "ticks": ""
             }
            },
            "type": "scatterpolargl"
           }
          ],
          "scatterternary": [
           {
            "marker": {
             "colorbar": {
              "outlinewidth": 0,
              "ticks": ""
             }
            },
            "type": "scatterternary"
           }
          ],
          "surface": [
           {
            "colorbar": {
             "outlinewidth": 0,
             "ticks": ""
            },
            "colorscale": [
             [
              0,
              "#0d0887"
             ],
             [
              0.1111111111111111,
              "#46039f"
             ],
             [
              0.2222222222222222,
              "#7201a8"
             ],
             [
              0.3333333333333333,
              "#9c179e"
             ],
             [
              0.4444444444444444,
              "#bd3786"
             ],
             [
              0.5555555555555556,
              "#d8576b"
             ],
             [
              0.6666666666666666,
              "#ed7953"
             ],
             [
              0.7777777777777778,
              "#fb9f3a"
             ],
             [
              0.8888888888888888,
              "#fdca26"
             ],
             [
              1,
              "#f0f921"
             ]
            ],
            "type": "surface"
           }
          ],
          "table": [
           {
            "cells": {
             "fill": {
              "color": "#506784"
             },
             "line": {
              "color": "rgb(17,17,17)"
             }
            },
            "header": {
             "fill": {
              "color": "#2a3f5f"
             },
             "line": {
              "color": "rgb(17,17,17)"
             }
            },
            "type": "table"
           }
          ]
         },
         "layout": {
          "annotationdefaults": {
           "arrowcolor": "#f2f5fa",
           "arrowhead": 0,
           "arrowwidth": 1
          },
          "autotypenumbers": "strict",
          "coloraxis": {
           "colorbar": {
            "outlinewidth": 0,
            "ticks": ""
           }
          },
          "colorscale": {
           "diverging": [
            [
             0,
             "#8e0152"
            ],
            [
             0.1,
             "#c51b7d"
            ],
            [
             0.2,
             "#de77ae"
            ],
            [
             0.3,
             "#f1b6da"
            ],
            [
             0.4,
             "#fde0ef"
            ],
            [
             0.5,
             "#f7f7f7"
            ],
            [
             0.6,
             "#e6f5d0"
            ],
            [
             0.7,
             "#b8e186"
            ],
            [
             0.8,
             "#7fbc41"
            ],
            [
             0.9,
             "#4d9221"
            ],
            [
             1,
             "#276419"
            ]
           ],
           "sequential": [
            [
             0,
             "#0d0887"
            ],
            [
             0.1111111111111111,
             "#46039f"
            ],
            [
             0.2222222222222222,
             "#7201a8"
            ],
            [
             0.3333333333333333,
             "#9c179e"
            ],
            [
             0.4444444444444444,
             "#bd3786"
            ],
            [
             0.5555555555555556,
             "#d8576b"
            ],
            [
             0.6666666666666666,
             "#ed7953"
            ],
            [
             0.7777777777777778,
             "#fb9f3a"
            ],
            [
             0.8888888888888888,
             "#fdca26"
            ],
            [
             1,
             "#f0f921"
            ]
           ],
           "sequentialminus": [
            [
             0,
             "#0d0887"
            ],
            [
             0.1111111111111111,
             "#46039f"
            ],
            [
             0.2222222222222222,
             "#7201a8"
            ],
            [
             0.3333333333333333,
             "#9c179e"
            ],
            [
             0.4444444444444444,
             "#bd3786"
            ],
            [
             0.5555555555555556,
             "#d8576b"
            ],
            [
             0.6666666666666666,
             "#ed7953"
            ],
            [
             0.7777777777777778,
             "#fb9f3a"
            ],
            [
             0.8888888888888888,
             "#fdca26"
            ],
            [
             1,
             "#f0f921"
            ]
           ]
          },
          "colorway": [
           "#636efa",
           "#EF553B",
           "#00cc96",
           "#ab63fa",
           "#FFA15A",
           "#19d3f3",
           "#FF6692",
           "#B6E880",
           "#FF97FF",
           "#FECB52"
          ],
          "font": {
           "color": "#f2f5fa"
          },
          "geo": {
           "bgcolor": "rgb(17,17,17)",
           "lakecolor": "rgb(17,17,17)",
           "landcolor": "rgb(17,17,17)",
           "showlakes": true,
           "showland": true,
           "subunitcolor": "#506784"
          },
          "hoverlabel": {
           "align": "left"
          },
          "hovermode": "closest",
          "mapbox": {
           "style": "dark"
          },
          "paper_bgcolor": "rgb(17,17,17)",
          "plot_bgcolor": "rgb(17,17,17)",
          "polar": {
           "angularaxis": {
            "gridcolor": "#506784",
            "linecolor": "#506784",
            "ticks": ""
           },
           "bgcolor": "rgb(17,17,17)",
           "radialaxis": {
            "gridcolor": "#506784",
            "linecolor": "#506784",
            "ticks": ""
           }
          },
          "scene": {
           "xaxis": {
            "backgroundcolor": "rgb(17,17,17)",
            "gridcolor": "#506784",
            "gridwidth": 2,
            "linecolor": "#506784",
            "showbackground": true,
            "ticks": "",
            "zerolinecolor": "#C8D4E3"
           },
           "yaxis": {
            "backgroundcolor": "rgb(17,17,17)",
            "gridcolor": "#506784",
            "gridwidth": 2,
            "linecolor": "#506784",
            "showbackground": true,
            "ticks": "",
            "zerolinecolor": "#C8D4E3"
           },
           "zaxis": {
            "backgroundcolor": "rgb(17,17,17)",
            "gridcolor": "#506784",
            "gridwidth": 2,
            "linecolor": "#506784",
            "showbackground": true,
            "ticks": "",
            "zerolinecolor": "#C8D4E3"
           }
          },
          "shapedefaults": {
           "line": {
            "color": "#f2f5fa"
           }
          },
          "sliderdefaults": {
           "bgcolor": "#C8D4E3",
           "bordercolor": "rgb(17,17,17)",
           "borderwidth": 1,
           "tickwidth": 0
          },
          "ternary": {
           "aaxis": {
            "gridcolor": "#506784",
            "linecolor": "#506784",
            "ticks": ""
           },
           "baxis": {
            "gridcolor": "#506784",
            "linecolor": "#506784",
            "ticks": ""
           },
           "bgcolor": "rgb(17,17,17)",
           "caxis": {
            "gridcolor": "#506784",
            "linecolor": "#506784",
            "ticks": ""
           }
          },
          "title": {
           "x": 0.05
          },
          "updatemenudefaults": {
           "bgcolor": "#506784",
           "borderwidth": 0
          },
          "xaxis": {
           "automargin": true,
           "gridcolor": "#283442",
           "linecolor": "#506784",
           "ticks": "",
           "title": {
            "standoff": 15
           },
           "zerolinecolor": "#283442",
           "zerolinewidth": 2
          },
          "yaxis": {
           "automargin": true,
           "gridcolor": "#283442",
           "linecolor": "#506784",
           "ticks": "",
           "title": {
            "standoff": 15
           },
           "zerolinecolor": "#283442",
           "zerolinewidth": 2
          }
         }
        }
       }
      }
     },
     "metadata": {},
     "output_type": "display_data"
    }
   ],
   "source": [
    "fig = px.line_polar(teste2, r=\"NOTA\", theta=\"INDICE\", color=\"ANO_PESQUISA\",\n",
    "                    line_close=True, color_discrete_sequence=px.colors.sequential.Plasma_r,\n",
    "                    template=\"plotly_dark\")\n",
    "fig.show()"
   ]
  },
  {
   "cell_type": "code",
   "execution_count": 38,
   "id": "dbb0e87c972f8a6b",
   "metadata": {
    "ExecuteTime": {
     "end_time": "2024-08-04T20:54:32.421597Z",
     "start_time": "2024-08-04T20:54:32.413488Z"
    }
   },
   "outputs": [
    {
     "data": {
      "text/plain": [
       "0      7.88\n",
       "727    7.32\n",
       "Name: INDE, dtype: float64"
      ]
     },
     "execution_count": 38,
     "metadata": {},
     "output_type": "execute_result"
    }
   ],
   "source": [
    "df_aluno['INDE']"
   ]
  },
  {
   "cell_type": "code",
   "execution_count": 39,
   "id": "25ade872a84dd8c5",
   "metadata": {
    "ExecuteTime": {
     "end_time": "2024-08-06T23:59:23.104696Z",
     "start_time": "2024-08-06T23:59:23.044059Z"
    }
   },
   "outputs": [
    {
     "data": {
      "application/vnd.plotly.v1+json": {
       "config": {
        "plotlyServerURL": "https://plot.ly"
       },
       "data": [
        {
         "fill": "toself",
         "hovertemplate": "r=%{r}<br>theta=%{theta}<extra></extra>",
         "legendgroup": "",
         "line": {
          "color": "#636efa",
          "dash": "solid"
         },
         "marker": {
          "symbol": "circle"
         },
         "mode": "lines",
         "name": "",
         "r": [
          8.5,
          8.7,
          7.5,
          7,
          5.94,
          7.75,
          10,
          8.5
         ],
         "showlegend": false,
         "subplot": "polar",
         "theta": [
          "IAA",
          "IEG",
          "IPS",
          "IDA",
          "IPP",
          "IPV",
          "IAN",
          "IAA"
         ],
         "type": "scatterpolar"
        }
       ],
       "layout": {
        "legend": {
         "tracegroupgap": 0
        },
        "margin": {
         "t": 60
        },
        "polar": {
         "angularaxis": {
          "direction": "clockwise",
          "rotation": 90
         },
         "domain": {
          "x": [
           0,
           1
          ],
          "y": [
           0,
           1
          ]
         },
         "radialaxis": {
          "range": [
           0,
           10
          ]
         }
        },
        "template": {
         "data": {
          "bar": [
           {
            "error_x": {
             "color": "#2a3f5f"
            },
            "error_y": {
             "color": "#2a3f5f"
            },
            "marker": {
             "line": {
              "color": "#E5ECF6",
              "width": 0.5
             },
             "pattern": {
              "fillmode": "overlay",
              "size": 10,
              "solidity": 0.2
             }
            },
            "type": "bar"
           }
          ],
          "barpolar": [
           {
            "marker": {
             "line": {
              "color": "#E5ECF6",
              "width": 0.5
             },
             "pattern": {
              "fillmode": "overlay",
              "size": 10,
              "solidity": 0.2
             }
            },
            "type": "barpolar"
           }
          ],
          "carpet": [
           {
            "aaxis": {
             "endlinecolor": "#2a3f5f",
             "gridcolor": "white",
             "linecolor": "white",
             "minorgridcolor": "white",
             "startlinecolor": "#2a3f5f"
            },
            "baxis": {
             "endlinecolor": "#2a3f5f",
             "gridcolor": "white",
             "linecolor": "white",
             "minorgridcolor": "white",
             "startlinecolor": "#2a3f5f"
            },
            "type": "carpet"
           }
          ],
          "choropleth": [
           {
            "colorbar": {
             "outlinewidth": 0,
             "ticks": ""
            },
            "type": "choropleth"
           }
          ],
          "contour": [
           {
            "colorbar": {
             "outlinewidth": 0,
             "ticks": ""
            },
            "colorscale": [
             [
              0,
              "#0d0887"
             ],
             [
              0.1111111111111111,
              "#46039f"
             ],
             [
              0.2222222222222222,
              "#7201a8"
             ],
             [
              0.3333333333333333,
              "#9c179e"
             ],
             [
              0.4444444444444444,
              "#bd3786"
             ],
             [
              0.5555555555555556,
              "#d8576b"
             ],
             [
              0.6666666666666666,
              "#ed7953"
             ],
             [
              0.7777777777777778,
              "#fb9f3a"
             ],
             [
              0.8888888888888888,
              "#fdca26"
             ],
             [
              1,
              "#f0f921"
             ]
            ],
            "type": "contour"
           }
          ],
          "contourcarpet": [
           {
            "colorbar": {
             "outlinewidth": 0,
             "ticks": ""
            },
            "type": "contourcarpet"
           }
          ],
          "heatmap": [
           {
            "colorbar": {
             "outlinewidth": 0,
             "ticks": ""
            },
            "colorscale": [
             [
              0,
              "#0d0887"
             ],
             [
              0.1111111111111111,
              "#46039f"
             ],
             [
              0.2222222222222222,
              "#7201a8"
             ],
             [
              0.3333333333333333,
              "#9c179e"
             ],
             [
              0.4444444444444444,
              "#bd3786"
             ],
             [
              0.5555555555555556,
              "#d8576b"
             ],
             [
              0.6666666666666666,
              "#ed7953"
             ],
             [
              0.7777777777777778,
              "#fb9f3a"
             ],
             [
              0.8888888888888888,
              "#fdca26"
             ],
             [
              1,
              "#f0f921"
             ]
            ],
            "type": "heatmap"
           }
          ],
          "heatmapgl": [
           {
            "colorbar": {
             "outlinewidth": 0,
             "ticks": ""
            },
            "colorscale": [
             [
              0,
              "#0d0887"
             ],
             [
              0.1111111111111111,
              "#46039f"
             ],
             [
              0.2222222222222222,
              "#7201a8"
             ],
             [
              0.3333333333333333,
              "#9c179e"
             ],
             [
              0.4444444444444444,
              "#bd3786"
             ],
             [
              0.5555555555555556,
              "#d8576b"
             ],
             [
              0.6666666666666666,
              "#ed7953"
             ],
             [
              0.7777777777777778,
              "#fb9f3a"
             ],
             [
              0.8888888888888888,
              "#fdca26"
             ],
             [
              1,
              "#f0f921"
             ]
            ],
            "type": "heatmapgl"
           }
          ],
          "histogram": [
           {
            "marker": {
             "pattern": {
              "fillmode": "overlay",
              "size": 10,
              "solidity": 0.2
             }
            },
            "type": "histogram"
           }
          ],
          "histogram2d": [
           {
            "colorbar": {
             "outlinewidth": 0,
             "ticks": ""
            },
            "colorscale": [
             [
              0,
              "#0d0887"
             ],
             [
              0.1111111111111111,
              "#46039f"
             ],
             [
              0.2222222222222222,
              "#7201a8"
             ],
             [
              0.3333333333333333,
              "#9c179e"
             ],
             [
              0.4444444444444444,
              "#bd3786"
             ],
             [
              0.5555555555555556,
              "#d8576b"
             ],
             [
              0.6666666666666666,
              "#ed7953"
             ],
             [
              0.7777777777777778,
              "#fb9f3a"
             ],
             [
              0.8888888888888888,
              "#fdca26"
             ],
             [
              1,
              "#f0f921"
             ]
            ],
            "type": "histogram2d"
           }
          ],
          "histogram2dcontour": [
           {
            "colorbar": {
             "outlinewidth": 0,
             "ticks": ""
            },
            "colorscale": [
             [
              0,
              "#0d0887"
             ],
             [
              0.1111111111111111,
              "#46039f"
             ],
             [
              0.2222222222222222,
              "#7201a8"
             ],
             [
              0.3333333333333333,
              "#9c179e"
             ],
             [
              0.4444444444444444,
              "#bd3786"
             ],
             [
              0.5555555555555556,
              "#d8576b"
             ],
             [
              0.6666666666666666,
              "#ed7953"
             ],
             [
              0.7777777777777778,
              "#fb9f3a"
             ],
             [
              0.8888888888888888,
              "#fdca26"
             ],
             [
              1,
              "#f0f921"
             ]
            ],
            "type": "histogram2dcontour"
           }
          ],
          "mesh3d": [
           {
            "colorbar": {
             "outlinewidth": 0,
             "ticks": ""
            },
            "type": "mesh3d"
           }
          ],
          "parcoords": [
           {
            "line": {
             "colorbar": {
              "outlinewidth": 0,
              "ticks": ""
             }
            },
            "type": "parcoords"
           }
          ],
          "pie": [
           {
            "automargin": true,
            "type": "pie"
           }
          ],
          "scatter": [
           {
            "fillpattern": {
             "fillmode": "overlay",
             "size": 10,
             "solidity": 0.2
            },
            "type": "scatter"
           }
          ],
          "scatter3d": [
           {
            "line": {
             "colorbar": {
              "outlinewidth": 0,
              "ticks": ""
             }
            },
            "marker": {
             "colorbar": {
              "outlinewidth": 0,
              "ticks": ""
             }
            },
            "type": "scatter3d"
           }
          ],
          "scattercarpet": [
           {
            "marker": {
             "colorbar": {
              "outlinewidth": 0,
              "ticks": ""
             }
            },
            "type": "scattercarpet"
           }
          ],
          "scattergeo": [
           {
            "marker": {
             "colorbar": {
              "outlinewidth": 0,
              "ticks": ""
             }
            },
            "type": "scattergeo"
           }
          ],
          "scattergl": [
           {
            "marker": {
             "colorbar": {
              "outlinewidth": 0,
              "ticks": ""
             }
            },
            "type": "scattergl"
           }
          ],
          "scattermapbox": [
           {
            "marker": {
             "colorbar": {
              "outlinewidth": 0,
              "ticks": ""
             }
            },
            "type": "scattermapbox"
           }
          ],
          "scatterpolar": [
           {
            "marker": {
             "colorbar": {
              "outlinewidth": 0,
              "ticks": ""
             }
            },
            "type": "scatterpolar"
           }
          ],
          "scatterpolargl": [
           {
            "marker": {
             "colorbar": {
              "outlinewidth": 0,
              "ticks": ""
             }
            },
            "type": "scatterpolargl"
           }
          ],
          "scatterternary": [
           {
            "marker": {
             "colorbar": {
              "outlinewidth": 0,
              "ticks": ""
             }
            },
            "type": "scatterternary"
           }
          ],
          "surface": [
           {
            "colorbar": {
             "outlinewidth": 0,
             "ticks": ""
            },
            "colorscale": [
             [
              0,
              "#0d0887"
             ],
             [
              0.1111111111111111,
              "#46039f"
             ],
             [
              0.2222222222222222,
              "#7201a8"
             ],
             [
              0.3333333333333333,
              "#9c179e"
             ],
             [
              0.4444444444444444,
              "#bd3786"
             ],
             [
              0.5555555555555556,
              "#d8576b"
             ],
             [
              0.6666666666666666,
              "#ed7953"
             ],
             [
              0.7777777777777778,
              "#fb9f3a"
             ],
             [
              0.8888888888888888,
              "#fdca26"
             ],
             [
              1,
              "#f0f921"
             ]
            ],
            "type": "surface"
           }
          ],
          "table": [
           {
            "cells": {
             "fill": {
              "color": "#EBF0F8"
             },
             "line": {
              "color": "white"
             }
            },
            "header": {
             "fill": {
              "color": "#C8D4E3"
             },
             "line": {
              "color": "white"
             }
            },
            "type": "table"
           }
          ]
         },
         "layout": {
          "annotationdefaults": {
           "arrowcolor": "#2a3f5f",
           "arrowhead": 0,
           "arrowwidth": 1
          },
          "autotypenumbers": "strict",
          "coloraxis": {
           "colorbar": {
            "outlinewidth": 0,
            "ticks": ""
           }
          },
          "colorscale": {
           "diverging": [
            [
             0,
             "#8e0152"
            ],
            [
             0.1,
             "#c51b7d"
            ],
            [
             0.2,
             "#de77ae"
            ],
            [
             0.3,
             "#f1b6da"
            ],
            [
             0.4,
             "#fde0ef"
            ],
            [
             0.5,
             "#f7f7f7"
            ],
            [
             0.6,
             "#e6f5d0"
            ],
            [
             0.7,
             "#b8e186"
            ],
            [
             0.8,
             "#7fbc41"
            ],
            [
             0.9,
             "#4d9221"
            ],
            [
             1,
             "#276419"
            ]
           ],
           "sequential": [
            [
             0,
             "#0d0887"
            ],
            [
             0.1111111111111111,
             "#46039f"
            ],
            [
             0.2222222222222222,
             "#7201a8"
            ],
            [
             0.3333333333333333,
             "#9c179e"
            ],
            [
             0.4444444444444444,
             "#bd3786"
            ],
            [
             0.5555555555555556,
             "#d8576b"
            ],
            [
             0.6666666666666666,
             "#ed7953"
            ],
            [
             0.7777777777777778,
             "#fb9f3a"
            ],
            [
             0.8888888888888888,
             "#fdca26"
            ],
            [
             1,
             "#f0f921"
            ]
           ],
           "sequentialminus": [
            [
             0,
             "#0d0887"
            ],
            [
             0.1111111111111111,
             "#46039f"
            ],
            [
             0.2222222222222222,
             "#7201a8"
            ],
            [
             0.3333333333333333,
             "#9c179e"
            ],
            [
             0.4444444444444444,
             "#bd3786"
            ],
            [
             0.5555555555555556,
             "#d8576b"
            ],
            [
             0.6666666666666666,
             "#ed7953"
            ],
            [
             0.7777777777777778,
             "#fb9f3a"
            ],
            [
             0.8888888888888888,
             "#fdca26"
            ],
            [
             1,
             "#f0f921"
            ]
           ]
          },
          "colorway": [
           "#636efa",
           "#EF553B",
           "#00cc96",
           "#ab63fa",
           "#FFA15A",
           "#19d3f3",
           "#FF6692",
           "#B6E880",
           "#FF97FF",
           "#FECB52"
          ],
          "font": {
           "color": "#2a3f5f"
          },
          "geo": {
           "bgcolor": "white",
           "lakecolor": "white",
           "landcolor": "#E5ECF6",
           "showlakes": true,
           "showland": true,
           "subunitcolor": "white"
          },
          "hoverlabel": {
           "align": "left"
          },
          "hovermode": "closest",
          "mapbox": {
           "style": "light"
          },
          "paper_bgcolor": "white",
          "plot_bgcolor": "#E5ECF6",
          "polar": {
           "angularaxis": {
            "gridcolor": "white",
            "linecolor": "white",
            "ticks": ""
           },
           "bgcolor": "#E5ECF6",
           "radialaxis": {
            "gridcolor": "white",
            "linecolor": "white",
            "ticks": ""
           }
          },
          "scene": {
           "xaxis": {
            "backgroundcolor": "#E5ECF6",
            "gridcolor": "white",
            "gridwidth": 2,
            "linecolor": "white",
            "showbackground": true,
            "ticks": "",
            "zerolinecolor": "white"
           },
           "yaxis": {
            "backgroundcolor": "#E5ECF6",
            "gridcolor": "white",
            "gridwidth": 2,
            "linecolor": "white",
            "showbackground": true,
            "ticks": "",
            "zerolinecolor": "white"
           },
           "zaxis": {
            "backgroundcolor": "#E5ECF6",
            "gridcolor": "white",
            "gridwidth": 2,
            "linecolor": "white",
            "showbackground": true,
            "ticks": "",
            "zerolinecolor": "white"
           }
          },
          "shapedefaults": {
           "line": {
            "color": "#2a3f5f"
           }
          },
          "ternary": {
           "aaxis": {
            "gridcolor": "white",
            "linecolor": "white",
            "ticks": ""
           },
           "baxis": {
            "gridcolor": "white",
            "linecolor": "white",
            "ticks": ""
           },
           "bgcolor": "#E5ECF6",
           "caxis": {
            "gridcolor": "white",
            "linecolor": "white",
            "ticks": ""
           }
          },
          "title": {
           "x": 0.05
          },
          "xaxis": {
           "automargin": true,
           "gridcolor": "white",
           "linecolor": "white",
           "ticks": "",
           "title": {
            "standoff": 15
           },
           "zerolinecolor": "white",
           "zerolinewidth": 2
          },
          "yaxis": {
           "automargin": true,
           "gridcolor": "white",
           "linecolor": "white",
           "ticks": "",
           "title": {
            "standoff": 15
           },
           "zerolinecolor": "white",
           "zerolinewidth": 2
          }
         }
        }
       }
      }
     },
     "metadata": {},
     "output_type": "display_data"
    }
   ],
   "source": [
    "import plotly.express as px\n",
    "import pandas as pd\n",
    "df_radar = pd.DataFrame(dict(\n",
    "    r=[df_aluno.iloc[0]['IAA'], df_aluno.iloc[0]['IEG'], df_aluno.iloc[0]['IPS'], df_aluno.iloc[0]['IDA'],df_aluno.iloc[0]['IPP'],df_aluno.iloc[0]['IPV'],df_aluno.iloc[0]['IAN']],\n",
    "    theta=['IAA','IEG','IPS','IDA','IPP','IPV','IAN']))\n",
    "fig = px.line_polar(df_radar, r='r', theta='theta', line_close=True, range_r=[0,10])\n",
    "fig.update_traces(fill='toself')\n",
    "fig.show()"
   ]
  },
  {
   "cell_type": "code",
   "execution_count": 40,
   "id": "759bf55f6fe607f7",
   "metadata": {
    "ExecuteTime": {
     "end_time": "2024-08-05T21:44:01.471780Z",
     "start_time": "2024-08-05T21:44:01.327917Z"
    }
   },
   "outputs": [],
   "source": [
    "df_wind = px.data.wind()"
   ]
  },
  {
   "cell_type": "code",
   "execution_count": 41,
   "id": "b5c0361e515a5802",
   "metadata": {
    "ExecuteTime": {
     "end_time": "2024-08-05T22:39:36.474241Z",
     "start_time": "2024-08-05T22:39:36.460665Z"
    }
   },
   "outputs": [
    {
     "name": "stdout",
     "output_type": "stream",
     "text": [
      "<class 'pandas.core.frame.DataFrame'>\n",
      "RangeIndex: 128 entries, 0 to 127\n",
      "Data columns (total 3 columns):\n",
      " #   Column     Non-Null Count  Dtype  \n",
      "---  ------     --------------  -----  \n",
      " 0   direction  128 non-null    object \n",
      " 1   strength   128 non-null    object \n",
      " 2   frequency  128 non-null    float64\n",
      "dtypes: float64(1), object(2)\n",
      "memory usage: 3.1+ KB\n"
     ]
    }
   ],
   "source": [
    "df_wind.info()"
   ]
  },
  {
   "cell_type": "code",
   "execution_count": 42,
   "id": "7309517efb2484ef",
   "metadata": {
    "ExecuteTime": {
     "end_time": "2024-08-05T21:44:30.379967Z",
     "start_time": "2024-08-05T21:44:30.235981Z"
    }
   },
   "outputs": [
    {
     "data": {
      "application/vnd.plotly.v1+json": {
       "config": {
        "plotlyServerURL": "https://plot.ly"
       },
       "data": [
        {
         "hovertemplate": "strength=0-1<br>frequency=%{r}<br>direction=%{theta}<extra></extra>",
         "legendgroup": "0-1",
         "line": {
          "color": "#f0f921",
          "dash": "solid"
         },
         "marker": {
          "symbol": "circle"
         },
         "mode": "lines",
         "name": "0-1",
         "r": [
          0.5,
          0.6,
          0.5,
          0.4,
          0.4,
          0.3,
          0.4,
          0.4,
          0.6,
          0.4,
          0.5,
          0.6,
          0.6,
          0.5,
          0.4,
          0.1,
          0.5
         ],
         "showlegend": true,
         "subplot": "polar",
         "theta": [
          "N",
          "NNE",
          "NE",
          "ENE",
          "E",
          "ESE",
          "SE",
          "SSE",
          "S",
          "SSW",
          "SW",
          "WSW",
          "W",
          "WNW",
          "NW",
          "NNW",
          "N"
         ],
         "type": "scatterpolar"
        },
        {
         "hovertemplate": "strength=1-2<br>frequency=%{r}<br>direction=%{theta}<extra></extra>",
         "legendgroup": "1-2",
         "line": {
          "color": "#fdca26",
          "dash": "solid"
         },
         "marker": {
          "symbol": "circle"
         },
         "mode": "lines",
         "name": "1-2",
         "r": [
          1.6,
          1.8,
          1.5,
          1.6,
          1.6,
          1.2,
          1.5,
          1.7,
          2.2,
          2,
          2.3,
          2.4,
          2.3,
          2.6,
          2.3,
          0.8,
          1.6
         ],
         "showlegend": true,
         "subplot": "polar",
         "theta": [
          "N",
          "NNE",
          "NE",
          "ENE",
          "E",
          "ESE",
          "SE",
          "SSE",
          "S",
          "SSW",
          "SW",
          "WSW",
          "W",
          "WNW",
          "NW",
          "NNW",
          "N"
         ],
         "type": "scatterpolar"
        },
        {
         "hovertemplate": "strength=2-3<br>frequency=%{r}<br>direction=%{theta}<extra></extra>",
         "legendgroup": "2-3",
         "line": {
          "color": "#fb9f3a",
          "dash": "solid"
         },
         "marker": {
          "symbol": "circle"
         },
         "mode": "lines",
         "name": "2-3",
         "r": [
          0.9,
          1.3,
          1.6,
          0.9,
          1,
          0.6,
          0.6,
          0.9,
          1.4,
          1.7,
          1.9,
          2.2,
          1.8,
          1.7,
          1.8,
          0.8,
          0.9
         ],
         "showlegend": true,
         "subplot": "polar",
         "theta": [
          "N",
          "NNE",
          "NE",
          "ENE",
          "E",
          "ESE",
          "SE",
          "SSE",
          "S",
          "SSW",
          "SW",
          "WSW",
          "W",
          "WNW",
          "NW",
          "NNW",
          "N"
         ],
         "type": "scatterpolar"
        },
        {
         "hovertemplate": "strength=3-4<br>frequency=%{r}<br>direction=%{theta}<extra></extra>",
         "legendgroup": "3-4",
         "line": {
          "color": "#ed7953",
          "dash": "solid"
         },
         "marker": {
          "symbol": "circle"
         },
         "mode": "lines",
         "name": "3-4",
         "r": [
          0.9,
          0.8,
          1.2,
          1,
          0.8,
          0.4,
          0.5,
          0.5,
          0.8,
          0.9,
          1.3,
          1.1,
          1.2,
          1.2,
          1.3,
          1,
          0.9
         ],
         "showlegend": true,
         "subplot": "polar",
         "theta": [
          "N",
          "NNE",
          "NE",
          "ENE",
          "E",
          "ESE",
          "SE",
          "SSE",
          "S",
          "SSW",
          "SW",
          "WSW",
          "W",
          "WNW",
          "NW",
          "NNW",
          "N"
         ],
         "type": "scatterpolar"
        },
        {
         "hovertemplate": "strength=4-4<br>frequency=%{r}<br>direction=%{theta}<extra></extra>",
         "legendgroup": "4-4",
         "line": {
          "color": "#d8576b",
          "dash": "solid"
         },
         "marker": {
          "symbol": "circle"
         },
         "mode": "lines",
         "name": "4-4",
         "r": [
          0.4,
          0.5,
          1.2,
          0.5,
          0.4,
          0.2,
          0.4,
          0.4,
          0.7,
          0.6,
          0.7,
          0.8,
          0.9,
          1,
          1,
          0.7,
          0.4
         ],
         "showlegend": true,
         "subplot": "polar",
         "theta": [
          "N",
          "NNE",
          "NE",
          "ENE",
          "E",
          "ESE",
          "SE",
          "SSE",
          "S",
          "SSW",
          "SW",
          "WSW",
          "W",
          "WNW",
          "NW",
          "NNW",
          "N"
         ],
         "type": "scatterpolar"
        },
        {
         "hovertemplate": "strength=4-5<br>frequency=%{r}<br>direction=%{theta}<extra></extra>",
         "legendgroup": "4-5",
         "line": {
          "color": "#bd3786",
          "dash": "solid"
         },
         "marker": {
          "symbol": "circle"
         },
         "mode": "lines",
         "name": "4-5",
         "r": [
          0.3,
          0.3,
          0.6,
          0.2,
          0.1,
          0.1,
          0.05,
          0.1,
          0.1,
          0.2,
          0.3,
          0.4,
          0.9,
          0.9,
          0.9,
          0.3,
          0.3
         ],
         "showlegend": true,
         "subplot": "polar",
         "theta": [
          "N",
          "NNE",
          "NE",
          "ENE",
          "E",
          "ESE",
          "SE",
          "SSE",
          "S",
          "SSW",
          "SW",
          "WSW",
          "W",
          "WNW",
          "NW",
          "NNW",
          "N"
         ],
         "type": "scatterpolar"
        },
        {
         "hovertemplate": "strength=5-6<br>frequency=%{r}<br>direction=%{theta}<extra></extra>",
         "legendgroup": "5-6",
         "line": {
          "color": "#9c179e",
          "dash": "solid"
         },
         "marker": {
          "symbol": "circle"
         },
         "mode": "lines",
         "name": "5-6",
         "r": [
          0.2,
          0.1,
          0.1,
          0.1,
          0.1,
          0.1,
          0.05,
          0.05,
          0.1,
          0.05,
          0.2,
          0.2,
          0.4,
          0.7,
          0.7,
          0.4,
          0.2
         ],
         "showlegend": true,
         "subplot": "polar",
         "theta": [
          "N",
          "NNE",
          "NE",
          "ENE",
          "E",
          "ESE",
          "SE",
          "SSE",
          "S",
          "SSW",
          "SW",
          "WSW",
          "W",
          "WNW",
          "NW",
          "NNW",
          "N"
         ],
         "type": "scatterpolar"
        },
        {
         "hovertemplate": "strength=6+<br>frequency=%{r}<br>direction=%{theta}<extra></extra>",
         "legendgroup": "6+",
         "line": {
          "color": "#7201a8",
          "dash": "solid"
         },
         "marker": {
          "symbol": "circle"
         },
         "mode": "lines",
         "name": "6+",
         "r": [
          0.1,
          0.1,
          0.1,
          0.1,
          0.1,
          0.05,
          0.05,
          0.05,
          0.05,
          0.1,
          0.1,
          0.1,
          0.9,
          2.2,
          1.5,
          0.2,
          0.1
         ],
         "showlegend": true,
         "subplot": "polar",
         "theta": [
          "N",
          "NNE",
          "NE",
          "ENE",
          "E",
          "ESE",
          "SE",
          "SSE",
          "S",
          "SSW",
          "SW",
          "WSW",
          "W",
          "WNW",
          "NW",
          "NNW",
          "N"
         ],
         "type": "scatterpolar"
        }
       ],
       "layout": {
        "legend": {
         "title": {
          "text": "strength"
         },
         "tracegroupgap": 0
        },
        "margin": {
         "t": 60
        },
        "polar": {
         "angularaxis": {
          "direction": "clockwise",
          "rotation": 90
         },
         "domain": {
          "x": [
           0,
           1
          ],
          "y": [
           0,
           1
          ]
         }
        },
        "template": {
         "data": {
          "bar": [
           {
            "error_x": {
             "color": "#f2f5fa"
            },
            "error_y": {
             "color": "#f2f5fa"
            },
            "marker": {
             "line": {
              "color": "rgb(17,17,17)",
              "width": 0.5
             },
             "pattern": {
              "fillmode": "overlay",
              "size": 10,
              "solidity": 0.2
             }
            },
            "type": "bar"
           }
          ],
          "barpolar": [
           {
            "marker": {
             "line": {
              "color": "rgb(17,17,17)",
              "width": 0.5
             },
             "pattern": {
              "fillmode": "overlay",
              "size": 10,
              "solidity": 0.2
             }
            },
            "type": "barpolar"
           }
          ],
          "carpet": [
           {
            "aaxis": {
             "endlinecolor": "#A2B1C6",
             "gridcolor": "#506784",
             "linecolor": "#506784",
             "minorgridcolor": "#506784",
             "startlinecolor": "#A2B1C6"
            },
            "baxis": {
             "endlinecolor": "#A2B1C6",
             "gridcolor": "#506784",
             "linecolor": "#506784",
             "minorgridcolor": "#506784",
             "startlinecolor": "#A2B1C6"
            },
            "type": "carpet"
           }
          ],
          "choropleth": [
           {
            "colorbar": {
             "outlinewidth": 0,
             "ticks": ""
            },
            "type": "choropleth"
           }
          ],
          "contour": [
           {
            "colorbar": {
             "outlinewidth": 0,
             "ticks": ""
            },
            "colorscale": [
             [
              0,
              "#0d0887"
             ],
             [
              0.1111111111111111,
              "#46039f"
             ],
             [
              0.2222222222222222,
              "#7201a8"
             ],
             [
              0.3333333333333333,
              "#9c179e"
             ],
             [
              0.4444444444444444,
              "#bd3786"
             ],
             [
              0.5555555555555556,
              "#d8576b"
             ],
             [
              0.6666666666666666,
              "#ed7953"
             ],
             [
              0.7777777777777778,
              "#fb9f3a"
             ],
             [
              0.8888888888888888,
              "#fdca26"
             ],
             [
              1,
              "#f0f921"
             ]
            ],
            "type": "contour"
           }
          ],
          "contourcarpet": [
           {
            "colorbar": {
             "outlinewidth": 0,
             "ticks": ""
            },
            "type": "contourcarpet"
           }
          ],
          "heatmap": [
           {
            "colorbar": {
             "outlinewidth": 0,
             "ticks": ""
            },
            "colorscale": [
             [
              0,
              "#0d0887"
             ],
             [
              0.1111111111111111,
              "#46039f"
             ],
             [
              0.2222222222222222,
              "#7201a8"
             ],
             [
              0.3333333333333333,
              "#9c179e"
             ],
             [
              0.4444444444444444,
              "#bd3786"
             ],
             [
              0.5555555555555556,
              "#d8576b"
             ],
             [
              0.6666666666666666,
              "#ed7953"
             ],
             [
              0.7777777777777778,
              "#fb9f3a"
             ],
             [
              0.8888888888888888,
              "#fdca26"
             ],
             [
              1,
              "#f0f921"
             ]
            ],
            "type": "heatmap"
           }
          ],
          "heatmapgl": [
           {
            "colorbar": {
             "outlinewidth": 0,
             "ticks": ""
            },
            "colorscale": [
             [
              0,
              "#0d0887"
             ],
             [
              0.1111111111111111,
              "#46039f"
             ],
             [
              0.2222222222222222,
              "#7201a8"
             ],
             [
              0.3333333333333333,
              "#9c179e"
             ],
             [
              0.4444444444444444,
              "#bd3786"
             ],
             [
              0.5555555555555556,
              "#d8576b"
             ],
             [
              0.6666666666666666,
              "#ed7953"
             ],
             [
              0.7777777777777778,
              "#fb9f3a"
             ],
             [
              0.8888888888888888,
              "#fdca26"
             ],
             [
              1,
              "#f0f921"
             ]
            ],
            "type": "heatmapgl"
           }
          ],
          "histogram": [
           {
            "marker": {
             "pattern": {
              "fillmode": "overlay",
              "size": 10,
              "solidity": 0.2
             }
            },
            "type": "histogram"
           }
          ],
          "histogram2d": [
           {
            "colorbar": {
             "outlinewidth": 0,
             "ticks": ""
            },
            "colorscale": [
             [
              0,
              "#0d0887"
             ],
             [
              0.1111111111111111,
              "#46039f"
             ],
             [
              0.2222222222222222,
              "#7201a8"
             ],
             [
              0.3333333333333333,
              "#9c179e"
             ],
             [
              0.4444444444444444,
              "#bd3786"
             ],
             [
              0.5555555555555556,
              "#d8576b"
             ],
             [
              0.6666666666666666,
              "#ed7953"
             ],
             [
              0.7777777777777778,
              "#fb9f3a"
             ],
             [
              0.8888888888888888,
              "#fdca26"
             ],
             [
              1,
              "#f0f921"
             ]
            ],
            "type": "histogram2d"
           }
          ],
          "histogram2dcontour": [
           {
            "colorbar": {
             "outlinewidth": 0,
             "ticks": ""
            },
            "colorscale": [
             [
              0,
              "#0d0887"
             ],
             [
              0.1111111111111111,
              "#46039f"
             ],
             [
              0.2222222222222222,
              "#7201a8"
             ],
             [
              0.3333333333333333,
              "#9c179e"
             ],
             [
              0.4444444444444444,
              "#bd3786"
             ],
             [
              0.5555555555555556,
              "#d8576b"
             ],
             [
              0.6666666666666666,
              "#ed7953"
             ],
             [
              0.7777777777777778,
              "#fb9f3a"
             ],
             [
              0.8888888888888888,
              "#fdca26"
             ],
             [
              1,
              "#f0f921"
             ]
            ],
            "type": "histogram2dcontour"
           }
          ],
          "mesh3d": [
           {
            "colorbar": {
             "outlinewidth": 0,
             "ticks": ""
            },
            "type": "mesh3d"
           }
          ],
          "parcoords": [
           {
            "line": {
             "colorbar": {
              "outlinewidth": 0,
              "ticks": ""
             }
            },
            "type": "parcoords"
           }
          ],
          "pie": [
           {
            "automargin": true,
            "type": "pie"
           }
          ],
          "scatter": [
           {
            "marker": {
             "line": {
              "color": "#283442"
             }
            },
            "type": "scatter"
           }
          ],
          "scatter3d": [
           {
            "line": {
             "colorbar": {
              "outlinewidth": 0,
              "ticks": ""
             }
            },
            "marker": {
             "colorbar": {
              "outlinewidth": 0,
              "ticks": ""
             }
            },
            "type": "scatter3d"
           }
          ],
          "scattercarpet": [
           {
            "marker": {
             "colorbar": {
              "outlinewidth": 0,
              "ticks": ""
             }
            },
            "type": "scattercarpet"
           }
          ],
          "scattergeo": [
           {
            "marker": {
             "colorbar": {
              "outlinewidth": 0,
              "ticks": ""
             }
            },
            "type": "scattergeo"
           }
          ],
          "scattergl": [
           {
            "marker": {
             "line": {
              "color": "#283442"
             }
            },
            "type": "scattergl"
           }
          ],
          "scattermapbox": [
           {
            "marker": {
             "colorbar": {
              "outlinewidth": 0,
              "ticks": ""
             }
            },
            "type": "scattermapbox"
           }
          ],
          "scatterpolar": [
           {
            "marker": {
             "colorbar": {
              "outlinewidth": 0,
              "ticks": ""
             }
            },
            "type": "scatterpolar"
           }
          ],
          "scatterpolargl": [
           {
            "marker": {
             "colorbar": {
              "outlinewidth": 0,
              "ticks": ""
             }
            },
            "type": "scatterpolargl"
           }
          ],
          "scatterternary": [
           {
            "marker": {
             "colorbar": {
              "outlinewidth": 0,
              "ticks": ""
             }
            },
            "type": "scatterternary"
           }
          ],
          "surface": [
           {
            "colorbar": {
             "outlinewidth": 0,
             "ticks": ""
            },
            "colorscale": [
             [
              0,
              "#0d0887"
             ],
             [
              0.1111111111111111,
              "#46039f"
             ],
             [
              0.2222222222222222,
              "#7201a8"
             ],
             [
              0.3333333333333333,
              "#9c179e"
             ],
             [
              0.4444444444444444,
              "#bd3786"
             ],
             [
              0.5555555555555556,
              "#d8576b"
             ],
             [
              0.6666666666666666,
              "#ed7953"
             ],
             [
              0.7777777777777778,
              "#fb9f3a"
             ],
             [
              0.8888888888888888,
              "#fdca26"
             ],
             [
              1,
              "#f0f921"
             ]
            ],
            "type": "surface"
           }
          ],
          "table": [
           {
            "cells": {
             "fill": {
              "color": "#506784"
             },
             "line": {
              "color": "rgb(17,17,17)"
             }
            },
            "header": {
             "fill": {
              "color": "#2a3f5f"
             },
             "line": {
              "color": "rgb(17,17,17)"
             }
            },
            "type": "table"
           }
          ]
         },
         "layout": {
          "annotationdefaults": {
           "arrowcolor": "#f2f5fa",
           "arrowhead": 0,
           "arrowwidth": 1
          },
          "autotypenumbers": "strict",
          "coloraxis": {
           "colorbar": {
            "outlinewidth": 0,
            "ticks": ""
           }
          },
          "colorscale": {
           "diverging": [
            [
             0,
             "#8e0152"
            ],
            [
             0.1,
             "#c51b7d"
            ],
            [
             0.2,
             "#de77ae"
            ],
            [
             0.3,
             "#f1b6da"
            ],
            [
             0.4,
             "#fde0ef"
            ],
            [
             0.5,
             "#f7f7f7"
            ],
            [
             0.6,
             "#e6f5d0"
            ],
            [
             0.7,
             "#b8e186"
            ],
            [
             0.8,
             "#7fbc41"
            ],
            [
             0.9,
             "#4d9221"
            ],
            [
             1,
             "#276419"
            ]
           ],
           "sequential": [
            [
             0,
             "#0d0887"
            ],
            [
             0.1111111111111111,
             "#46039f"
            ],
            [
             0.2222222222222222,
             "#7201a8"
            ],
            [
             0.3333333333333333,
             "#9c179e"
            ],
            [
             0.4444444444444444,
             "#bd3786"
            ],
            [
             0.5555555555555556,
             "#d8576b"
            ],
            [
             0.6666666666666666,
             "#ed7953"
            ],
            [
             0.7777777777777778,
             "#fb9f3a"
            ],
            [
             0.8888888888888888,
             "#fdca26"
            ],
            [
             1,
             "#f0f921"
            ]
           ],
           "sequentialminus": [
            [
             0,
             "#0d0887"
            ],
            [
             0.1111111111111111,
             "#46039f"
            ],
            [
             0.2222222222222222,
             "#7201a8"
            ],
            [
             0.3333333333333333,
             "#9c179e"
            ],
            [
             0.4444444444444444,
             "#bd3786"
            ],
            [
             0.5555555555555556,
             "#d8576b"
            ],
            [
             0.6666666666666666,
             "#ed7953"
            ],
            [
             0.7777777777777778,
             "#fb9f3a"
            ],
            [
             0.8888888888888888,
             "#fdca26"
            ],
            [
             1,
             "#f0f921"
            ]
           ]
          },
          "colorway": [
           "#636efa",
           "#EF553B",
           "#00cc96",
           "#ab63fa",
           "#FFA15A",
           "#19d3f3",
           "#FF6692",
           "#B6E880",
           "#FF97FF",
           "#FECB52"
          ],
          "font": {
           "color": "#f2f5fa"
          },
          "geo": {
           "bgcolor": "rgb(17,17,17)",
           "lakecolor": "rgb(17,17,17)",
           "landcolor": "rgb(17,17,17)",
           "showlakes": true,
           "showland": true,
           "subunitcolor": "#506784"
          },
          "hoverlabel": {
           "align": "left"
          },
          "hovermode": "closest",
          "mapbox": {
           "style": "dark"
          },
          "paper_bgcolor": "rgb(17,17,17)",
          "plot_bgcolor": "rgb(17,17,17)",
          "polar": {
           "angularaxis": {
            "gridcolor": "#506784",
            "linecolor": "#506784",
            "ticks": ""
           },
           "bgcolor": "rgb(17,17,17)",
           "radialaxis": {
            "gridcolor": "#506784",
            "linecolor": "#506784",
            "ticks": ""
           }
          },
          "scene": {
           "xaxis": {
            "backgroundcolor": "rgb(17,17,17)",
            "gridcolor": "#506784",
            "gridwidth": 2,
            "linecolor": "#506784",
            "showbackground": true,
            "ticks": "",
            "zerolinecolor": "#C8D4E3"
           },
           "yaxis": {
            "backgroundcolor": "rgb(17,17,17)",
            "gridcolor": "#506784",
            "gridwidth": 2,
            "linecolor": "#506784",
            "showbackground": true,
            "ticks": "",
            "zerolinecolor": "#C8D4E3"
           },
           "zaxis": {
            "backgroundcolor": "rgb(17,17,17)",
            "gridcolor": "#506784",
            "gridwidth": 2,
            "linecolor": "#506784",
            "showbackground": true,
            "ticks": "",
            "zerolinecolor": "#C8D4E3"
           }
          },
          "shapedefaults": {
           "line": {
            "color": "#f2f5fa"
           }
          },
          "sliderdefaults": {
           "bgcolor": "#C8D4E3",
           "bordercolor": "rgb(17,17,17)",
           "borderwidth": 1,
           "tickwidth": 0
          },
          "ternary": {
           "aaxis": {
            "gridcolor": "#506784",
            "linecolor": "#506784",
            "ticks": ""
           },
           "baxis": {
            "gridcolor": "#506784",
            "linecolor": "#506784",
            "ticks": ""
           },
           "bgcolor": "rgb(17,17,17)",
           "caxis": {
            "gridcolor": "#506784",
            "linecolor": "#506784",
            "ticks": ""
           }
          },
          "title": {
           "x": 0.05
          },
          "updatemenudefaults": {
           "bgcolor": "#506784",
           "borderwidth": 0
          },
          "xaxis": {
           "automargin": true,
           "gridcolor": "#283442",
           "linecolor": "#506784",
           "ticks": "",
           "title": {
            "standoff": 15
           },
           "zerolinecolor": "#283442",
           "zerolinewidth": 2
          },
          "yaxis": {
           "automargin": true,
           "gridcolor": "#283442",
           "linecolor": "#506784",
           "ticks": "",
           "title": {
            "standoff": 15
           },
           "zerolinecolor": "#283442",
           "zerolinewidth": 2
          }
         }
        }
       }
      }
     },
     "metadata": {},
     "output_type": "display_data"
    }
   ],
   "source": [
    "# Create a polar line plot\n",
    "fig = px.line_polar(df_wind, r=\"frequency\", theta=\"direction\", color=\"strength\",\n",
    "                    line_close=True, color_discrete_sequence=px.colors.sequential.Plasma_r,\n",
    "                    template=\"plotly_dark\")\n",
    "fig.show()"
   ]
  },
  {
   "cell_type": "code",
   "execution_count": null,
   "id": "14ad55b4cdda267b",
   "metadata": {},
   "outputs": [],
   "source": []
  }
 ],
 "metadata": {
  "kernelspec": {
   "display_name": "Python 3",
   "language": "python",
   "name": "python3"
  },
  "language_info": {
   "codemirror_mode": {
    "name": "ipython",
    "version": 3
   },
   "file_extension": ".py",
   "mimetype": "text/x-python",
   "name": "python",
   "nbconvert_exporter": "python",
   "pygments_lexer": "ipython3",
   "version": "3.9.16"
  }
 },
 "nbformat": 4,
 "nbformat_minor": 5
}
